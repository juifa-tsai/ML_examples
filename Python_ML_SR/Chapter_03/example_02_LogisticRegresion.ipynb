{
 "cells": [
  {
   "cell_type": "markdown",
   "metadata": {},
   "source": [
    "# Example 2. Logistic regresion\n",
    "---\n",
    "Logistic regression is a classification learning algorithm, instead of regression. The major idea of the algorithm is based on probability for *intersted event*, it's set $p$, and the value is within $0<p<1$. The ratio of interst probability, called *odds ratio*, is defined $\\frac{p}{1-p}$. The logistic function is defined as \n",
    "\n",
    "$$\n",
    "\\begin{equation}\n",
    "logist(p)=\\log\\frac{p}{1-p}\\ ,\n",
    "\\end{equation}\n",
    "$$\n",
    "\n",
    "which is also called *log-odds*. When the $p$ is greater (smaller) than 0.5, the $logist(p)$ is postive (negtive), which can make the certain threshold for classication. Moreover, the $logist(p)$ can be made by feature variables with certain weights as \n",
    "\n",
    "$$\n",
    "\\begin{equation}\n",
    "\\begin{split}\n",
    "logist\\left(p(y=1|X)\\right)&=w_0x_0+w_1x_1+...+w_mx_m \\\\\n",
    "&= w^TX \\\\\n",
    "&= z(w)\\ ,\n",
    "\\end{split}\n",
    "\\end{equation}\n",
    "$$\n",
    "\n",
    "where $p(y=1|X)$ means the probability of $y=1$, which the interest (target) class, with givan $X$. Since we are interested the outcome of $p$ which is correlated to $z(w)$, the correlation can be obtained by\n",
    "\n",
    "$$\n",
    "\\begin{equation}\n",
    "\\begin{split}\n",
    "z &= \\log\\frac{p}{1-p} \\\\\n",
    "e^{-z}&=\\frac{1}{p}-1 \\\\\n",
    "p &= \\frac{1}{1+e^{z}}\\ .\n",
    "\\end{split}\n",
    "\\end{equation}\n",
    "$$\n",
    "\n",
    "The $p$ is replaced to $\\phi(z)$ as an objactive function as \n",
    "$$\n",
    "\\begin{equation}\n",
    "\\phi(z) = \\frac{1}{1+e^{z}}\\ ,\n",
    "\\end{equation}\n",
    "$$\n",
    "\n",
    "which has S-curvature behavior and is called **sigmoid function**. The function represents the probality of intersted class for inputting data. By giving the threshold $\\phi(z)>0.5$, the data can be classified to the interested or non-interested event as $y=1$ or $y=0$, respectively, which is also correspoding to $z>0$. The visulization of sigmoid function is as following:"
   ]
  },
  {
   "cell_type": "code",
   "execution_count": 1,
   "metadata": {
    "collapsed": true
   },
   "outputs": [],
   "source": [
    "import matplotlib.pyplot as plt\n",
    "import numpy as np"
   ]
  },
  {
   "cell_type": "code",
   "execution_count": 2,
   "metadata": {
    "collapsed": true
   },
   "outputs": [],
   "source": [
    "def sigmoid(z):\n",
    "    return 1./(1.+np.exp(-z))"
   ]
  },
  {
   "cell_type": "code",
   "execution_count": 3,
   "metadata": {},
   "outputs": [
    {
     "data": {
      "image/png": "[encoded data removed]",
      "text/plain": [
       "<matplotlib.figure.Figure at 0x111be7a10>"
      ]
     },
     "metadata": {},
     "output_type": "display_data"
    }
   ],
   "source": [
    "z = np.arange(-7, 7, 0.1)\n",
    "phi_z = sigmoid(z)\n",
    "plt.figure(figsize=(8, 6))\n",
    "plt.plot(z, phi_z, c='orange') # sigmoid line\n",
    "plt.axvline(0., color='k') # vertical line at 0\n",
    "plt.axhspan(0., 1., alpha=1, ls='dotted')\n",
    "plt.axhline(y=0.5, ls='dotted', color='k')\n",
    "plt.show()"
   ]
  },
  {
   "cell_type": "markdown",
   "metadata": {},
   "source": [
    "The cost function $J(w)$ of logistic regression is designed by likelihood function $L(w)$, which is defined as\n",
    "\n",
    "$$\n",
    "\\begin{equation}\n",
    "\\begin{split}\n",
    "L(w) = P(y|X;w) &= \\prod_{i=1}^{n}P(y^{(i)}|x^{(i)};w) \\\\\n",
    "&= \\prod_{i=1}^{n}\\left(\\phi\\left(z^{(i)}\\right)^{y^{(i)}}\\right)\\left(1-\\phi\\left(z^{(i)}\\right)^{y^{(i)}}\\right)\\ ,\n",
    "\\end{split}\n",
    "\\end{equation}\n",
    "$$\n",
    "\n",
    "where $y$ is either 1 or 0, which makes only a term left either $\\phi\\left(z^{(i)}\\right)^{y^{(i)}}$ or $1-\\phi\\left(z^{(i)}\\right)^{y^{(i)}}$, respectively. The maximum $L(w)$ is the optimazied solution which is the same as the minimum solution of $-\\log L(w)$, defined as  \n",
    "\n",
    "$$\n",
    "\\begin{equation}\n",
    "l(w) = -\\log L(w)= -\\sum_{i=1}^{n}\\left(y^{(i)}\\right)\\log\\left(\\phi\\left(z^{(i)}\\right)^{y^{(i)}}\\right)+\\left(1-y^{(i)}\\right)\\log\\left(1-\\phi\\left(z^{(i)}\\right)^{y^{(i)}}\\right)\\ .\n",
    "\\end{equation}\n",
    "$$\n",
    "\n",
    "Thus the **cost function $J(w)$** is defined by $l(w)$."
   ]
  },
  {
   "cell_type": "markdown",
   "metadata": {},
   "source": [
    "### 1\\. Import Iris datasets and modules"
   ]
  },
  {
   "cell_type": "code",
   "execution_count": 4,
   "metadata": {
    "collapsed": true
   },
   "outputs": [],
   "source": [
    "from sklearn import datasets\n",
    "import numpy as np"
   ]
  },
  {
   "cell_type": "code",
   "execution_count": 5,
   "metadata": {},
   "outputs": [
    {
     "data": {
      "text/plain": [
       "array([0, 1, 2])"
      ]
     },
     "execution_count": 5,
     "metadata": {},
     "output_type": "execute_result"
    }
   ],
   "source": [
    "iris = datasets.load_iris()\n",
    "X = iris.data[:, [2,3]]\n",
    "y = iris.target\n",
    "np.unique(y)"
   ]
  },
  {
   "cell_type": "code",
   "execution_count": 6,
   "metadata": {
    "collapsed": true
   },
   "outputs": [],
   "source": [
    "from sklearn.model_selection import train_test_split\n",
    "from sklearn.preprocessing import StandardScaler"
   ]
  },
  {
   "cell_type": "code",
   "execution_count": 7,
   "metadata": {
    "collapsed": true
   },
   "outputs": [],
   "source": [
    "X_train, X_test, y_train, y_test = train_test_split( X, y, test_size=0.3, random_state=0 )\n",
    "sc = StandardScaler()\n",
    "sc.fit(X_train)\n",
    "X_train_std = sc.transform(X_train)\n",
    "X_test_std = sc.transform(X_test)"
   ]
  },
  {
   "cell_type": "markdown",
   "metadata": {},
   "source": [
    "### 2\\. Logistic regression by Sklearn\n",
    "#### Fit and prediction"
   ]
  },
  {
   "cell_type": "code",
   "execution_count": 8,
   "metadata": {
    "collapsed": true
   },
   "outputs": [],
   "source": [
    "from sklearn.linear_model import LogisticRegression"
   ]
  },
  {
   "cell_type": "code",
   "execution_count": 9,
   "metadata": {},
   "outputs": [
    {
     "data": {
      "text/plain": [
       "LogisticRegression(C=1000.0, class_weight=None, dual=False,\n",
       "          fit_intercept=True, intercept_scaling=1, max_iter=100,\n",
       "          multi_class='ovr', n_jobs=1, penalty='l2', random_state=0,\n",
       "          solver='liblinear', tol=0.0001, verbose=0, warm_start=False)"
      ]
     },
     "execution_count": 9,
     "metadata": {},
     "output_type": "execute_result"
    }
   ],
   "source": [
    "lr = LogisticRegression( C=1000.0, random_state=0) # C is regularization parameter\n",
    "lr.fit(X_train_std, y_train)"
   ]
  },
  {
   "cell_type": "code",
   "execution_count": 10,
   "metadata": {
    "collapsed": true
   },
   "outputs": [],
   "source": [
    "from plot_decision_regions import plot_decision_regions\n",
    "import matplotlib.pyplot as plt"
   ]
  },
  {
   "cell_type": "code",
   "execution_count": 11,
   "metadata": {},
   "outputs": [
    {
     "data": {
      "image/png": "[encoded data removed]",
      "text/plain": [
       "<matplotlib.figure.Figure at 0x11a77d110>"
      ]
     },
     "metadata": {},
     "output_type": "display_data"
    }
   ],
   "source": [
    "plt.figure(figsize=(8, 6))\n",
    "\n",
    "X_combined_std = np.vstack( (X_train_std, X_test_std) )\n",
    "y_combined = np.hstack( (y_train, y_test) )\n",
    "plot_decision_regions( X=X_combined_std, y=y_combined, classifier=lr, test_idx=range(105,150) )\n",
    "plt.xlabel('petal length [std.]')\n",
    "plt.ylabel('petal width [std.]')\n",
    "plt.legend(loc='upper left')\n",
    "plt.show()"
   ]
  },
  {
   "cell_type": "markdown",
   "metadata": {},
   "source": [
    "#### Prediction"
   ]
  },
  {
   "cell_type": "code",
   "execution_count": 15,
   "metadata": {},
   "outputs": [
    {
     "name": "stderr",
     "output_type": "stream",
     "text": [
      "/Users/Alpha/anaconda/lib/python2.7/site-packages/sklearn/utils/validation.py:395: DeprecationWarning: Passing 1d arrays as data is deprecated in 0.17 and will raise ValueError in 0.19. Reshape your data either using X.reshape(-1, 1) if your data has a single feature or X.reshape(1, -1) if it contains a single sample.\n",
      "  DeprecationWarning)\n"
     ]
    },
    {
     "data": {
      "text/plain": [
       "array([[  2.05743774e-11,   6.31620264e-02,   9.36837974e-01]])"
      ]
     },
     "execution_count": 15,
     "metadata": {},
     "output_type": "execute_result"
    }
   ],
   "source": [
    "lr.predict_proba(X_test_std[0,:])"
   ]
  },
  {
   "cell_type": "markdown",
   "metadata": {},
   "source": [
    "This means **93.7%** is Iris-Virginica, **6.3%** is Iris-Versicolor"
   ]
  },
  {
   "cell_type": "markdown",
   "metadata": {},
   "source": [
    "### 3\\. Regularization by L2"
   ]
  },
  {
   "cell_type": "markdown",
   "metadata": {},
   "source": [
    "In the above test, we introduce a parameter **C** for fit which is called *regularization parameter*. The regularization is for avoiding the overfitting during training and obtainting a smooth trained model, i.e. reducing the effect from noice data. Here we first introduce one of regularization terms called **L2 regularization** and defined as\n",
    "\n",
    "$$\n",
    "\\begin{equation}\n",
    "\\frac{\\lambda}{2}||w||^2=\\frac{\\lambda}{2}\\sum_{j=1}^{m}w^2_j\\ .\n",
    "\\end{equation}\n",
    "$$\n",
    "\n",
    "The term in added in cost function of logistic regression as\n",
    "\n",
    "$$\n",
    "\\begin{equation}\n",
    "J(w) = -\\sum_{i=1}^{n}\\left(y^{(i)}\\right)\\log\\left(\\phi\\left(z^{(i)}\\right)^{y^{(i)}}\\right)+\\left(1-y^{(i)}\\right)\\log\\left(1-\\phi\\left(z^{(i)}\\right)^{y^{(i)}}\\right)+\\frac{\\lambda}{2}||w||^2\\ .\n",
    "\\end{equation}\n",
    "$$\n",
    "\n",
    "We can re-define the cost function by replacing $C=\\frac{1}{\\lambda}$ as\n",
    "\n",
    "$$\n",
    "\\begin{equation}\n",
    "J(w) = C\\left[-\\sum_{i=1}^{n}\\left(y^{(i)}\\right)\\log\\left(\\phi\\left(z^{(i)}\\right)^{y^{(i)}}\\right)+\\left(1-y^{(i)}\\right)\\log\\left(1-\\phi\\left(z^{(i)}\\right)^{y^{(i)}}\\right)\\right]+\\frac{1}{2}||w||^2\\ ,\n",
    "\\end{equation}\n",
    "$$\n",
    "\n",
    "where $C$ is called *inverse regularization parameter*. Following is showing the effect of tuning the regularization parameter:"
   ]
  },
  {
   "cell_type": "code",
   "execution_count": 18,
   "metadata": {},
   "outputs": [],
   "source": [
    "weights, params = [], []\n",
    "for c in np.arange(-5, 5):\n",
    "    lr = LogisticRegression(C=10.**c, random_state=0)\n",
    "    lr.fit( X_train_std, y_train)\n",
    "    weights.append( lr.coef_[1] )\n",
    "    params.append(10.**c)\n",
    "weights = np.array(weights)"
   ]
  },
  {
   "cell_type": "code",
   "execution_count": 20,
   "metadata": {},
   "outputs": [
    {
     "data": {
      "text/plain": [
       "<matplotlib.figure.Figure at 0x11dfc6a10>"
      ]
     },
     "metadata": {},
     "output_type": "display_data"
    },
    {
     "data": {
      "image/png": "[encoded data removed]",
      "text/plain": [
       "<matplotlib.figure.Figure at 0x11ca73f90>"
      ]
     },
     "metadata": {},
     "output_type": "display_data"
    }
   ],
   "source": [
    "plt.figure(figsize=(8, 6))\n",
    "plt.plot(params, weights[:, 0], label='petal length')\n",
    "plt.plot(params, weights[:, 1], label='petal width', linestyle='--')\n",
    "plt.ylabel('weight coefficient')\n",
    "plt.xlabel('C')\n",
    "plt.legend(loc='upper left')\n",
    "plt.xscale('log')\n",
    "plt.show()"
   ]
  },
  {
   "cell_type": "markdown",
   "metadata": {},
   "source": [
    "As **C** is small ($\\lambda$ is large), the strength of weights is weak which makes the objective function (model) is smooth, i.e. the regularization is strong. However, as **C** is getting large ($\\lambda$ is small), the strength of weights is strong, and it may enhance the effect of noice, which is the lower regularization case."
   ]
  },
  {
   "cell_type": "code",
   "execution_count": null,
   "metadata": {
    "collapsed": true
   },
   "outputs": [],
   "source": []
  }
 ],
 "metadata": {
  "kernelspec": {
   "display_name": "Python 2",
   "language": "python",
   "name": "python2"
  },
  "language_info": {
   "codemirror_mode": {
    "name": "ipython",
    "version": 2
   },
   "file_extension": ".py",
   "mimetype": "text/x-python",
   "name": "python",
   "nbconvert_exporter": "python",
   "pygments_lexer": "ipython2",
   "version": "2.7.13"
  }
 },
 "nbformat": 4,
 "nbformat_minor": 2
}

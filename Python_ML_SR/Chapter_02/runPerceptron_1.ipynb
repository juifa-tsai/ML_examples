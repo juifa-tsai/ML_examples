{
 "cells": [
  {
   "cell_type": "markdown",
   "metadata": {},
   "source": [
    "# Run the hand-made Perceptron class (with shuffled data)\n",
    "------\n",
    "### Import basic needed modules"
   ]
  },
  {
   "cell_type": "code",
   "execution_count": 1,
   "metadata": {
    "collapsed": true
   },
   "outputs": [],
   "source": [
    "import pandas as pd\n",
    "import numpy as np\n",
    "import matplotlib.pyplot as plt\n",
    "from plot_decision_regions import * "
   ]
  },
  {
   "cell_type": "markdown",
   "metadata": {},
   "source": [
    "---\n",
    "### Load and setup data/variables \n",
    "1\\. Input Iris.data (.CSV) with *pandas* to be a dataframe (df)"
   ]
  },
  {
   "cell_type": "code",
   "execution_count": 2,
   "metadata": {},
   "outputs": [
    {
     "data": {
      "text/html": [
       "<div>\n",
       "<style>\n",
       "    .dataframe thead tr:only-child th {\n",
       "        text-align: right;\n",
       "    }\n",
       "\n",
       "    .dataframe thead th {\n",
       "        text-align: left;\n",
       "    }\n",
       "\n",
       "    .dataframe tbody tr th {\n",
       "        vertical-align: top;\n",
       "    }\n",
       "</style>\n",
       "<table border=\"1\" class=\"dataframe\">\n",
       "  <thead>\n",
       "    <tr style=\"text-align: right;\">\n",
       "      <th></th>\n",
       "      <th>0</th>\n",
       "      <th>1</th>\n",
       "      <th>2</th>\n",
       "      <th>3</th>\n",
       "      <th>4</th>\n",
       "    </tr>\n",
       "  </thead>\n",
       "  <tbody>\n",
       "    <tr>\n",
       "      <th>95</th>\n",
       "      <td>5.7</td>\n",
       "      <td>3.0</td>\n",
       "      <td>4.2</td>\n",
       "      <td>1.2</td>\n",
       "      <td>Iris-versicolor</td>\n",
       "    </tr>\n",
       "    <tr>\n",
       "      <th>96</th>\n",
       "      <td>5.7</td>\n",
       "      <td>2.9</td>\n",
       "      <td>4.2</td>\n",
       "      <td>1.3</td>\n",
       "      <td>Iris-versicolor</td>\n",
       "    </tr>\n",
       "    <tr>\n",
       "      <th>97</th>\n",
       "      <td>6.2</td>\n",
       "      <td>2.9</td>\n",
       "      <td>4.3</td>\n",
       "      <td>1.3</td>\n",
       "      <td>Iris-versicolor</td>\n",
       "    </tr>\n",
       "    <tr>\n",
       "      <th>98</th>\n",
       "      <td>5.1</td>\n",
       "      <td>2.5</td>\n",
       "      <td>3.0</td>\n",
       "      <td>1.1</td>\n",
       "      <td>Iris-versicolor</td>\n",
       "    </tr>\n",
       "    <tr>\n",
       "      <th>99</th>\n",
       "      <td>5.7</td>\n",
       "      <td>2.8</td>\n",
       "      <td>4.1</td>\n",
       "      <td>1.3</td>\n",
       "      <td>Iris-versicolor</td>\n",
       "    </tr>\n",
       "  </tbody>\n",
       "</table>\n",
       "</div>"
      ],
      "text/plain": [
       "      0    1    2    3                4\n",
       "95  5.7  3.0  4.2  1.2  Iris-versicolor\n",
       "96  5.7  2.9  4.2  1.3  Iris-versicolor\n",
       "97  6.2  2.9  4.3  1.3  Iris-versicolor\n",
       "98  5.1  2.5  3.0  1.1  Iris-versicolor\n",
       "99  5.7  2.8  4.1  1.3  Iris-versicolor"
      ]
     },
     "execution_count": 2,
     "metadata": {},
     "output_type": "execute_result"
    }
   ],
   "source": [
    "df0 = pd.read_csv('iris.data', header=None)[:100] # Keep data from 0-99\n",
    "df0.tail()\n",
    "#df0.iloc[:]"
   ]
  },
  {
   "cell_type": "code",
   "execution_count": 3,
   "metadata": {},
   "outputs": [
    {
     "data": {
      "text/html": [
       "<div>\n",
       "<style>\n",
       "    .dataframe thead tr:only-child th {\n",
       "        text-align: right;\n",
       "    }\n",
       "\n",
       "    .dataframe thead th {\n",
       "        text-align: left;\n",
       "    }\n",
       "\n",
       "    .dataframe tbody tr th {\n",
       "        vertical-align: top;\n",
       "    }\n",
       "</style>\n",
       "<table border=\"1\" class=\"dataframe\">\n",
       "  <thead>\n",
       "    <tr style=\"text-align: right;\">\n",
       "      <th></th>\n",
       "      <th>0</th>\n",
       "      <th>1</th>\n",
       "      <th>2</th>\n",
       "      <th>3</th>\n",
       "      <th>4</th>\n",
       "    </tr>\n",
       "  </thead>\n",
       "  <tbody>\n",
       "    <tr>\n",
       "      <th>98</th>\n",
       "      <td>5.1</td>\n",
       "      <td>2.5</td>\n",
       "      <td>3.0</td>\n",
       "      <td>1.1</td>\n",
       "      <td>Iris-versicolor</td>\n",
       "    </tr>\n",
       "    <tr>\n",
       "      <th>58</th>\n",
       "      <td>6.6</td>\n",
       "      <td>2.9</td>\n",
       "      <td>4.6</td>\n",
       "      <td>1.3</td>\n",
       "      <td>Iris-versicolor</td>\n",
       "    </tr>\n",
       "    <tr>\n",
       "      <th>9</th>\n",
       "      <td>4.9</td>\n",
       "      <td>3.1</td>\n",
       "      <td>1.5</td>\n",
       "      <td>0.1</td>\n",
       "      <td>Iris-setosa</td>\n",
       "    </tr>\n",
       "    <tr>\n",
       "      <th>50</th>\n",
       "      <td>7.0</td>\n",
       "      <td>3.2</td>\n",
       "      <td>4.7</td>\n",
       "      <td>1.4</td>\n",
       "      <td>Iris-versicolor</td>\n",
       "    </tr>\n",
       "    <tr>\n",
       "      <th>72</th>\n",
       "      <td>6.3</td>\n",
       "      <td>2.5</td>\n",
       "      <td>4.9</td>\n",
       "      <td>1.5</td>\n",
       "      <td>Iris-versicolor</td>\n",
       "    </tr>\n",
       "    <tr>\n",
       "      <th>87</th>\n",
       "      <td>6.3</td>\n",
       "      <td>2.3</td>\n",
       "      <td>4.4</td>\n",
       "      <td>1.3</td>\n",
       "      <td>Iris-versicolor</td>\n",
       "    </tr>\n",
       "    <tr>\n",
       "      <th>1</th>\n",
       "      <td>4.9</td>\n",
       "      <td>3.0</td>\n",
       "      <td>1.4</td>\n",
       "      <td>0.2</td>\n",
       "      <td>Iris-setosa</td>\n",
       "    </tr>\n",
       "    <tr>\n",
       "      <th>69</th>\n",
       "      <td>5.6</td>\n",
       "      <td>2.5</td>\n",
       "      <td>3.9</td>\n",
       "      <td>1.1</td>\n",
       "      <td>Iris-versicolor</td>\n",
       "    </tr>\n",
       "    <tr>\n",
       "      <th>55</th>\n",
       "      <td>5.7</td>\n",
       "      <td>2.8</td>\n",
       "      <td>4.5</td>\n",
       "      <td>1.3</td>\n",
       "      <td>Iris-versicolor</td>\n",
       "    </tr>\n",
       "    <tr>\n",
       "      <th>46</th>\n",
       "      <td>5.1</td>\n",
       "      <td>3.8</td>\n",
       "      <td>1.6</td>\n",
       "      <td>0.2</td>\n",
       "      <td>Iris-setosa</td>\n",
       "    </tr>\n",
       "  </tbody>\n",
       "</table>\n",
       "</div>"
      ],
      "text/plain": [
       "      0    1    2    3                4\n",
       "98  5.1  2.5  3.0  1.1  Iris-versicolor\n",
       "58  6.6  2.9  4.6  1.3  Iris-versicolor\n",
       "9   4.9  3.1  1.5  0.1      Iris-setosa\n",
       "50  7.0  3.2  4.7  1.4  Iris-versicolor\n",
       "72  6.3  2.5  4.9  1.5  Iris-versicolor\n",
       "87  6.3  2.3  4.4  1.3  Iris-versicolor\n",
       "1   4.9  3.0  1.4  0.2      Iris-setosa\n",
       "69  5.6  2.5  3.9  1.1  Iris-versicolor\n",
       "55  5.7  2.8  4.5  1.3  Iris-versicolor\n",
       "46  5.1  3.8  1.6  0.2      Iris-setosa"
      ]
     },
     "execution_count": 3,
     "metadata": {},
     "output_type": "execute_result"
    }
   ],
   "source": [
    "# Optional : Shuffle (fix the seed) order of data, list last 10 rows\n",
    "np.random.seed(4) # welcome to play arround the number to observe\n",
    "df = df0.reindex(np.random.permutation(df0.index))\n",
    "df.iloc[90:]"
   ]
  },
  {
   "cell_type": "markdown",
   "metadata": {},
   "source": [
    "2\\. Extract 100 data from dataframe df \n",
    "* No.4 colume to y\n",
    "* No.0 & 2 columes to be X, with 2-D variables "
   ]
  },
  {
   "cell_type": "code",
   "execution_count": 4,
   "metadata": {},
   "outputs": [],
   "source": [
    "# Filling y and X\n",
    "y = df.iloc[:, 4].values\n",
    "X = df.iloc[:, [0,2]].values\n",
    "#print (\"y :\", y)\n",
    "#print (\"X :\", X)"
   ]
  },
  {
   "cell_type": "markdown",
   "metadata": {},
   "source": [
    "3\\. Change the text to distigushable real rumber in y"
   ]
  },
  {
   "cell_type": "code",
   "execution_count": 5,
   "metadata": {
    "collapsed": true
   },
   "outputs": [],
   "source": [
    "y = np.where(y == 'Iris-setosa', -1, 1)"
   ]
  },
  {
   "cell_type": "markdown",
   "metadata": {},
   "source": [
    "4\\. Visualize the current distrubtion from data"
   ]
  },
  {
   "cell_type": "code",
   "execution_count": 6,
   "metadata": {},
   "outputs": [
    {
     "data": {
      "image/png": "[encoded data removed]",
      "text/plain": [
       "<matplotlib.figure.Figure at 0x1151eefd0>"
      ]
     },
     "metadata": {},
     "output_type": "display_data"
    }
   ],
   "source": [
    "# Ploting : significance variables\n",
    "plt.scatter(X[ y == 1, 0], X[ y == 1, 1], color='blue', marker='x', label='versicolor')\n",
    "plt.scatter(X[ y ==-1, 0], X[ y ==-1, 1], color='red',  marker='o', label='setosa')\n",
    "plt.xlabel('petal length')\n",
    "plt.ylabel('sepal length')\n",
    "plt.legend(loc='upper left')\n",
    "plt.show()"
   ]
  },
  {
   "cell_type": "markdown",
   "metadata": {},
   "source": [
    "---\n",
    "### Run hand-made Perceptron\n",
    "1\\. Import hand-made Perceptron class"
   ]
  },
  {
   "cell_type": "code",
   "execution_count": 7,
   "metadata": {
    "collapsed": true
   },
   "outputs": [],
   "source": [
    "from Perceptron import Perceptron"
   ]
  },
  {
   "cell_type": "markdown",
   "metadata": {},
   "source": [
    "2\\. Running percepton algorithm with 10 times iterations...."
   ]
  },
  {
   "cell_type": "code",
   "execution_count": 8,
   "metadata": {},
   "outputs": [
    {
     "data": {
      "text/plain": [
       "<Perceptron.Perceptron at 0x1151ee910>"
      ]
     },
     "execution_count": 8,
     "metadata": {},
     "output_type": "execute_result"
    }
   ],
   "source": [
    "# Percpetron setting\n",
    "ppn_10 = Perceptron(eta=0.1, n_iter=10)\n",
    "ppn_10.fit(X,y)"
   ]
  },
  {
   "cell_type": "markdown",
   "metadata": {},
   "source": [
    "3\\. Finished and visualizing the misclassifications as function of iterations"
   ]
  },
  {
   "cell_type": "code",
   "execution_count": 9,
   "metadata": {},
   "outputs": [
    {
     "data": {
      "image/png": "[encoded data removed]",
      "text/plain": [
       "<matplotlib.figure.Figure at 0x1151c3310>"
      ]
     },
     "metadata": {},
     "output_type": "display_data"
    }
   ],
   "source": [
    "# Plotting\n",
    "plt.plot\n",
    "plt.plot(range(1, len(ppn_10.errors_) + 1), ppn_10.errors_, marker='o')\n",
    "plt.xlabel('Epochs')\n",
    "plt.ylabel('Number of misclassifications')\n",
    "plt.show()"
   ]
  },
  {
   "cell_type": "code",
   "execution_count": 10,
   "metadata": {},
   "outputs": [
    {
     "name": "stdout",
     "output_type": "stream",
     "text": [
      "weight w: [-0.2  -0.56  1.34]\n",
      "Activation function: -0.20 + -0.56*x_1 + 1.34*x_2\n"
     ]
    }
   ],
   "source": [
    "print 'weight w: '+str(ppn_10.w_)\n",
    "print 'Activation function: %.2f + %.2f*x_1 + %.2f*x_2'%(ppn_10.w_[0], ppn_10.w_[1], ppn_10.w_[2])"
   ]
  },
  {
   "cell_type": "markdown",
   "metadata": {},
   "source": [
    "4\\. Visualize decision regions\n",
    "Import hand-made funciton & plot"
   ]
  },
  {
   "cell_type": "code",
   "execution_count": 11,
   "metadata": {},
   "outputs": [
    {
     "data": {
      "image/png": "[encoded data removed]",
      "text/plain": [
       "<matplotlib.figure.Figure at 0x117779150>"
      ]
     },
     "metadata": {},
     "output_type": "display_data"
    }
   ],
   "source": [
    "from plot_decision_regions import * \n",
    "plot_decision_regions( X, y, classifier=ppn_10, resolution=0.01 )\n",
    "plt.xlabel('sepal length [cm]')\n",
    "plt.ylabel('petal length [cm]')\n",
    "plt.legend(loc='upper left')\n",
    "plt.show()"
   ]
  },
  {
   "cell_type": "markdown",
   "metadata": {},
   "source": [
    "###  Conclusion of halfway\n",
    "We find the PLA can learn much fast and efficient than without mis-ordering the dataframe, but taking care the seeds. The good decision region can be found in a iteration with 7 times of weight updating, i.e. encounting 7 misclassications during *online learning*. Next let see how the decision region is chosen! \n",
    "The orther funnay and important things you may find if playing arround the random seed number. You can find the final decision region is moving between the two point of *versicolor* and *setosa*. To solve the problem, the Suport Vector Machine (SVM) may can give a reasonable solution."
   ]
  },
  {
   "cell_type": "markdown",
   "metadata": {},
   "source": [
    "### Visualize the changes during learning \n",
    "1\\. Bulid a PLA calss again, but without iteration and adding stop point"
   ]
  },
  {
   "cell_type": "code",
   "execution_count": 12,
   "metadata": {},
   "outputs": [],
   "source": [
    "class Perceptron_stop(object):\n",
    "    \n",
    "    def __init__(self, eta=0.01, n_features=1):\n",
    "        self.eta = eta\n",
    "        self.w_ = np.zeros(1 + n_features) # initial w_ = [w_0,w_1....w_features] = 0\n",
    "        self.stop_ = 0\n",
    "        self.error_ = 0\n",
    "        self.errorId_ = []\n",
    "        \n",
    "    def fit(self, X, y, stop=y.shape[0]):\n",
    "        if self.w_.shape[0]-1 != X.shape[1]:\n",
    "            print '[ERROR] Can not fit. The features must have same number.'\n",
    "            return self\n",
    "        \n",
    "        i = self.stop_\n",
    "        \n",
    "        while i < stop:\n",
    "            update = self.eta * (y[i] - self.predict(X[i])) # = eta.dy\n",
    "            # dw = eta.dy.X = update.X\n",
    "            self.w_[1:] += update * X[i] \n",
    "            self.w_[0]  += update\n",
    "            if update != 0:\n",
    "                self.error_ += 1\n",
    "                self.errorId_.append(i)\n",
    "            i += 1\n",
    "            \n",
    "        self.stop_ = i\n",
    "        return self\n",
    "\n",
    "    def net_input(self, X):\n",
    "        # w.X = w'.X' + w_0.X_0, (X_0 = 1)\n",
    "        return np.dot(X, self.w_[1:]) + self.w_[0]\n",
    "\n",
    "    def predict(self, X):\n",
    "        # y = sign(w.X)\n",
    "        return np.where(self.net_input(X) >= 0.0, 1, -1)\n",
    "\n",
    "    def checkMisclassified(self, X, y):\n",
    "        self.misc = np.array([])\n",
    "\n",
    "        for xi, target in zip(X,y):\n",
    "            check = target * self.predict(xi)\n",
    "            if check < 0 :\n",
    "                if len(self.misc) == 0:\n",
    "                    self.misc = np.append(self.misc, xi)\n",
    "                else :\n",
    "                    self.misc = np.vstack((self.misc, xi))\n",
    "\n",
    "        return len(self.misc)"
   ]
  },
  {
   "cell_type": "markdown",
   "metadata": {},
   "source": [
    "2\\. Define plot and information function"
   ]
  },
  {
   "cell_type": "code",
   "execution_count": 13,
   "metadata": {
    "collapsed": true
   },
   "outputs": [],
   "source": [
    "def plot_stop(pps):\n",
    "    n_misc = pps.checkMisclassified(X, y)\n",
    "    print 'Ran over '+str(pps.stop_)+' data, stop at '+str(pps.stop_-1)\n",
    "    print 'weight :'+str(pps.w_)\n",
    "    print 'misclass (online): '+str(pps.error_)\n",
    "    print 'misclass (test)  : '+str(n_misc)\n",
    "    plot_decision_regions( X, y, classifier=pps )\n",
    "    plt.xlabel('sepal length [cm]')\n",
    "    plt.ylabel('petal length [cm]')\n",
    "    plt.legend(loc='upper left', title='Ran # of data: '+str(pps.stop_))\n",
    "    plt.show()"
   ]
  },
  {
   "cell_type": "markdown",
   "metadata": {},
   "source": [
    "3\\. Test the class & function, then print out the learning data points "
   ]
  },
  {
   "cell_type": "code",
   "execution_count": 14,
   "metadata": {
    "collapsed": true
   },
   "outputs": [],
   "source": [
    "pps_test = Perceptron_stop(eta=0.1, n_features=X.shape[1])"
   ]
  },
  {
   "cell_type": "code",
   "execution_count": 15,
   "metadata": {},
   "outputs": [
    {
     "name": "stdout",
     "output_type": "stream",
     "text": [
      "Ran over 100 data, stop at 99\n",
      "weight :[-0.2  -0.56  1.34]\n",
      "misclass (online): 7\n",
      "misclass (test)  : 0\n"
     ]
    },
    {
     "data": {
      "image/png": "[encoded data removed]",
      "text/plain": [
       "<matplotlib.figure.Figure at 0x11797e0d0>"
      ]
     },
     "metadata": {},
     "output_type": "display_data"
    },
    {
     "name": "stdout",
     "output_type": "stream",
     "text": [
      "Online learning data id: [0, 2, 3, 4, 5, 6, 8]\n"
     ]
    }
   ],
   "source": [
    "pps_test.fit(X, y)\n",
    "plot_stop(pps_test)\n",
    "print 'Online learning data id: '+str(pps_test.errorId_)"
   ]
  },
  {
   "cell_type": "markdown",
   "metadata": {},
   "source": [
    "4\\. Use the learning data id to see the changes"
   ]
  },
  {
   "cell_type": "code",
   "execution_count": 16,
   "metadata": {
    "collapsed": true
   },
   "outputs": [],
   "source": [
    "pps = Perceptron_stop(eta=0.1, n_features=X.shape[1])"
   ]
  },
  {
   "cell_type": "code",
   "execution_count": 17,
   "metadata": {},
   "outputs": [
    {
     "name": "stdout",
     "output_type": "stream",
     "text": [
      "Ran over 1 data, stop at 0\n",
      "weight :[-0.2  -1.08 -0.34]\n",
      "misclass (online): 1\n",
      "misclass (test)  : 50\n"
     ]
    },
    {
     "data": {
      "image/png": "[encoded data removed]",
      "text/plain": [
       "<matplotlib.figure.Figure at 0x1179c49d0>"
      ]
     },
     "metadata": {},
     "output_type": "display_data"
    },
    {
     "name": "stdout",
     "output_type": "stream",
     "text": [
      "Ran over 3 data, stop at 2\n",
      "weight :[ 0.    0.06  0.5 ]\n",
      "misclass (online): 2\n",
      "misclass (test)  : 50\n"
     ]
    },
    {
     "data": {
      "image/png": "[encoded data removed]",
      "text/plain": [
       "<matplotlib.figure.Figure at 0x1179b9910>"
      ]
     },
     "metadata": {},
     "output_type": "display_data"
    },
    {
     "name": "stdout",
     "output_type": "stream",
     "text": [
      "Ran over 4 data, stop at 3\n",
      "weight :[-0.2  -1.02  0.24]\n",
      "misclass (online): 3\n",
      "misclass (test)  : 50\n"
     ]
    },
    {
     "data": {
      "image/png": "[encoded data removed]",
      "text/plain": [
       "<matplotlib.figure.Figure at 0x119ff0890>"
      ]
     },
     "metadata": {},
     "output_type": "display_data"
    },
    {
     "name": "stdout",
     "output_type": "stream",
     "text": [
      "Ran over 5 data, stop at 4\n",
      "weight :[ 0.    0.2   1.18]\n",
      "misclass (online): 4\n",
      "misclass (test)  : 50\n"
     ]
    },
    {
     "data": {
      "image/png": "[encoded data removed]",
      "text/plain": [
       "<matplotlib.figure.Figure at 0x11a26c9d0>"
      ]
     },
     "metadata": {},
     "output_type": "display_data"
    },
    {
     "name": "stdout",
     "output_type": "stream",
     "text": [
      "Ran over 6 data, stop at 5\n",
      "weight :[-0.2  -0.76  0.8 ]\n",
      "misclass (online): 5\n",
      "misclass (test)  : 50\n"
     ]
    },
    {
     "data": {
      "image/png": "[encoded data removed]",
      "text/plain": [
       "<matplotlib.figure.Figure at 0x11a2d0590>"
      ]
     },
     "metadata": {},
     "output_type": "display_data"
    },
    {
     "name": "stdout",
     "output_type": "stream",
     "text": [
      "Ran over 7 data, stop at 6\n",
      "weight :[ 0.    0.34  1.6 ]\n",
      "misclass (online): 6\n",
      "misclass (test)  : 50\n"
     ]
    },
    {
     "data": {
      "image/png": "[encoded data removed]",
      "text/plain": [
       "<matplotlib.figure.Figure at 0x11a47bbd0>"
      ]
     },
     "metadata": {},
     "output_type": "display_data"
    },
    {
     "name": "stdout",
     "output_type": "stream",
     "text": [
      "Ran over 9 data, stop at 8\n",
      "weight :[-0.2  -0.56  1.34]\n",
      "misclass (online): 7\n",
      "misclass (test)  : 0\n"
     ]
    },
    {
     "data": {
      "image/png": "[encoded data removed]",
      "text/plain": [
       "<matplotlib.figure.Figure at 0x11a3acb10>"
      ]
     },
     "metadata": {},
     "output_type": "display_data"
    }
   ],
   "source": [
    "for i in pps_test.errorId_:\n",
    "    pps.fit(X, y, stop=i+1)\n",
    "    plot_stop(pps)"
   ]
  },
  {
   "cell_type": "markdown",
   "metadata": {},
   "source": [
    "### Conclusion\n",
    "In general, the efficiency of learning time is much better with suffeled-order dataframe. With playing arround the random seed, the PLA will moving arround the belt within linear saperable region which is not really reliable. Other learning model may can improve, e.g. SVM.  "
   ]
  }
 ],
 "metadata": {
  "kernelspec": {
   "display_name": "Python 2",
   "language": "python",
   "name": "python2"
  },
  "language_info": {
   "codemirror_mode": {
    "name": "ipython",
    "version": 2
   },
   "file_extension": ".py",
   "mimetype": "text/x-python",
   "name": "python",
   "nbconvert_exporter": "python",
   "pygments_lexer": "ipython2",
   "version": "2.7.13"
  }
 },
 "nbformat": 4,
 "nbformat_minor": 2
}

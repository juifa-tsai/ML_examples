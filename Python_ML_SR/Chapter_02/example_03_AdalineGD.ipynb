{
 "cells": [
  {
   "cell_type": "markdown",
   "metadata": {},
   "source": [
    "# Example 3. Hand-made Adaptive Linear Neuron (Adaline) Gradian Decent\n",
    "---\n",
    "1. **Adaptive** : Define a *cost function* and find its **minimum** solution iteratively. Here is the *cost function* is defined as <br /> $$ J(w) = \\frac{1}{2}\\sum_i^N{[y_i-\\phi(z_i(w))]^2}\\ ,$$ <br />which is called **Sum of Squarde Error**, where $w$ a vector containing the learning weights $\\{w_0, w_1, w_2,..., w_d\\}$ with certain dimension $d$; $i$ and $N$ is the data number and size; $y$ is the target value; $\\phi$ is a *objective function* as function of $z$; $z$ is as function of $w$ and correlated to the feature variables $\\{x_0, x_1, x_2,..., x_d\\}$; and $\\frac{1}{2}$ is for differential calculation. Thus, to find the minimum cost, the learning weights $w$ has to be updated iteratively as <br /> $$ w := w + d{w}\\ ,$$ where $:=$ means the left $w$ was updated by adding $dw$ from previours iteration.  \n",
    "2. **Linear** : Define a **linear** *objective function* for each data point as <br /> \n",
    "$$\n",
    "\\begin{equation}\n",
    "\\begin{split}\n",
    "\\phi(z) &= w_0x_0+w_1x_1+w_2x_2...+w_dx_d \\\\\n",
    "&= w^Tx \\\\\n",
    "&\\equiv z(w)\\ .\n",
    "\\end{split}\n",
    "\\end{equation}\n",
    "$$\n",
    "3. **Neuron** : Inspired from the concept of perceptron.\n",
    "4. **Gradian decent** : Use the first differential of *cost function* to find the minimum solution of $w$. Thus, the updating weight can be defined as <br />$$ d{w} = -\\eta\\nabla J(w)\\ .$$ Since $dw$ is expected to be getting small and approach to 0 iteratively, the $-$ sign represents the decaying value of $dw$.<br />\n",
    "$$\n",
    "\\begin{equation}\n",
    "\\begin{split}\n",
    "\\nabla J(w) &= \\sum_d\\frac{\\partial J}{\\partial w_d}J(w) \\\\\n",
    "&= -\\sum_i^N[y_i-\\phi(z_i(w))]x_i\\ .\n",
    "\\end{split}\n",
    "\\end{equation}\n",
    "$$\n",
    "Thus, by replacing this results to $dw$, the final updated weight will be $$w+dw = w + \\eta\\sum_i^N[y_i-\\phi(z_i(w))]x_i\\ .$$\n",
    "Actaully, the form of last term is the simlar as perceptron linear algorithm (PLA) but with summing over the data, so called *batch learning*. PLA is *online learning*, i.e. the weight is updated by each data point. \n",
    "\n",
    "---\n",
    "### Import basic needed modules"
   ]
  },
  {
   "cell_type": "code",
   "execution_count": 1,
   "metadata": {
    "collapsed": true
   },
   "outputs": [],
   "source": [
    "import pandas as pd\n",
    "import numpy as np\n",
    "import matplotlib.pyplot as plt\n",
    "from plot_decision_regions import * "
   ]
  },
  {
   "cell_type": "markdown",
   "metadata": {},
   "source": [
    "---\n",
    "### Load and setup data/variables \n",
    "1\\. Input Iris.data (.CSV) with *pandas* to be a dataframe (df)"
   ]
  },
  {
   "cell_type": "code",
   "execution_count": 2,
   "metadata": {},
   "outputs": [
    {
     "data": {
      "text/html": [
       "<div>\n",
       "<style>\n",
       "    .dataframe thead tr:only-child th {\n",
       "        text-align: right;\n",
       "    }\n",
       "\n",
       "    .dataframe thead th {\n",
       "        text-align: left;\n",
       "    }\n",
       "\n",
       "    .dataframe tbody tr th {\n",
       "        vertical-align: top;\n",
       "    }\n",
       "</style>\n",
       "<table border=\"1\" class=\"dataframe\">\n",
       "  <thead>\n",
       "    <tr style=\"text-align: right;\">\n",
       "      <th></th>\n",
       "      <th>sepal_length</th>\n",
       "      <th>x_1</th>\n",
       "      <th>petal_length</th>\n",
       "      <th>x_3</th>\n",
       "      <th>type</th>\n",
       "    </tr>\n",
       "  </thead>\n",
       "  <tbody>\n",
       "    <tr>\n",
       "      <th>95</th>\n",
       "      <td>5.7</td>\n",
       "      <td>3.0</td>\n",
       "      <td>4.2</td>\n",
       "      <td>1.2</td>\n",
       "      <td>Iris-versicolor</td>\n",
       "    </tr>\n",
       "    <tr>\n",
       "      <th>96</th>\n",
       "      <td>5.7</td>\n",
       "      <td>2.9</td>\n",
       "      <td>4.2</td>\n",
       "      <td>1.3</td>\n",
       "      <td>Iris-versicolor</td>\n",
       "    </tr>\n",
       "    <tr>\n",
       "      <th>97</th>\n",
       "      <td>6.2</td>\n",
       "      <td>2.9</td>\n",
       "      <td>4.3</td>\n",
       "      <td>1.3</td>\n",
       "      <td>Iris-versicolor</td>\n",
       "    </tr>\n",
       "    <tr>\n",
       "      <th>98</th>\n",
       "      <td>5.1</td>\n",
       "      <td>2.5</td>\n",
       "      <td>3.0</td>\n",
       "      <td>1.1</td>\n",
       "      <td>Iris-versicolor</td>\n",
       "    </tr>\n",
       "    <tr>\n",
       "      <th>99</th>\n",
       "      <td>5.7</td>\n",
       "      <td>2.8</td>\n",
       "      <td>4.1</td>\n",
       "      <td>1.3</td>\n",
       "      <td>Iris-versicolor</td>\n",
       "    </tr>\n",
       "  </tbody>\n",
       "</table>\n",
       "</div>"
      ],
      "text/plain": [
       "    sepal_length  x_1  petal_length  x_3             type\n",
       "95           5.7  3.0           4.2  1.2  Iris-versicolor\n",
       "96           5.7  2.9           4.2  1.3  Iris-versicolor\n",
       "97           6.2  2.9           4.3  1.3  Iris-versicolor\n",
       "98           5.1  2.5           3.0  1.1  Iris-versicolor\n",
       "99           5.7  2.8           4.1  1.3  Iris-versicolor"
      ]
     },
     "execution_count": 2,
     "metadata": {},
     "output_type": "execute_result"
    }
   ],
   "source": [
    "df0 = pd.read_csv('iris.data', header=None)[:100] # Keep data from 0-99\n",
    "df0.columns = ['sepal_length', 'x_1', 'petal_length', 'x_3', 'type']\n",
    "df0.tail()"
   ]
  },
  {
   "cell_type": "code",
   "execution_count": 3,
   "metadata": {},
   "outputs": [
    {
     "data": {
      "text/html": [
       "<div>\n",
       "<style>\n",
       "    .dataframe thead tr:only-child th {\n",
       "        text-align: right;\n",
       "    }\n",
       "\n",
       "    .dataframe thead th {\n",
       "        text-align: left;\n",
       "    }\n",
       "\n",
       "    .dataframe tbody tr th {\n",
       "        vertical-align: top;\n",
       "    }\n",
       "</style>\n",
       "<table border=\"1\" class=\"dataframe\">\n",
       "  <thead>\n",
       "    <tr style=\"text-align: right;\">\n",
       "      <th></th>\n",
       "      <th>sepal_length</th>\n",
       "      <th>x_1</th>\n",
       "      <th>petal_length</th>\n",
       "      <th>x_3</th>\n",
       "      <th>type</th>\n",
       "    </tr>\n",
       "  </thead>\n",
       "  <tbody>\n",
       "    <tr>\n",
       "      <th>98</th>\n",
       "      <td>5.1</td>\n",
       "      <td>2.5</td>\n",
       "      <td>3.0</td>\n",
       "      <td>1.1</td>\n",
       "      <td>Iris-versicolor</td>\n",
       "    </tr>\n",
       "    <tr>\n",
       "      <th>58</th>\n",
       "      <td>6.6</td>\n",
       "      <td>2.9</td>\n",
       "      <td>4.6</td>\n",
       "      <td>1.3</td>\n",
       "      <td>Iris-versicolor</td>\n",
       "    </tr>\n",
       "    <tr>\n",
       "      <th>9</th>\n",
       "      <td>4.9</td>\n",
       "      <td>3.1</td>\n",
       "      <td>1.5</td>\n",
       "      <td>0.1</td>\n",
       "      <td>Iris-setosa</td>\n",
       "    </tr>\n",
       "    <tr>\n",
       "      <th>50</th>\n",
       "      <td>7.0</td>\n",
       "      <td>3.2</td>\n",
       "      <td>4.7</td>\n",
       "      <td>1.4</td>\n",
       "      <td>Iris-versicolor</td>\n",
       "    </tr>\n",
       "    <tr>\n",
       "      <th>72</th>\n",
       "      <td>6.3</td>\n",
       "      <td>2.5</td>\n",
       "      <td>4.9</td>\n",
       "      <td>1.5</td>\n",
       "      <td>Iris-versicolor</td>\n",
       "    </tr>\n",
       "    <tr>\n",
       "      <th>87</th>\n",
       "      <td>6.3</td>\n",
       "      <td>2.3</td>\n",
       "      <td>4.4</td>\n",
       "      <td>1.3</td>\n",
       "      <td>Iris-versicolor</td>\n",
       "    </tr>\n",
       "    <tr>\n",
       "      <th>1</th>\n",
       "      <td>4.9</td>\n",
       "      <td>3.0</td>\n",
       "      <td>1.4</td>\n",
       "      <td>0.2</td>\n",
       "      <td>Iris-setosa</td>\n",
       "    </tr>\n",
       "    <tr>\n",
       "      <th>69</th>\n",
       "      <td>5.6</td>\n",
       "      <td>2.5</td>\n",
       "      <td>3.9</td>\n",
       "      <td>1.1</td>\n",
       "      <td>Iris-versicolor</td>\n",
       "    </tr>\n",
       "    <tr>\n",
       "      <th>55</th>\n",
       "      <td>5.7</td>\n",
       "      <td>2.8</td>\n",
       "      <td>4.5</td>\n",
       "      <td>1.3</td>\n",
       "      <td>Iris-versicolor</td>\n",
       "    </tr>\n",
       "    <tr>\n",
       "      <th>46</th>\n",
       "      <td>5.1</td>\n",
       "      <td>3.8</td>\n",
       "      <td>1.6</td>\n",
       "      <td>0.2</td>\n",
       "      <td>Iris-setosa</td>\n",
       "    </tr>\n",
       "  </tbody>\n",
       "</table>\n",
       "</div>"
      ],
      "text/plain": [
       "    sepal_length  x_1  petal_length  x_3             type\n",
       "98           5.1  2.5           3.0  1.1  Iris-versicolor\n",
       "58           6.6  2.9           4.6  1.3  Iris-versicolor\n",
       "9            4.9  3.1           1.5  0.1      Iris-setosa\n",
       "50           7.0  3.2           4.7  1.4  Iris-versicolor\n",
       "72           6.3  2.5           4.9  1.5  Iris-versicolor\n",
       "87           6.3  2.3           4.4  1.3  Iris-versicolor\n",
       "1            4.9  3.0           1.4  0.2      Iris-setosa\n",
       "69           5.6  2.5           3.9  1.1  Iris-versicolor\n",
       "55           5.7  2.8           4.5  1.3  Iris-versicolor\n",
       "46           5.1  3.8           1.6  0.2      Iris-setosa"
      ]
     },
     "execution_count": 3,
     "metadata": {},
     "output_type": "execute_result"
    }
   ],
   "source": [
    "# Optional : Shuffle (fix the seed) order of data, list last 10 rows\n",
    "np.random.seed(4) # welcome to play arround the number to observe\n",
    "df = df0.reindex(np.random.permutation(df0.index))\n",
    "df.iloc[90:]"
   ]
  },
  {
   "cell_type": "markdown",
   "metadata": {},
   "source": [
    "2\\. Extract 100 data from dataframe df \n",
    "* No.4 colume to y\n",
    "* No.0 & 2 columes to be X, with 2-D variables"
   ]
  },
  {
   "cell_type": "code",
   "execution_count": 4,
   "metadata": {},
   "outputs": [
    {
     "name": "stdout",
     "output_type": "stream",
     "text": [
      "[20 10 96 16 63 24 53 97 41 47 43  2 95 26 13 37 14 29 35 54 80  4 81 76 85\n",
      " 60  5 70 71 19 65 62 27 75 61 78 18 88  7 39  6 77 11 59 22 94 23 12 92 25\n",
      " 83 48 17 68 31 34 15 51 86 82 28 64 67 33 45 42 40 32 91 74 49  8 30 99 66\n",
      " 56 84 73 79 21 89  0  3 52 38 44 93 36 57 90 98 58  9 50 72 87  1 69 55 46]\n"
     ]
    }
   ],
   "source": [
    "# Filling y and X\n",
    "y = df.iloc[:, 4].values\n",
    "X = df.iloc[:, [0,2]].values\n",
    "idx = df.index.values\n",
    "print idx"
   ]
  },
  {
   "cell_type": "markdown",
   "metadata": {},
   "source": [
    "3\\. Change the text to distigushable real rumber in y"
   ]
  },
  {
   "cell_type": "code",
   "execution_count": 5,
   "metadata": {
    "collapsed": true
   },
   "outputs": [],
   "source": [
    "y = np.where(y == 'Iris-setosa', -1, 1)"
   ]
  },
  {
   "cell_type": "code",
   "execution_count": 6,
   "metadata": {},
   "outputs": [
    {
     "data": {
      "image/png": "[encoded data removed]",
      "text/plain": [
       "<matplotlib.figure.Figure at 0x113c78290>"
      ]
     },
     "metadata": {},
     "output_type": "display_data"
    }
   ],
   "source": [
    "# Ploting : significance variables\n",
    "plt.figure(figsize=(8, 6))\n",
    "plt.scatter(X[ y == 1, 0], X[ y == 1, 1], color='blue', marker='x', label='versicolor')\n",
    "plt.scatter(X[ y ==-1, 0], X[ y ==-1, 1], color='red',  marker='o', label='setosa')\n",
    "plt.xlabel('petal length', fontsize=18)\n",
    "plt.ylabel('sepal length', fontsize=18)\n",
    "plt.legend(loc='upper left', fontsize=18)\n",
    "plt.show()"
   ]
  },
  {
   "cell_type": "markdown",
   "metadata": {},
   "source": [
    "---\n",
    "### Run hand-made Adaline gradian decent\n",
    "1\\. Import hand-made Adaline gradian decent class"
   ]
  },
  {
   "cell_type": "code",
   "execution_count": 7,
   "metadata": {
    "collapsed": true
   },
   "outputs": [],
   "source": [
    "from AdalineGD import AdalineGD"
   ]
  },
  {
   "cell_type": "markdown",
   "metadata": {},
   "source": [
    "2\\. Show the effect of learing rate (eta)\n",
    "   * Create a figure & 2 subplots\n",
    "   * Train data with eta = 0.01 & 0.001 "
   ]
  },
  {
   "cell_type": "code",
   "execution_count": 8,
   "metadata": {
    "scrolled": true
   },
   "outputs": [
    {
     "data": {
      "image/png": "[encoded data removed]",
      "text/plain": [
       "<matplotlib.figure.Figure at 0x1162e3f10>"
      ]
     },
     "metadata": {},
     "output_type": "display_data"
    }
   ],
   "source": [
    "fig, ax = plt.subplots(nrows=1, ncols=2, figsize=(16,5))\n",
    "\n",
    "ada1 = AdalineGD(n_iter=10, eta=0.01).fit(X, y)\n",
    "ax[0].plot(range(1, len(ada1.cost_) + 1), np.log10(ada1.cost_), marker='o')\n",
    "ax[0].set_xlabel('Epochs', fontsize=18)\n",
    "ax[0].set_ylabel('Sum-squared-error', fontsize=18)\n",
    "ax[0].set_title('Adaline - Learning rate 0.01', fontsize=18)\n",
    "ax[0].set_xlim(xmin=1)\n",
    "\n",
    "ada2 = AdalineGD(n_iter=10, eta=0.0001).fit(X, y)\n",
    "ax[1].plot(range(1, len(ada2.cost_) + 1), ada2.cost_, marker='o')\n",
    "ax[1].set_xlabel('Epochs', fontsize=18)\n",
    "ax[1].set_ylabel('Sum-squared-error', fontsize=18)\n",
    "ax[1].set_title('Adaline - Learning rate 0.0001', fontsize=18)\n",
    "ax[1].set_xlim(xmin=1)\n",
    "plt.show()"
   ]
  },
  {
   "cell_type": "code",
   "execution_count": 9,
   "metadata": {},
   "outputs": [
    {
     "name": "stdout",
     "output_type": "stream",
     "text": [
      "The weights of eta=0.01   : [ -3.79038389e+13  -2.11689469e+14  -1.18464807e+14]\n",
      "The weights of eta=0.0001 : [-0.01174401 -0.02122706  0.09641832]\n"
     ]
    }
   ],
   "source": [
    "print 'The weights of eta=0.01   : '+str(ada1.w_)\n",
    "print 'The weights of eta=0.0001 : '+str(ada2.w_)"
   ]
  },
  {
   "cell_type": "code",
   "execution_count": 10,
   "metadata": {},
   "outputs": [
    {
     "data": {
      "text/plain": [
       "<matplotlib.legend.Legend at 0x116290150>"
      ]
     },
     "execution_count": 10,
     "metadata": {},
     "output_type": "execute_result"
    }
   ],
   "source": [
    "plt.figure(figsize=(8, 6))\n",
    "plot_decision_regions(X, y, classifier=ada2)\n",
    "plt.title('Adline - Gradient Decent eta=0.0001')\n",
    "plt.xlabel('sepal length [cm]', fontsize=18)\n",
    "plt.ylabel('petal length [cm]', fontsize=18)\n",
    "plt.legend(loc='upper left', fontsize=18)\n",
    "#plt.show()"
   ]
  },
  {
   "cell_type": "code",
   "execution_count": 11,
   "metadata": {
    "collapsed": true
   },
   "outputs": [],
   "source": [
    "x = np.arange(0., 8., 0.1)\n",
    "c0 = -1*ada2.w_[0]/ada2.w_[2]\n",
    "c1 = -1*ada2.w_[1]/ada2.w_[2]"
   ]
  },
  {
   "cell_type": "code",
   "execution_count": 12,
   "metadata": {},
   "outputs": [
    {
     "data": {
      "image/png": "[encoded data removed]",
      "text/plain": [
       "<matplotlib.figure.Figure at 0x113c95b90>"
      ]
     },
     "metadata": {},
     "output_type": "display_data"
    },
    {
     "name": "stdout",
     "output_type": "stream",
     "text": [
      "Green line : y = 0.12 + 0.22*x = 0\n",
      "Blue y > 0, red y < 0\n"
     ]
    }
   ],
   "source": [
    "plt.plot(x, c0+c1*x, 'g--')\n",
    "plt.show()\n",
    "print 'Green line : y = %.2f + %.2f*x = 0'%(c0, c1)\n",
    "print 'Blue y > 0, red y < 0'"
   ]
  },
  {
   "cell_type": "markdown",
   "metadata": {},
   "source": [
    "### Conclusion\n",
    "* The $\\eta$ can affect the learning performance. $\\eta=0.01$ is too big to find the best solution and gets large errors, since it overshoot the global minimum of cost function. But $\\eta=0.0001$ needs more iteration to find the minimum, since it is too small.<br />\n",
    "* On the other hand, since this is *batch learning*, i.e. only updating weights after going through all data, the results are the same between with and without suffleing dataframe.<br /> \n",
    "* However, this learning model is using the true values instead of using sign of predicted number, the strengthes of the variables are relevent to the results, so we have to used *standarlized* data before training, see next section :-)"
   ]
  },
  {
   "cell_type": "markdown",
   "metadata": {},
   "source": [
    "---\n",
    "## Using standarized data\n",
    "<!-- 1. Standarized data\n",
    "2. Print the final w \n",
    "3. Sum-squared-errors V.S w_i -> find the minimum (1D and 2D(w_i,w_j)) -->\n",
    "As we have discussed in previours section, the strengthes of the variables are relevent to the result, since the *cost function* of regression considers the true values of difference between the target and predict instead of sign. The standarization method has to be applied before training. The standarization can follow this rule $$x'_d = \\frac{x_d-\\mu_d}{\\sigma_d}\\ ,$$ where $x'_d$ is the standarized variable, $\\mu_d$ and $\\sigma_d$ is the **mean** and **standard diviation** of $x_d$. Here we are going to use ``Numpy`` to make standarized data."
   ]
  },
  {
   "cell_type": "markdown",
   "metadata": {},
   "source": [
    "1\\. Create and standarizing dataframe with ``Numpy``"
   ]
  },
  {
   "cell_type": "code",
   "execution_count": 13,
   "metadata": {},
   "outputs": [],
   "source": [
    "X_std = np.copy(X)\n",
    "X_std[:,0] = (X[:,0] - X[:,0].mean()) / X[:,0].std() # sepal_length\n",
    "X_std[:,1] = (X[:,1] - X[:,1].mean()) / X[:,1].std() # petal_length\n",
    "df_std = pd.DataFrame(data=X_std[:,:], index=idx[:], columns=['sepal_length','petal_length'])"
   ]
  },
  {
   "cell_type": "markdown",
   "metadata": {},
   "source": [
    "2\\. Compare to original dataframe"
   ]
  },
  {
   "cell_type": "code",
   "execution_count": 14,
   "metadata": {},
   "outputs": [
    {
     "data": {
      "text/html": [
       "<div>\n",
       "<style>\n",
       "    .dataframe thead tr:only-child th {\n",
       "        text-align: right;\n",
       "    }\n",
       "\n",
       "    .dataframe thead th {\n",
       "        text-align: left;\n",
       "    }\n",
       "\n",
       "    .dataframe tbody tr th {\n",
       "        vertical-align: top;\n",
       "    }\n",
       "</style>\n",
       "<table border=\"1\" class=\"dataframe\">\n",
       "  <thead>\n",
       "    <tr style=\"text-align: right;\">\n",
       "      <th></th>\n",
       "      <th>sepal_length</th>\n",
       "      <th>petal_length</th>\n",
       "    </tr>\n",
       "  </thead>\n",
       "  <tbody>\n",
       "    <tr>\n",
       "      <th>90</th>\n",
       "      <td>5.5</td>\n",
       "      <td>4.4</td>\n",
       "    </tr>\n",
       "    <tr>\n",
       "      <th>98</th>\n",
       "      <td>5.1</td>\n",
       "      <td>3.0</td>\n",
       "    </tr>\n",
       "    <tr>\n",
       "      <th>58</th>\n",
       "      <td>6.6</td>\n",
       "      <td>4.6</td>\n",
       "    </tr>\n",
       "    <tr>\n",
       "      <th>9</th>\n",
       "      <td>4.9</td>\n",
       "      <td>1.5</td>\n",
       "    </tr>\n",
       "    <tr>\n",
       "      <th>50</th>\n",
       "      <td>7.0</td>\n",
       "      <td>4.7</td>\n",
       "    </tr>\n",
       "    <tr>\n",
       "      <th>72</th>\n",
       "      <td>6.3</td>\n",
       "      <td>4.9</td>\n",
       "    </tr>\n",
       "    <tr>\n",
       "      <th>87</th>\n",
       "      <td>6.3</td>\n",
       "      <td>4.4</td>\n",
       "    </tr>\n",
       "    <tr>\n",
       "      <th>1</th>\n",
       "      <td>4.9</td>\n",
       "      <td>1.4</td>\n",
       "    </tr>\n",
       "    <tr>\n",
       "      <th>69</th>\n",
       "      <td>5.6</td>\n",
       "      <td>3.9</td>\n",
       "    </tr>\n",
       "    <tr>\n",
       "      <th>55</th>\n",
       "      <td>5.7</td>\n",
       "      <td>4.5</td>\n",
       "    </tr>\n",
       "    <tr>\n",
       "      <th>46</th>\n",
       "      <td>5.1</td>\n",
       "      <td>1.6</td>\n",
       "    </tr>\n",
       "  </tbody>\n",
       "</table>\n",
       "</div>"
      ],
      "text/plain": [
       "    sepal_length  petal_length\n",
       "90           5.5           4.4\n",
       "98           5.1           3.0\n",
       "58           6.6           4.6\n",
       "9            4.9           1.5\n",
       "50           7.0           4.7\n",
       "72           6.3           4.9\n",
       "87           6.3           4.4\n",
       "1            4.9           1.4\n",
       "69           5.6           3.9\n",
       "55           5.7           4.5\n",
       "46           5.1           1.6"
      ]
     },
     "execution_count": 14,
     "metadata": {},
     "output_type": "execute_result"
    }
   ],
   "source": [
    "df.loc[90:,['sepal_length', 'petal_length']]"
   ]
  },
  {
   "cell_type": "code",
   "execution_count": 15,
   "metadata": {},
   "outputs": [
    {
     "data": {
      "text/html": [
       "<div>\n",
       "<style>\n",
       "    .dataframe thead tr:only-child th {\n",
       "        text-align: right;\n",
       "    }\n",
       "\n",
       "    .dataframe thead th {\n",
       "        text-align: left;\n",
       "    }\n",
       "\n",
       "    .dataframe tbody tr th {\n",
       "        vertical-align: top;\n",
       "    }\n",
       "</style>\n",
       "<table border=\"1\" class=\"dataframe\">\n",
       "  <thead>\n",
       "    <tr style=\"text-align: right;\">\n",
       "      <th></th>\n",
       "      <th>sepal_length</th>\n",
       "      <th>petal_length</th>\n",
       "    </tr>\n",
       "  </thead>\n",
       "  <tbody>\n",
       "    <tr>\n",
       "      <th>90</th>\n",
       "      <td>0.045420</td>\n",
       "      <td>1.067090</td>\n",
       "    </tr>\n",
       "    <tr>\n",
       "      <th>98</th>\n",
       "      <td>-0.581066</td>\n",
       "      <td>0.095747</td>\n",
       "    </tr>\n",
       "    <tr>\n",
       "      <th>58</th>\n",
       "      <td>1.768257</td>\n",
       "      <td>1.205853</td>\n",
       "    </tr>\n",
       "    <tr>\n",
       "      <th>9</th>\n",
       "      <td>-0.894309</td>\n",
       "      <td>-0.944978</td>\n",
       "    </tr>\n",
       "    <tr>\n",
       "      <th>50</th>\n",
       "      <td>2.394743</td>\n",
       "      <td>1.275234</td>\n",
       "    </tr>\n",
       "    <tr>\n",
       "      <th>72</th>\n",
       "      <td>1.298393</td>\n",
       "      <td>1.413998</td>\n",
       "    </tr>\n",
       "    <tr>\n",
       "      <th>87</th>\n",
       "      <td>1.298393</td>\n",
       "      <td>1.067090</td>\n",
       "    </tr>\n",
       "    <tr>\n",
       "      <th>1</th>\n",
       "      <td>-0.894309</td>\n",
       "      <td>-1.014360</td>\n",
       "    </tr>\n",
       "    <tr>\n",
       "      <th>69</th>\n",
       "      <td>0.202042</td>\n",
       "      <td>0.720181</td>\n",
       "    </tr>\n",
       "    <tr>\n",
       "      <th>55</th>\n",
       "      <td>0.358663</td>\n",
       "      <td>1.136471</td>\n",
       "    </tr>\n",
       "    <tr>\n",
       "      <th>46</th>\n",
       "      <td>-0.581066</td>\n",
       "      <td>-0.875596</td>\n",
       "    </tr>\n",
       "  </tbody>\n",
       "</table>\n",
       "</div>"
      ],
      "text/plain": [
       "    sepal_length  petal_length\n",
       "90      0.045420      1.067090\n",
       "98     -0.581066      0.095747\n",
       "58      1.768257      1.205853\n",
       "9      -0.894309     -0.944978\n",
       "50      2.394743      1.275234\n",
       "72      1.298393      1.413998\n",
       "87      1.298393      1.067090\n",
       "1      -0.894309     -1.014360\n",
       "69      0.202042      0.720181\n",
       "55      0.358663      1.136471\n",
       "46     -0.581066     -0.875596"
      ]
     },
     "execution_count": 15,
     "metadata": {},
     "output_type": "execute_result"
    }
   ],
   "source": [
    "#df_std.iloc[89:]\n",
    "df_std.loc[90:,:]"
   ]
  },
  {
   "cell_type": "markdown",
   "metadata": {},
   "source": [
    "3\\. Re-train the data after standarization."
   ]
  },
  {
   "cell_type": "code",
   "execution_count": 16,
   "metadata": {
    "collapsed": true
   },
   "outputs": [],
   "source": [
    "ada_std = AdalineGD(n_iter=15, eta=0.01).fit(X_std, y)"
   ]
  },
  {
   "cell_type": "code",
   "execution_count": 17,
   "metadata": {},
   "outputs": [
    {
     "data": {
      "text/plain": [
       "<matplotlib.legend.Legend at 0x1164d67d0>"
      ]
     },
     "execution_count": 17,
     "metadata": {},
     "output_type": "execute_result"
    }
   ],
   "source": [
    "plt.figure(figsize=(8, 6))\n",
    "plot_decision_regions(X_std, y, classifier=ada_std)\n",
    "plt.title('Adline - Gradient Decent')\n",
    "plt.xlabel('sepal length [standardized] [cm]', fontsize=18)\n",
    "plt.ylabel('petal length [standardized] [cm]', fontsize=18)\n",
    "plt.legend(loc='upper left', fontsize=18)\n",
    "#plt.show()"
   ]
  },
  {
   "cell_type": "code",
   "execution_count": 18,
   "metadata": {
    "collapsed": true
   },
   "outputs": [],
   "source": [
    "x = np.arange(-4, 4., 0.1)\n",
    "c0 = -1*ada_std.w_[0]/ada_std.w_[2]\n",
    "c1 = -1*ada_std.w_[1]/ada_std.w_[2]"
   ]
  },
  {
   "cell_type": "code",
   "execution_count": 19,
   "metadata": {},
   "outputs": [
    {
     "data": {
      "image/png": "[encoded data removed]",
      "text/plain": [
       "<matplotlib.figure.Figure at 0x1164d6750>"
      ]
     },
     "metadata": {},
     "output_type": "display_data"
    },
    {
     "name": "stdout",
     "output_type": "stream",
     "text": [
      "Green line : y = 0.00 + 0.11*x = 0\n",
      "Blue y > 0, red y < 0\n"
     ]
    }
   ],
   "source": [
    "plt.plot(x, c0+c1*x, 'g--')\n",
    "plt.show()\n",
    "print 'Green line : y = %.2f + %.2f*x = 0'%(c0, c1)\n",
    "print 'Blue y > 0, red y < 0'"
   ]
  },
  {
   "cell_type": "code",
   "execution_count": 20,
   "metadata": {},
   "outputs": [
    {
     "name": "stdout",
     "output_type": "stream",
     "text": [
      "The weights of eta=0.01 [std]: [ -6.03961325e-16  -1.26256159e-01   1.10479201e+00]\n"
     ]
    }
   ],
   "source": [
    "print 'The weights of eta=0.01 [std]: '+str(ada_std.w_)"
   ]
  },
  {
   "cell_type": "code",
   "execution_count": 21,
   "metadata": {},
   "outputs": [
    {
     "data": {
      "image/png": "[encoded data removed]",
      "text/plain": [
       "<matplotlib.figure.Figure at 0x11691a650>"
      ]
     },
     "metadata": {},
     "output_type": "display_data"
    }
   ],
   "source": [
    "plt.figure(figsize=(8, 6))\n",
    "plt.plot(range(1, len(ada_std.cost_) + 1), ada_std.cost_, marker='o')\n",
    "plt.xlabel('Epochs', fontsize=18)\n",
    "plt.ylabel('Sum-squared-error', fontsize=18)\n",
    "plt.title('Adaline - Learning rate 0.01', fontsize=18)\n",
    "plt.xlim(xmin=1)\n",
    "plt.show()"
   ]
  }
 ],
 "metadata": {
  "kernelspec": {
   "display_name": "Python 2",
   "language": "python",
   "name": "python2"
  },
  "language_info": {
   "codemirror_mode": {
    "name": "ipython",
    "version": 2
   },
   "file_extension": ".py",
   "mimetype": "text/x-python",
   "name": "python",
   "nbconvert_exporter": "python",
   "pygments_lexer": "ipython2",
   "version": "2.7.13"
  }
 },
 "nbformat": 4,
 "nbformat_minor": 2
}

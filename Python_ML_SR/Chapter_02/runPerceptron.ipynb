{
 "cells": [
  {
   "cell_type": "markdown",
   "metadata": {},
   "source": [
    "# Run the hand-made Perceptron class\n",
    "------\n",
    "### Import basic needed modules"
   ]
  },
  {
   "cell_type": "code",
   "execution_count": 1,
   "metadata": {
    "collapsed": true
   },
   "outputs": [],
   "source": [
    "import pandas as pd\n",
    "import numpy as np\n",
    "import matplotlib.pyplot as plt"
   ]
  },
  {
   "cell_type": "markdown",
   "metadata": {},
   "source": [
    "---\n",
    "### Load and setup data/variables \n",
    "1\\. Input Iris.data (.CSV) with *pandas* to be a dataframe (df)"
   ]
  },
  {
   "cell_type": "code",
   "execution_count": 2,
   "metadata": {},
   "outputs": [
    {
     "data": {
      "text/html": [
       "<div>\n",
       "<style>\n",
       "    .dataframe thead tr:only-child th {\n",
       "        text-align: right;\n",
       "    }\n",
       "\n",
       "    .dataframe thead th {\n",
       "        text-align: left;\n",
       "    }\n",
       "\n",
       "    .dataframe tbody tr th {\n",
       "        vertical-align: top;\n",
       "    }\n",
       "</style>\n",
       "<table border=\"1\" class=\"dataframe\">\n",
       "  <thead>\n",
       "    <tr style=\"text-align: right;\">\n",
       "      <th></th>\n",
       "      <th>0</th>\n",
       "      <th>1</th>\n",
       "      <th>2</th>\n",
       "      <th>3</th>\n",
       "      <th>4</th>\n",
       "    </tr>\n",
       "  </thead>\n",
       "  <tbody>\n",
       "    <tr>\n",
       "      <th>0</th>\n",
       "      <td>5.1</td>\n",
       "      <td>3.5</td>\n",
       "      <td>1.4</td>\n",
       "      <td>0.2</td>\n",
       "      <td>Iris-setosa</td>\n",
       "    </tr>\n",
       "    <tr>\n",
       "      <th>1</th>\n",
       "      <td>4.9</td>\n",
       "      <td>3.0</td>\n",
       "      <td>1.4</td>\n",
       "      <td>0.2</td>\n",
       "      <td>Iris-setosa</td>\n",
       "    </tr>\n",
       "    <tr>\n",
       "      <th>2</th>\n",
       "      <td>4.7</td>\n",
       "      <td>3.2</td>\n",
       "      <td>1.3</td>\n",
       "      <td>0.2</td>\n",
       "      <td>Iris-setosa</td>\n",
       "    </tr>\n",
       "    <tr>\n",
       "      <th>3</th>\n",
       "      <td>4.6</td>\n",
       "      <td>3.1</td>\n",
       "      <td>1.5</td>\n",
       "      <td>0.2</td>\n",
       "      <td>Iris-setosa</td>\n",
       "    </tr>\n",
       "    <tr>\n",
       "      <th>4</th>\n",
       "      <td>5.0</td>\n",
       "      <td>3.6</td>\n",
       "      <td>1.4</td>\n",
       "      <td>0.2</td>\n",
       "      <td>Iris-setosa</td>\n",
       "    </tr>\n",
       "    <tr>\n",
       "      <th>5</th>\n",
       "      <td>5.4</td>\n",
       "      <td>3.9</td>\n",
       "      <td>1.7</td>\n",
       "      <td>0.4</td>\n",
       "      <td>Iris-setosa</td>\n",
       "    </tr>\n",
       "    <tr>\n",
       "      <th>6</th>\n",
       "      <td>4.6</td>\n",
       "      <td>3.4</td>\n",
       "      <td>1.4</td>\n",
       "      <td>0.3</td>\n",
       "      <td>Iris-setosa</td>\n",
       "    </tr>\n",
       "    <tr>\n",
       "      <th>7</th>\n",
       "      <td>5.0</td>\n",
       "      <td>3.4</td>\n",
       "      <td>1.5</td>\n",
       "      <td>0.2</td>\n",
       "      <td>Iris-setosa</td>\n",
       "    </tr>\n",
       "    <tr>\n",
       "      <th>8</th>\n",
       "      <td>4.4</td>\n",
       "      <td>2.9</td>\n",
       "      <td>1.4</td>\n",
       "      <td>0.2</td>\n",
       "      <td>Iris-setosa</td>\n",
       "    </tr>\n",
       "    <tr>\n",
       "      <th>9</th>\n",
       "      <td>4.9</td>\n",
       "      <td>3.1</td>\n",
       "      <td>1.5</td>\n",
       "      <td>0.1</td>\n",
       "      <td>Iris-setosa</td>\n",
       "    </tr>\n",
       "    <tr>\n",
       "      <th>10</th>\n",
       "      <td>5.4</td>\n",
       "      <td>3.7</td>\n",
       "      <td>1.5</td>\n",
       "      <td>0.2</td>\n",
       "      <td>Iris-setosa</td>\n",
       "    </tr>\n",
       "    <tr>\n",
       "      <th>11</th>\n",
       "      <td>4.8</td>\n",
       "      <td>3.4</td>\n",
       "      <td>1.6</td>\n",
       "      <td>0.2</td>\n",
       "      <td>Iris-setosa</td>\n",
       "    </tr>\n",
       "    <tr>\n",
       "      <th>12</th>\n",
       "      <td>4.8</td>\n",
       "      <td>3.0</td>\n",
       "      <td>1.4</td>\n",
       "      <td>0.1</td>\n",
       "      <td>Iris-setosa</td>\n",
       "    </tr>\n",
       "    <tr>\n",
       "      <th>13</th>\n",
       "      <td>4.3</td>\n",
       "      <td>3.0</td>\n",
       "      <td>1.1</td>\n",
       "      <td>0.1</td>\n",
       "      <td>Iris-setosa</td>\n",
       "    </tr>\n",
       "    <tr>\n",
       "      <th>14</th>\n",
       "      <td>5.8</td>\n",
       "      <td>4.0</td>\n",
       "      <td>1.2</td>\n",
       "      <td>0.2</td>\n",
       "      <td>Iris-setosa</td>\n",
       "    </tr>\n",
       "    <tr>\n",
       "      <th>15</th>\n",
       "      <td>5.7</td>\n",
       "      <td>4.4</td>\n",
       "      <td>1.5</td>\n",
       "      <td>0.4</td>\n",
       "      <td>Iris-setosa</td>\n",
       "    </tr>\n",
       "    <tr>\n",
       "      <th>16</th>\n",
       "      <td>5.4</td>\n",
       "      <td>3.9</td>\n",
       "      <td>1.3</td>\n",
       "      <td>0.4</td>\n",
       "      <td>Iris-setosa</td>\n",
       "    </tr>\n",
       "    <tr>\n",
       "      <th>17</th>\n",
       "      <td>5.1</td>\n",
       "      <td>3.5</td>\n",
       "      <td>1.4</td>\n",
       "      <td>0.3</td>\n",
       "      <td>Iris-setosa</td>\n",
       "    </tr>\n",
       "    <tr>\n",
       "      <th>18</th>\n",
       "      <td>5.7</td>\n",
       "      <td>3.8</td>\n",
       "      <td>1.7</td>\n",
       "      <td>0.3</td>\n",
       "      <td>Iris-setosa</td>\n",
       "    </tr>\n",
       "    <tr>\n",
       "      <th>19</th>\n",
       "      <td>5.1</td>\n",
       "      <td>3.8</td>\n",
       "      <td>1.5</td>\n",
       "      <td>0.3</td>\n",
       "      <td>Iris-setosa</td>\n",
       "    </tr>\n",
       "    <tr>\n",
       "      <th>20</th>\n",
       "      <td>5.4</td>\n",
       "      <td>3.4</td>\n",
       "      <td>1.7</td>\n",
       "      <td>0.2</td>\n",
       "      <td>Iris-setosa</td>\n",
       "    </tr>\n",
       "    <tr>\n",
       "      <th>21</th>\n",
       "      <td>5.1</td>\n",
       "      <td>3.7</td>\n",
       "      <td>1.5</td>\n",
       "      <td>0.4</td>\n",
       "      <td>Iris-setosa</td>\n",
       "    </tr>\n",
       "    <tr>\n",
       "      <th>22</th>\n",
       "      <td>4.6</td>\n",
       "      <td>3.6</td>\n",
       "      <td>1.0</td>\n",
       "      <td>0.2</td>\n",
       "      <td>Iris-setosa</td>\n",
       "    </tr>\n",
       "    <tr>\n",
       "      <th>23</th>\n",
       "      <td>5.1</td>\n",
       "      <td>3.3</td>\n",
       "      <td>1.7</td>\n",
       "      <td>0.5</td>\n",
       "      <td>Iris-setosa</td>\n",
       "    </tr>\n",
       "    <tr>\n",
       "      <th>24</th>\n",
       "      <td>4.8</td>\n",
       "      <td>3.4</td>\n",
       "      <td>1.9</td>\n",
       "      <td>0.2</td>\n",
       "      <td>Iris-setosa</td>\n",
       "    </tr>\n",
       "    <tr>\n",
       "      <th>25</th>\n",
       "      <td>5.0</td>\n",
       "      <td>3.0</td>\n",
       "      <td>1.6</td>\n",
       "      <td>0.2</td>\n",
       "      <td>Iris-setosa</td>\n",
       "    </tr>\n",
       "    <tr>\n",
       "      <th>26</th>\n",
       "      <td>5.0</td>\n",
       "      <td>3.4</td>\n",
       "      <td>1.6</td>\n",
       "      <td>0.4</td>\n",
       "      <td>Iris-setosa</td>\n",
       "    </tr>\n",
       "    <tr>\n",
       "      <th>27</th>\n",
       "      <td>5.2</td>\n",
       "      <td>3.5</td>\n",
       "      <td>1.5</td>\n",
       "      <td>0.2</td>\n",
       "      <td>Iris-setosa</td>\n",
       "    </tr>\n",
       "    <tr>\n",
       "      <th>28</th>\n",
       "      <td>5.2</td>\n",
       "      <td>3.4</td>\n",
       "      <td>1.4</td>\n",
       "      <td>0.2</td>\n",
       "      <td>Iris-setosa</td>\n",
       "    </tr>\n",
       "    <tr>\n",
       "      <th>29</th>\n",
       "      <td>4.7</td>\n",
       "      <td>3.2</td>\n",
       "      <td>1.6</td>\n",
       "      <td>0.2</td>\n",
       "      <td>Iris-setosa</td>\n",
       "    </tr>\n",
       "    <tr>\n",
       "      <th>...</th>\n",
       "      <td>...</td>\n",
       "      <td>...</td>\n",
       "      <td>...</td>\n",
       "      <td>...</td>\n",
       "      <td>...</td>\n",
       "    </tr>\n",
       "    <tr>\n",
       "      <th>70</th>\n",
       "      <td>5.9</td>\n",
       "      <td>3.2</td>\n",
       "      <td>4.8</td>\n",
       "      <td>1.8</td>\n",
       "      <td>Iris-versicolor</td>\n",
       "    </tr>\n",
       "    <tr>\n",
       "      <th>71</th>\n",
       "      <td>6.1</td>\n",
       "      <td>2.8</td>\n",
       "      <td>4.0</td>\n",
       "      <td>1.3</td>\n",
       "      <td>Iris-versicolor</td>\n",
       "    </tr>\n",
       "    <tr>\n",
       "      <th>72</th>\n",
       "      <td>6.3</td>\n",
       "      <td>2.5</td>\n",
       "      <td>4.9</td>\n",
       "      <td>1.5</td>\n",
       "      <td>Iris-versicolor</td>\n",
       "    </tr>\n",
       "    <tr>\n",
       "      <th>73</th>\n",
       "      <td>6.1</td>\n",
       "      <td>2.8</td>\n",
       "      <td>4.7</td>\n",
       "      <td>1.2</td>\n",
       "      <td>Iris-versicolor</td>\n",
       "    </tr>\n",
       "    <tr>\n",
       "      <th>74</th>\n",
       "      <td>6.4</td>\n",
       "      <td>2.9</td>\n",
       "      <td>4.3</td>\n",
       "      <td>1.3</td>\n",
       "      <td>Iris-versicolor</td>\n",
       "    </tr>\n",
       "    <tr>\n",
       "      <th>75</th>\n",
       "      <td>6.6</td>\n",
       "      <td>3.0</td>\n",
       "      <td>4.4</td>\n",
       "      <td>1.4</td>\n",
       "      <td>Iris-versicolor</td>\n",
       "    </tr>\n",
       "    <tr>\n",
       "      <th>76</th>\n",
       "      <td>6.8</td>\n",
       "      <td>2.8</td>\n",
       "      <td>4.8</td>\n",
       "      <td>1.4</td>\n",
       "      <td>Iris-versicolor</td>\n",
       "    </tr>\n",
       "    <tr>\n",
       "      <th>77</th>\n",
       "      <td>6.7</td>\n",
       "      <td>3.0</td>\n",
       "      <td>5.0</td>\n",
       "      <td>1.7</td>\n",
       "      <td>Iris-versicolor</td>\n",
       "    </tr>\n",
       "    <tr>\n",
       "      <th>78</th>\n",
       "      <td>6.0</td>\n",
       "      <td>2.9</td>\n",
       "      <td>4.5</td>\n",
       "      <td>1.5</td>\n",
       "      <td>Iris-versicolor</td>\n",
       "    </tr>\n",
       "    <tr>\n",
       "      <th>79</th>\n",
       "      <td>5.7</td>\n",
       "      <td>2.6</td>\n",
       "      <td>3.5</td>\n",
       "      <td>1.0</td>\n",
       "      <td>Iris-versicolor</td>\n",
       "    </tr>\n",
       "    <tr>\n",
       "      <th>80</th>\n",
       "      <td>5.5</td>\n",
       "      <td>2.4</td>\n",
       "      <td>3.8</td>\n",
       "      <td>1.1</td>\n",
       "      <td>Iris-versicolor</td>\n",
       "    </tr>\n",
       "    <tr>\n",
       "      <th>81</th>\n",
       "      <td>5.5</td>\n",
       "      <td>2.4</td>\n",
       "      <td>3.7</td>\n",
       "      <td>1.0</td>\n",
       "      <td>Iris-versicolor</td>\n",
       "    </tr>\n",
       "    <tr>\n",
       "      <th>82</th>\n",
       "      <td>5.8</td>\n",
       "      <td>2.7</td>\n",
       "      <td>3.9</td>\n",
       "      <td>1.2</td>\n",
       "      <td>Iris-versicolor</td>\n",
       "    </tr>\n",
       "    <tr>\n",
       "      <th>83</th>\n",
       "      <td>6.0</td>\n",
       "      <td>2.7</td>\n",
       "      <td>5.1</td>\n",
       "      <td>1.6</td>\n",
       "      <td>Iris-versicolor</td>\n",
       "    </tr>\n",
       "    <tr>\n",
       "      <th>84</th>\n",
       "      <td>5.4</td>\n",
       "      <td>3.0</td>\n",
       "      <td>4.5</td>\n",
       "      <td>1.5</td>\n",
       "      <td>Iris-versicolor</td>\n",
       "    </tr>\n",
       "    <tr>\n",
       "      <th>85</th>\n",
       "      <td>6.0</td>\n",
       "      <td>3.4</td>\n",
       "      <td>4.5</td>\n",
       "      <td>1.6</td>\n",
       "      <td>Iris-versicolor</td>\n",
       "    </tr>\n",
       "    <tr>\n",
       "      <th>86</th>\n",
       "      <td>6.7</td>\n",
       "      <td>3.1</td>\n",
       "      <td>4.7</td>\n",
       "      <td>1.5</td>\n",
       "      <td>Iris-versicolor</td>\n",
       "    </tr>\n",
       "    <tr>\n",
       "      <th>87</th>\n",
       "      <td>6.3</td>\n",
       "      <td>2.3</td>\n",
       "      <td>4.4</td>\n",
       "      <td>1.3</td>\n",
       "      <td>Iris-versicolor</td>\n",
       "    </tr>\n",
       "    <tr>\n",
       "      <th>88</th>\n",
       "      <td>5.6</td>\n",
       "      <td>3.0</td>\n",
       "      <td>4.1</td>\n",
       "      <td>1.3</td>\n",
       "      <td>Iris-versicolor</td>\n",
       "    </tr>\n",
       "    <tr>\n",
       "      <th>89</th>\n",
       "      <td>5.5</td>\n",
       "      <td>2.5</td>\n",
       "      <td>4.0</td>\n",
       "      <td>1.3</td>\n",
       "      <td>Iris-versicolor</td>\n",
       "    </tr>\n",
       "    <tr>\n",
       "      <th>90</th>\n",
       "      <td>5.5</td>\n",
       "      <td>2.6</td>\n",
       "      <td>4.4</td>\n",
       "      <td>1.2</td>\n",
       "      <td>Iris-versicolor</td>\n",
       "    </tr>\n",
       "    <tr>\n",
       "      <th>91</th>\n",
       "      <td>6.1</td>\n",
       "      <td>3.0</td>\n",
       "      <td>4.6</td>\n",
       "      <td>1.4</td>\n",
       "      <td>Iris-versicolor</td>\n",
       "    </tr>\n",
       "    <tr>\n",
       "      <th>92</th>\n",
       "      <td>5.8</td>\n",
       "      <td>2.6</td>\n",
       "      <td>4.0</td>\n",
       "      <td>1.2</td>\n",
       "      <td>Iris-versicolor</td>\n",
       "    </tr>\n",
       "    <tr>\n",
       "      <th>93</th>\n",
       "      <td>5.0</td>\n",
       "      <td>2.3</td>\n",
       "      <td>3.3</td>\n",
       "      <td>1.0</td>\n",
       "      <td>Iris-versicolor</td>\n",
       "    </tr>\n",
       "    <tr>\n",
       "      <th>94</th>\n",
       "      <td>5.6</td>\n",
       "      <td>2.7</td>\n",
       "      <td>4.2</td>\n",
       "      <td>1.3</td>\n",
       "      <td>Iris-versicolor</td>\n",
       "    </tr>\n",
       "    <tr>\n",
       "      <th>95</th>\n",
       "      <td>5.7</td>\n",
       "      <td>3.0</td>\n",
       "      <td>4.2</td>\n",
       "      <td>1.2</td>\n",
       "      <td>Iris-versicolor</td>\n",
       "    </tr>\n",
       "    <tr>\n",
       "      <th>96</th>\n",
       "      <td>5.7</td>\n",
       "      <td>2.9</td>\n",
       "      <td>4.2</td>\n",
       "      <td>1.3</td>\n",
       "      <td>Iris-versicolor</td>\n",
       "    </tr>\n",
       "    <tr>\n",
       "      <th>97</th>\n",
       "      <td>6.2</td>\n",
       "      <td>2.9</td>\n",
       "      <td>4.3</td>\n",
       "      <td>1.3</td>\n",
       "      <td>Iris-versicolor</td>\n",
       "    </tr>\n",
       "    <tr>\n",
       "      <th>98</th>\n",
       "      <td>5.1</td>\n",
       "      <td>2.5</td>\n",
       "      <td>3.0</td>\n",
       "      <td>1.1</td>\n",
       "      <td>Iris-versicolor</td>\n",
       "    </tr>\n",
       "    <tr>\n",
       "      <th>99</th>\n",
       "      <td>5.7</td>\n",
       "      <td>2.8</td>\n",
       "      <td>4.1</td>\n",
       "      <td>1.3</td>\n",
       "      <td>Iris-versicolor</td>\n",
       "    </tr>\n",
       "  </tbody>\n",
       "</table>\n",
       "<p>100 rows × 5 columns</p>\n",
       "</div>"
      ],
      "text/plain": [
       "      0    1    2    3                4\n",
       "0   5.1  3.5  1.4  0.2      Iris-setosa\n",
       "1   4.9  3.0  1.4  0.2      Iris-setosa\n",
       "2   4.7  3.2  1.3  0.2      Iris-setosa\n",
       "3   4.6  3.1  1.5  0.2      Iris-setosa\n",
       "4   5.0  3.6  1.4  0.2      Iris-setosa\n",
       "5   5.4  3.9  1.7  0.4      Iris-setosa\n",
       "6   4.6  3.4  1.4  0.3      Iris-setosa\n",
       "7   5.0  3.4  1.5  0.2      Iris-setosa\n",
       "8   4.4  2.9  1.4  0.2      Iris-setosa\n",
       "9   4.9  3.1  1.5  0.1      Iris-setosa\n",
       "10  5.4  3.7  1.5  0.2      Iris-setosa\n",
       "11  4.8  3.4  1.6  0.2      Iris-setosa\n",
       "12  4.8  3.0  1.4  0.1      Iris-setosa\n",
       "13  4.3  3.0  1.1  0.1      Iris-setosa\n",
       "14  5.8  4.0  1.2  0.2      Iris-setosa\n",
       "15  5.7  4.4  1.5  0.4      Iris-setosa\n",
       "16  5.4  3.9  1.3  0.4      Iris-setosa\n",
       "17  5.1  3.5  1.4  0.3      Iris-setosa\n",
       "18  5.7  3.8  1.7  0.3      Iris-setosa\n",
       "19  5.1  3.8  1.5  0.3      Iris-setosa\n",
       "20  5.4  3.4  1.7  0.2      Iris-setosa\n",
       "21  5.1  3.7  1.5  0.4      Iris-setosa\n",
       "22  4.6  3.6  1.0  0.2      Iris-setosa\n",
       "23  5.1  3.3  1.7  0.5      Iris-setosa\n",
       "24  4.8  3.4  1.9  0.2      Iris-setosa\n",
       "25  5.0  3.0  1.6  0.2      Iris-setosa\n",
       "26  5.0  3.4  1.6  0.4      Iris-setosa\n",
       "27  5.2  3.5  1.5  0.2      Iris-setosa\n",
       "28  5.2  3.4  1.4  0.2      Iris-setosa\n",
       "29  4.7  3.2  1.6  0.2      Iris-setosa\n",
       "..  ...  ...  ...  ...              ...\n",
       "70  5.9  3.2  4.8  1.8  Iris-versicolor\n",
       "71  6.1  2.8  4.0  1.3  Iris-versicolor\n",
       "72  6.3  2.5  4.9  1.5  Iris-versicolor\n",
       "73  6.1  2.8  4.7  1.2  Iris-versicolor\n",
       "74  6.4  2.9  4.3  1.3  Iris-versicolor\n",
       "75  6.6  3.0  4.4  1.4  Iris-versicolor\n",
       "76  6.8  2.8  4.8  1.4  Iris-versicolor\n",
       "77  6.7  3.0  5.0  1.7  Iris-versicolor\n",
       "78  6.0  2.9  4.5  1.5  Iris-versicolor\n",
       "79  5.7  2.6  3.5  1.0  Iris-versicolor\n",
       "80  5.5  2.4  3.8  1.1  Iris-versicolor\n",
       "81  5.5  2.4  3.7  1.0  Iris-versicolor\n",
       "82  5.8  2.7  3.9  1.2  Iris-versicolor\n",
       "83  6.0  2.7  5.1  1.6  Iris-versicolor\n",
       "84  5.4  3.0  4.5  1.5  Iris-versicolor\n",
       "85  6.0  3.4  4.5  1.6  Iris-versicolor\n",
       "86  6.7  3.1  4.7  1.5  Iris-versicolor\n",
       "87  6.3  2.3  4.4  1.3  Iris-versicolor\n",
       "88  5.6  3.0  4.1  1.3  Iris-versicolor\n",
       "89  5.5  2.5  4.0  1.3  Iris-versicolor\n",
       "90  5.5  2.6  4.4  1.2  Iris-versicolor\n",
       "91  6.1  3.0  4.6  1.4  Iris-versicolor\n",
       "92  5.8  2.6  4.0  1.2  Iris-versicolor\n",
       "93  5.0  2.3  3.3  1.0  Iris-versicolor\n",
       "94  5.6  2.7  4.2  1.3  Iris-versicolor\n",
       "95  5.7  3.0  4.2  1.2  Iris-versicolor\n",
       "96  5.7  2.9  4.2  1.3  Iris-versicolor\n",
       "97  6.2  2.9  4.3  1.3  Iris-versicolor\n",
       "98  5.1  2.5  3.0  1.1  Iris-versicolor\n",
       "99  5.7  2.8  4.1  1.3  Iris-versicolor\n",
       "\n",
       "[100 rows x 5 columns]"
      ]
     },
     "execution_count": 2,
     "metadata": {},
     "output_type": "execute_result"
    }
   ],
   "source": [
    "df = pd.read_csv('iris.data', header=None)\n",
    "#print df.tail()\n",
    "df.head(n=100)"
   ]
  },
  {
   "cell_type": "markdown",
   "metadata": {},
   "source": [
    "2\\. Extract 100 data from dataframe df \n",
    "* No.4 colume to y\n",
    "* No.0 & 2 columes to be X, with 2-D variables "
   ]
  },
  {
   "cell_type": "code",
   "execution_count": 3,
   "metadata": {},
   "outputs": [],
   "source": [
    "# Filling y and X\n",
    "y = df.iloc[0:100, 4].values\n",
    "X = df.iloc[0:100, [0,2]].values\n",
    "#print (\"y :\", y)\n",
    "#print (\"X :\", X)"
   ]
  },
  {
   "cell_type": "markdown",
   "metadata": {},
   "source": [
    "3\\. Change the text to distigushable real rumber in y"
   ]
  },
  {
   "cell_type": "code",
   "execution_count": 4,
   "metadata": {
    "collapsed": true
   },
   "outputs": [],
   "source": [
    "y = np.where(y == 'Iris-setosa', -1, 1)"
   ]
  },
  {
   "cell_type": "markdown",
   "metadata": {},
   "source": [
    "4\\. Visualize the current distrubtion from data"
   ]
  },
  {
   "cell_type": "code",
   "execution_count": 5,
   "metadata": {},
   "outputs": [
    {
     "data": {
      "image/png": "[encoded data removed]",
      "text/plain": [
       "<matplotlib.figure.Figure at 0x10c3f8890>"
      ]
     },
     "metadata": {},
     "output_type": "display_data"
    }
   ],
   "source": [
    "# Ploting : significance variables\n",
    "plt.scatter(X[:50, 0], X[:50, 1], color='red', marker='o', label='setosa')\n",
    "plt.scatter(X[50:100, 0], X[50:100, 1], color='blue', marker='x', label='versicolor')\n",
    "plt.xlabel('petal length')\n",
    "plt.ylabel('sepal length')\n",
    "plt.legend(loc='upper left')\n",
    "plt.show()"
   ]
  },
  {
   "cell_type": "markdown",
   "metadata": {},
   "source": [
    "---\n",
    "### Run hand-made Perceptron\n",
    "1\\. Import hand-made Perceptron class"
   ]
  },
  {
   "cell_type": "code",
   "execution_count": 6,
   "metadata": {
    "collapsed": true
   },
   "outputs": [],
   "source": [
    "from Perceptron import Perceptron"
   ]
  },
  {
   "cell_type": "markdown",
   "metadata": {},
   "source": [
    "2\\. Running percepton algorithm with 10 times iterations...."
   ]
  },
  {
   "cell_type": "code",
   "execution_count": 7,
   "metadata": {},
   "outputs": [
    {
     "data": {
      "text/plain": [
       "<Perceptron.Perceptron at 0x10eaacbd0>"
      ]
     },
     "execution_count": 7,
     "metadata": {},
     "output_type": "execute_result"
    }
   ],
   "source": [
    "# Percpetron setting\n",
    "ppn_10 = Perceptron(eta=0.1, n_iter=10)\n",
    "ppn_10.fit(X,y)"
   ]
  },
  {
   "cell_type": "markdown",
   "metadata": {},
   "source": [
    "3\\. Finished and visualizing the misclassifications as function of iterations"
   ]
  },
  {
   "cell_type": "code",
   "execution_count": 8,
   "metadata": {},
   "outputs": [
    {
     "data": {
      "image/png": "[encoded data removed]",
      "text/plain": [
       "<matplotlib.figure.Figure at 0x10ea8c2d0>"
      ]
     },
     "metadata": {},
     "output_type": "display_data"
    }
   ],
   "source": [
    "# Plotting\n",
    "plt.plot\n",
    "plt.plot(range(1, len(ppn_10.errors_) + 1), ppn_10.errors_, marker='o')\n",
    "plt.xlabel('Epochs')\n",
    "plt.ylabel('Number of misclassifications')\n",
    "plt.show()"
   ]
  },
  {
   "cell_type": "code",
   "execution_count": 9,
   "metadata": {},
   "outputs": [
    {
     "name": "stdout",
     "output_type": "stream",
     "text": [
      "weight w: [-0.4  -0.68  1.82]\n",
      "Activation function: -0.40 + -0.68*x_1 + 1.82*x_2\n"
     ]
    }
   ],
   "source": [
    "print 'weight w: '+str(ppn_10.w_)\n",
    "print 'Activation function: %.2f + %.2f*x_1 + %.2f*x_2'%(ppn_10.w_[0], ppn_10.w_[1], ppn_10.w_[2])"
   ]
  },
  {
   "cell_type": "markdown",
   "metadata": {},
   "source": [
    "---\n",
    "### Visualize decision regions\n",
    "Import hand-made funciton & plot"
   ]
  },
  {
   "cell_type": "code",
   "execution_count": 10,
   "metadata": {},
   "outputs": [
    {
     "data": {
      "image/png": "[encoded data removed]",
      "text/plain": [
       "<matplotlib.figure.Figure at 0x10ebacc50>"
      ]
     },
     "metadata": {},
     "output_type": "display_data"
    }
   ],
   "source": [
    "from plot_decision_regions import * \n",
    "plot_decision_regions( X, y, classifier=ppn_10, resolution=0.01 )\n",
    "plt.xlabel('sepal length [cm]')\n",
    "plt.ylabel('petal length [cm]')\n",
    "plt.legend(loc='upper left')\n",
    "plt.show()"
   ]
  },
  {
   "cell_type": "markdown",
   "metadata": {},
   "source": [
    "---\n",
    "# Summary and observing evelotion of iteration\n",
    "1\\. Create each iterations' classifiers"
   ]
  },
  {
   "cell_type": "code",
   "execution_count": 11,
   "metadata": {},
   "outputs": [],
   "source": [
    "#plt.figure(1)\n",
    "eta=0.1\n",
    "ppn = []\n",
    "for i in range(10):\n",
    "    ppn.append(Perceptron(eta=eta, n_iter=i+1))\n",
    "    ppn[i].fit(X,y)\n",
    "    \n",
    "    #plt.subplot(2, 5, i+1)\n",
    "    #plot_decision_regions( X, y, classifier=ppn[i] )\n",
    "    #plt.xlabel('sepal length [cm]')\n",
    "    #plt.ylabel('petal length [cm]')\n",
    "    #plt.legend(loc='upper left')\n",
    "#plt.show()"
   ]
  },
  {
   "cell_type": "markdown",
   "metadata": {},
   "source": [
    "2\\. define a function for plots"
   ]
  },
  {
   "cell_type": "code",
   "execution_count": 12,
   "metadata": {
    "collapsed": true
   },
   "outputs": [],
   "source": [
    "def plot_iter(n_iter):\n",
    "    n_misc = ppn[n_iter-1].checkMisclassified(X, y)\n",
    "    print 'weight :'+str(ppn[n_iter-1].w_)\n",
    "    print 'errors (online): '+str(ppn[n_iter-1].errors_[n_iter-1])\n",
    "    print 'misclass: '+str(n_misc)\n",
    "    print ppn[n_iter-1].misc\n",
    "    plot_decision_regions( X, y, classifier=ppn[n_iter-1] )\n",
    "    plt.xlabel('sepal length [cm]')\n",
    "    plt.ylabel('petal length [cm]')\n",
    "    plt.legend(loc='upper left', title='Iter '+str(n_iter))\n",
    "    plt.show()"
   ]
  },
  {
   "cell_type": "code",
   "execution_count": 13,
   "metadata": {},
   "outputs": [
    {
     "name": "stdout",
     "output_type": "stream",
     "text": [
      "weight :[ 0.    0.38  0.66]\n",
      "errors (online): 2\n",
      "misclass: 50\n",
      "[[ 5.1  1.4]\n",
      " [ 4.9  1.4]\n",
      " [ 4.7  1.3]\n",
      " [ 4.6  1.5]\n",
      " [ 5.   1.4]\n",
      " [ 5.4  1.7]\n",
      " [ 4.6  1.4]\n",
      " [ 5.   1.5]\n",
      " [ 4.4  1.4]\n",
      " [ 4.9  1.5]\n",
      " [ 5.4  1.5]\n",
      " [ 4.8  1.6]\n",
      " [ 4.8  1.4]\n",
      " [ 4.3  1.1]\n",
      " [ 5.8  1.2]\n",
      " [ 5.7  1.5]\n",
      " [ 5.4  1.3]\n",
      " [ 5.1  1.4]\n",
      " [ 5.7  1.7]\n",
      " [ 5.1  1.5]\n",
      " [ 5.4  1.7]\n",
      " [ 5.1  1.5]\n",
      " [ 4.6  1. ]\n",
      " [ 5.1  1.7]\n",
      " [ 4.8  1.9]\n",
      " [ 5.   1.6]\n",
      " [ 5.   1.6]\n",
      " [ 5.2  1.5]\n",
      " [ 5.2  1.4]\n",
      " [ 4.7  1.6]\n",
      " [ 4.8  1.6]\n",
      " [ 5.4  1.5]\n",
      " [ 5.2  1.5]\n",
      " [ 5.5  1.4]\n",
      " [ 4.9  1.5]\n",
      " [ 5.   1.2]\n",
      " [ 5.5  1.3]\n",
      " [ 4.9  1.5]\n",
      " [ 4.4  1.3]\n",
      " [ 5.1  1.5]\n",
      " [ 5.   1.3]\n",
      " [ 4.5  1.3]\n",
      " [ 4.4  1.3]\n",
      " [ 5.   1.6]\n",
      " [ 5.1  1.9]\n",
      " [ 4.8  1.4]\n",
      " [ 5.1  1.6]\n",
      " [ 4.6  1.4]\n",
      " [ 5.3  1.5]\n",
      " [ 5.   1.4]]\n"
     ]
    },
    {
     "data": {
      "image/png": "[encoded data removed]",
      "text/plain": [
       "<matplotlib.figure.Figure at 0x10ebc03d0>"
      ]
     },
     "metadata": {},
     "output_type": "display_data"
    }
   ],
   "source": [
    "plot_iter(1)"
   ]
  },
  {
   "cell_type": "code",
   "execution_count": 14,
   "metadata": {},
   "outputs": [
    {
     "name": "stdout",
     "output_type": "stream",
     "text": [
      "weight :[ 0.    0.76  1.32]\n",
      "errors (online): 2\n",
      "misclass: 50\n",
      "[[ 5.1  1.4]\n",
      " [ 4.9  1.4]\n",
      " [ 4.7  1.3]\n",
      " [ 4.6  1.5]\n",
      " [ 5.   1.4]\n",
      " [ 5.4  1.7]\n",
      " [ 4.6  1.4]\n",
      " [ 5.   1.5]\n",
      " [ 4.4  1.4]\n",
      " [ 4.9  1.5]\n",
      " [ 5.4  1.5]\n",
      " [ 4.8  1.6]\n",
      " [ 4.8  1.4]\n",
      " [ 4.3  1.1]\n",
      " [ 5.8  1.2]\n",
      " [ 5.7  1.5]\n",
      " [ 5.4  1.3]\n",
      " [ 5.1  1.4]\n",
      " [ 5.7  1.7]\n",
      " [ 5.1  1.5]\n",
      " [ 5.4  1.7]\n",
      " [ 5.1  1.5]\n",
      " [ 4.6  1. ]\n",
      " [ 5.1  1.7]\n",
      " [ 4.8  1.9]\n",
      " [ 5.   1.6]\n",
      " [ 5.   1.6]\n",
      " [ 5.2  1.5]\n",
      " [ 5.2  1.4]\n",
      " [ 4.7  1.6]\n",
      " [ 4.8  1.6]\n",
      " [ 5.4  1.5]\n",
      " [ 5.2  1.5]\n",
      " [ 5.5  1.4]\n",
      " [ 4.9  1.5]\n",
      " [ 5.   1.2]\n",
      " [ 5.5  1.3]\n",
      " [ 4.9  1.5]\n",
      " [ 4.4  1.3]\n",
      " [ 5.1  1.5]\n",
      " [ 5.   1.3]\n",
      " [ 4.5  1.3]\n",
      " [ 4.4  1.3]\n",
      " [ 5.   1.6]\n",
      " [ 5.1  1.9]\n",
      " [ 4.8  1.4]\n",
      " [ 5.1  1.6]\n",
      " [ 4.6  1.4]\n",
      " [ 5.3  1.5]\n",
      " [ 5.   1.4]]\n"
     ]
    },
    {
     "data": {
      "image/png": "[encoded data removed]",
      "text/plain": [
       "<matplotlib.figure.Figure at 0x110909310>"
      ]
     },
     "metadata": {},
     "output_type": "display_data"
    }
   ],
   "source": [
    "plot_iter(2)"
   ]
  },
  {
   "cell_type": "code",
   "execution_count": 15,
   "metadata": {},
   "outputs": [
    {
     "name": "stdout",
     "output_type": "stream",
     "text": [
      "weight :[-0.2   0.22  1.68]\n",
      "errors (online): 3\n",
      "misclass: 50\n",
      "[[ 5.1  1.4]\n",
      " [ 4.9  1.4]\n",
      " [ 4.7  1.3]\n",
      " [ 4.6  1.5]\n",
      " [ 5.   1.4]\n",
      " [ 5.4  1.7]\n",
      " [ 4.6  1.4]\n",
      " [ 5.   1.5]\n",
      " [ 4.4  1.4]\n",
      " [ 4.9  1.5]\n",
      " [ 5.4  1.5]\n",
      " [ 4.8  1.6]\n",
      " [ 4.8  1.4]\n",
      " [ 4.3  1.1]\n",
      " [ 5.8  1.2]\n",
      " [ 5.7  1.5]\n",
      " [ 5.4  1.3]\n",
      " [ 5.1  1.4]\n",
      " [ 5.7  1.7]\n",
      " [ 5.1  1.5]\n",
      " [ 5.4  1.7]\n",
      " [ 5.1  1.5]\n",
      " [ 4.6  1. ]\n",
      " [ 5.1  1.7]\n",
      " [ 4.8  1.9]\n",
      " [ 5.   1.6]\n",
      " [ 5.   1.6]\n",
      " [ 5.2  1.5]\n",
      " [ 5.2  1.4]\n",
      " [ 4.7  1.6]\n",
      " [ 4.8  1.6]\n",
      " [ 5.4  1.5]\n",
      " [ 5.2  1.5]\n",
      " [ 5.5  1.4]\n",
      " [ 4.9  1.5]\n",
      " [ 5.   1.2]\n",
      " [ 5.5  1.3]\n",
      " [ 4.9  1.5]\n",
      " [ 4.4  1.3]\n",
      " [ 5.1  1.5]\n",
      " [ 5.   1.3]\n",
      " [ 4.5  1.3]\n",
      " [ 4.4  1.3]\n",
      " [ 5.   1.6]\n",
      " [ 5.1  1.9]\n",
      " [ 4.8  1.4]\n",
      " [ 5.1  1.6]\n",
      " [ 4.6  1.4]\n",
      " [ 5.3  1.5]\n",
      " [ 5.   1.4]]\n"
     ]
    },
    {
     "data": {
      "image/png": "[encoded data removed]",
      "text/plain": [
       "<matplotlib.figure.Figure at 0x110909290>"
      ]
     },
     "metadata": {},
     "output_type": "display_data"
    }
   ],
   "source": [
    "plot_iter(3)"
   ]
  },
  {
   "cell_type": "code",
   "execution_count": 16,
   "metadata": {},
   "outputs": [
    {
     "name": "stdout",
     "output_type": "stream",
     "text": [
      "weight :[-0.2   0.34  2.1 ]\n",
      "errors (online): 2\n",
      "misclass: 50\n",
      "[[ 5.1  1.4]\n",
      " [ 4.9  1.4]\n",
      " [ 4.7  1.3]\n",
      " [ 4.6  1.5]\n",
      " [ 5.   1.4]\n",
      " [ 5.4  1.7]\n",
      " [ 4.6  1.4]\n",
      " [ 5.   1.5]\n",
      " [ 4.4  1.4]\n",
      " [ 4.9  1.5]\n",
      " [ 5.4  1.5]\n",
      " [ 4.8  1.6]\n",
      " [ 4.8  1.4]\n",
      " [ 4.3  1.1]\n",
      " [ 5.8  1.2]\n",
      " [ 5.7  1.5]\n",
      " [ 5.4  1.3]\n",
      " [ 5.1  1.4]\n",
      " [ 5.7  1.7]\n",
      " [ 5.1  1.5]\n",
      " [ 5.4  1.7]\n",
      " [ 5.1  1.5]\n",
      " [ 4.6  1. ]\n",
      " [ 5.1  1.7]\n",
      " [ 4.8  1.9]\n",
      " [ 5.   1.6]\n",
      " [ 5.   1.6]\n",
      " [ 5.2  1.5]\n",
      " [ 5.2  1.4]\n",
      " [ 4.7  1.6]\n",
      " [ 4.8  1.6]\n",
      " [ 5.4  1.5]\n",
      " [ 5.2  1.5]\n",
      " [ 5.5  1.4]\n",
      " [ 4.9  1.5]\n",
      " [ 5.   1.2]\n",
      " [ 5.5  1.3]\n",
      " [ 4.9  1.5]\n",
      " [ 4.4  1.3]\n",
      " [ 5.1  1.5]\n",
      " [ 5.   1.3]\n",
      " [ 4.5  1.3]\n",
      " [ 4.4  1.3]\n",
      " [ 5.   1.6]\n",
      " [ 5.1  1.9]\n",
      " [ 4.8  1.4]\n",
      " [ 5.1  1.6]\n",
      " [ 4.6  1.4]\n",
      " [ 5.3  1.5]\n",
      " [ 5.   1.4]]\n"
     ]
    },
    {
     "data": {
      "image/png": "[encoded data removed]",
      "text/plain": [
       "<matplotlib.figure.Figure at 0x110909810>"
      ]
     },
     "metadata": {},
     "output_type": "display_data"
    }
   ],
   "source": [
    "plot_iter(4)"
   ]
  },
  {
   "cell_type": "code",
   "execution_count": 17,
   "metadata": {},
   "outputs": [
    {
     "name": "stdout",
     "output_type": "stream",
     "text": [
      "weight :[-0.4  -0.68  1.82]\n",
      "errors (online): 1\n",
      "misclass: 0\n",
      "[]\n"
     ]
    },
    {
     "data": {
      "image/png": "[encoded data removed]",
      "text/plain": [
       "<matplotlib.figure.Figure at 0x11100f350>"
      ]
     },
     "metadata": {},
     "output_type": "display_data"
    }
   ],
   "source": [
    "plot_iter(5)"
   ]
  },
  {
   "cell_type": "code",
   "execution_count": 18,
   "metadata": {},
   "outputs": [
    {
     "name": "stdout",
     "output_type": "stream",
     "text": [
      "weight :[-0.4  -0.68  1.82]\n",
      "errors (online): 0\n",
      "misclass: 0\n",
      "[]\n"
     ]
    },
    {
     "data": {
      "image/png": "[encoded data removed]",
      "text/plain": [
       "<matplotlib.figure.Figure at 0x110ef0350>"
      ]
     },
     "metadata": {},
     "output_type": "display_data"
    }
   ],
   "source": [
    "plot_iter(6)"
   ]
  },
  {
   "cell_type": "code",
   "execution_count": 19,
   "metadata": {},
   "outputs": [
    {
     "name": "stdout",
     "output_type": "stream",
     "text": [
      "weight :[-0.4  -0.68  1.82]\n",
      "errors (online): 0\n",
      "misclass: 0\n",
      "[]\n"
     ]
    },
    {
     "data": {
      "image/png": "[encoded data removed]",
      "text/plain": [
       "<matplotlib.figure.Figure at 0x1115cf1d0>"
      ]
     },
     "metadata": {},
     "output_type": "display_data"
    }
   ],
   "source": [
    "plot_iter(7)"
   ]
  },
  {
   "cell_type": "code",
   "execution_count": 20,
   "metadata": {},
   "outputs": [
    {
     "name": "stdout",
     "output_type": "stream",
     "text": [
      "weight :[-0.4  -0.68  1.82]\n",
      "errors (online): 0\n",
      "misclass: 0\n",
      "[]\n"
     ]
    },
    {
     "data": {
      "image/png": "[encoded data removed]",
      "text/plain": [
       "<matplotlib.figure.Figure at 0x1115f5b10>"
      ]
     },
     "metadata": {},
     "output_type": "display_data"
    }
   ],
   "source": [
    "plot_iter(8)"
   ]
  },
  {
   "cell_type": "code",
   "execution_count": 21,
   "metadata": {},
   "outputs": [
    {
     "name": "stdout",
     "output_type": "stream",
     "text": [
      "weight :[-0.4  -0.68  1.82]\n",
      "errors (online): 0\n",
      "misclass: 0\n",
      "[]\n"
     ]
    },
    {
     "data": {
      "image/png": "[encoded data removed]",
      "text/plain": [
       "<matplotlib.figure.Figure at 0x11138d290>"
      ]
     },
     "metadata": {},
     "output_type": "display_data"
    }
   ],
   "source": [
    "plot_iter(9)"
   ]
  },
  {
   "cell_type": "code",
   "execution_count": 22,
   "metadata": {},
   "outputs": [
    {
     "name": "stdout",
     "output_type": "stream",
     "text": [
      "weight :[-0.4  -0.68  1.82]\n",
      "errors (online): 0\n",
      "misclass: 0\n",
      "[]\n"
     ]
    },
    {
     "data": {
      "image/png": "[encoded data removed]",
      "text/plain": [
       "<matplotlib.figure.Figure at 0x108d0f410>"
      ]
     },
     "metadata": {},
     "output_type": "display_data"
    }
   ],
   "source": [
    "plot_iter(10)"
   ]
  },
  {
   "cell_type": "markdown",
   "metadata": {},
   "source": [
    "### Conclusion \n",
    "The order of data in dataframe can affect the learning. In our case, the first 50 data are *Iris-setosa* and *Iris-versicolor* data is in the last. The learning (learned weights) heppends in the first data point of *Iris-setosa* but stays in the same values until touching *Iris-versicolor*. The learned weights changed after moving to the first data point of *Iris-versicolor*, but they also stay the same value until next iteration. It means the machine has only 2 changes of weights during iteration, i.e. there are only 2 misclassicated data during *online learning*. But the learning is too few to make a reasonable decision region in an iteration, we will may get 50 misclassicated data in the end, i.e. the final learned weights can exclude the other type of data. So you can see the results before iteration 6, the final decision region is covered by *iris-versicolor*, since it is the final 50 data used for learning, which decided the final wieghts (decision region).<br />\n",
    "In next test, we will suffle the dataframe to see the different performance of percepton!"
   ]
  }
 ],
 "metadata": {
  "kernelspec": {
   "display_name": "Python 2",
   "language": "python",
   "name": "python2"
  },
  "language_info": {
   "codemirror_mode": {
    "name": "ipython",
    "version": 2
   },
   "file_extension": ".py",
   "mimetype": "text/x-python",
   "name": "python",
   "nbconvert_exporter": "python",
   "pygments_lexer": "ipython2",
   "version": "2.7.13"
  }
 },
 "nbformat": 4,
 "nbformat_minor": 2
}

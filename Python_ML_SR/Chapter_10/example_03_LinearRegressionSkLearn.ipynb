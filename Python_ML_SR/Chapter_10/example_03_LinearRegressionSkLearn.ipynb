{
 "cells": [
  {
   "cell_type": "markdown",
   "metadata": {},
   "source": [
    "# Example 3. Basic Linear regression with *SkLearn*\n",
    "---\n",
    "### Load data"
   ]
  },
  {
   "cell_type": "code",
   "execution_count": 1,
   "metadata": {
    "collapsed": true
   },
   "outputs": [],
   "source": [
    "import matplotlib.pyplot as plt\n",
    "import numpy as np\n",
    "import pandas as pd\n",
    "from sklearn.datasets import load_boston\n",
    "boston = load_boston()"
   ]
  },
  {
   "cell_type": "code",
   "execution_count": 2,
   "metadata": {},
   "outputs": [
    {
     "data": {
      "text/html": [
       "<div>\n",
       "<style>\n",
       "    .dataframe thead tr:only-child th {\n",
       "        text-align: right;\n",
       "    }\n",
       "\n",
       "    .dataframe thead th {\n",
       "        text-align: left;\n",
       "    }\n",
       "\n",
       "    .dataframe tbody tr th {\n",
       "        vertical-align: top;\n",
       "    }\n",
       "</style>\n",
       "<table border=\"1\" class=\"dataframe\">\n",
       "  <thead>\n",
       "    <tr style=\"text-align: right;\">\n",
       "      <th></th>\n",
       "      <th>CRIM</th>\n",
       "      <th>ZN</th>\n",
       "      <th>INDUS</th>\n",
       "      <th>CHAS</th>\n",
       "      <th>NOX</th>\n",
       "      <th>RM</th>\n",
       "      <th>AGE</th>\n",
       "      <th>DIS</th>\n",
       "      <th>RAD</th>\n",
       "      <th>TAX</th>\n",
       "      <th>PTRATIO</th>\n",
       "      <th>B</th>\n",
       "      <th>LSTAT</th>\n",
       "      <th>MEDV</th>\n",
       "    </tr>\n",
       "  </thead>\n",
       "  <tbody>\n",
       "    <tr>\n",
       "      <th>0</th>\n",
       "      <td>0.00632</td>\n",
       "      <td>18.0</td>\n",
       "      <td>2.31</td>\n",
       "      <td>0.0</td>\n",
       "      <td>0.538</td>\n",
       "      <td>6.575</td>\n",
       "      <td>65.2</td>\n",
       "      <td>4.0900</td>\n",
       "      <td>1.0</td>\n",
       "      <td>296.0</td>\n",
       "      <td>15.3</td>\n",
       "      <td>396.90</td>\n",
       "      <td>4.98</td>\n",
       "      <td>24.0</td>\n",
       "    </tr>\n",
       "    <tr>\n",
       "      <th>1</th>\n",
       "      <td>0.02731</td>\n",
       "      <td>0.0</td>\n",
       "      <td>7.07</td>\n",
       "      <td>0.0</td>\n",
       "      <td>0.469</td>\n",
       "      <td>6.421</td>\n",
       "      <td>78.9</td>\n",
       "      <td>4.9671</td>\n",
       "      <td>2.0</td>\n",
       "      <td>242.0</td>\n",
       "      <td>17.8</td>\n",
       "      <td>396.90</td>\n",
       "      <td>9.14</td>\n",
       "      <td>21.6</td>\n",
       "    </tr>\n",
       "    <tr>\n",
       "      <th>2</th>\n",
       "      <td>0.02729</td>\n",
       "      <td>0.0</td>\n",
       "      <td>7.07</td>\n",
       "      <td>0.0</td>\n",
       "      <td>0.469</td>\n",
       "      <td>7.185</td>\n",
       "      <td>61.1</td>\n",
       "      <td>4.9671</td>\n",
       "      <td>2.0</td>\n",
       "      <td>242.0</td>\n",
       "      <td>17.8</td>\n",
       "      <td>392.83</td>\n",
       "      <td>4.03</td>\n",
       "      <td>34.7</td>\n",
       "    </tr>\n",
       "    <tr>\n",
       "      <th>3</th>\n",
       "      <td>0.03237</td>\n",
       "      <td>0.0</td>\n",
       "      <td>2.18</td>\n",
       "      <td>0.0</td>\n",
       "      <td>0.458</td>\n",
       "      <td>6.998</td>\n",
       "      <td>45.8</td>\n",
       "      <td>6.0622</td>\n",
       "      <td>3.0</td>\n",
       "      <td>222.0</td>\n",
       "      <td>18.7</td>\n",
       "      <td>394.63</td>\n",
       "      <td>2.94</td>\n",
       "      <td>33.4</td>\n",
       "    </tr>\n",
       "    <tr>\n",
       "      <th>4</th>\n",
       "      <td>0.06905</td>\n",
       "      <td>0.0</td>\n",
       "      <td>2.18</td>\n",
       "      <td>0.0</td>\n",
       "      <td>0.458</td>\n",
       "      <td>7.147</td>\n",
       "      <td>54.2</td>\n",
       "      <td>6.0622</td>\n",
       "      <td>3.0</td>\n",
       "      <td>222.0</td>\n",
       "      <td>18.7</td>\n",
       "      <td>396.90</td>\n",
       "      <td>5.33</td>\n",
       "      <td>36.2</td>\n",
       "    </tr>\n",
       "  </tbody>\n",
       "</table>\n",
       "</div>"
      ],
      "text/plain": [
       "      CRIM    ZN  INDUS  CHAS    NOX     RM   AGE     DIS  RAD    TAX  \\\n",
       "0  0.00632  18.0   2.31   0.0  0.538  6.575  65.2  4.0900  1.0  296.0   \n",
       "1  0.02731   0.0   7.07   0.0  0.469  6.421  78.9  4.9671  2.0  242.0   \n",
       "2  0.02729   0.0   7.07   0.0  0.469  7.185  61.1  4.9671  2.0  242.0   \n",
       "3  0.03237   0.0   2.18   0.0  0.458  6.998  45.8  6.0622  3.0  222.0   \n",
       "4  0.06905   0.0   2.18   0.0  0.458  7.147  54.2  6.0622  3.0  222.0   \n",
       "\n",
       "   PTRATIO       B  LSTAT  MEDV  \n",
       "0     15.3  396.90   4.98  24.0  \n",
       "1     17.8  396.90   9.14  21.6  \n",
       "2     17.8  392.83   4.03  34.7  \n",
       "3     18.7  394.63   2.94  33.4  \n",
       "4     18.7  396.90   5.33  36.2  "
      ]
     },
     "execution_count": 2,
     "metadata": {},
     "output_type": "execute_result"
    }
   ],
   "source": [
    "df =  pd.DataFrame( data=boston.data )\n",
    "df.columns = ['CRIM', 'ZN', 'INDUS', 'CHAS', 'NOX', 'RM', 'AGE', 'DIS', 'RAD', 'TAX', 'PTRATIO', 'B', 'LSTAT']\n",
    "df['MEDV'] = boston.target\n",
    "df.head()"
   ]
  },
  {
   "cell_type": "code",
   "execution_count": 3,
   "metadata": {
    "collapsed": true
   },
   "outputs": [],
   "source": [
    "X = df[['RM']].values\n",
    "y = df[['MEDV']].values # Add more [] to avoid getting WARNING in standardization"
   ]
  },
  {
   "cell_type": "code",
   "execution_count": 4,
   "metadata": {
    "collapsed": true
   },
   "outputs": [],
   "source": [
    "def lin_regplot(X, y, model):\n",
    "    plt.scatter(X, y, c='blue')\n",
    "    plt.plot(X, model.predict(X), color='red')\n",
    "    return"
   ]
  },
  {
   "cell_type": "markdown",
   "metadata": {},
   "source": [
    "---\n",
    "### *Single-expanatory variable* linear regression model (typical case)\n",
    "**1\\. Using *sklearn* package** \n",
    "<br />Use single explanatory variable **RM**, which has linear correlation with target variable **MEDV**, to fit with linear regression model by *sklearn* class."
   ]
  },
  {
   "cell_type": "code",
   "execution_count": 5,
   "metadata": {
    "collapsed": true
   },
   "outputs": [],
   "source": [
    "from sklearn.linear_model import LinearRegression"
   ]
  },
  {
   "cell_type": "code",
   "execution_count": 6,
   "metadata": {},
   "outputs": [
    {
     "name": "stdout",
     "output_type": "stream",
     "text": [
      "Slop: 9.102\n",
      "Intercept: -34.671\n"
     ]
    }
   ],
   "source": [
    "slr = LinearRegression()\n",
    "slr.fit(X, y)\n",
    "print 'Slop: %.3f'% slr.coef_[0]\n",
    "print 'Intercept: %.3f'% slr.intercept_"
   ]
  },
  {
   "cell_type": "code",
   "execution_count": 7,
   "metadata": {},
   "outputs": [
    {
     "data": {
      "image/png": "[encoded data removed]",
      "text/plain": [
       "<matplotlib.figure.Figure at 0x10fb84e90>"
      ]
     },
     "metadata": {},
     "output_type": "display_data"
    }
   ],
   "source": [
    "plt.figure(figsize=(8,6))\n",
    "lin_regplot(X, y, slr)\n",
    "plt.xlabel('Average number of room [RM] (Standardized)')\n",
    "plt.ylabel('Price in $1000\\'s [MEDV] (Standardized)' )\n",
    "plt.show()"
   ]
  },
  {
   "cell_type": "code",
   "execution_count": 8,
   "metadata": {},
   "outputs": [
    {
     "name": "stdout",
     "output_type": "stream",
     "text": [
      "10.8399241295\n"
     ]
    }
   ],
   "source": [
    "# The input 5 is the same with hand-made results.\n",
    "print slr.predict([[5.0]])[0,0]"
   ]
  },
  {
   "cell_type": "markdown",
   "metadata": {},
   "source": [
    "The result is similar to handmade case in [Example 2.](http://localhost:8888/notebooks/Python_ML_SR/Chapter_10/example_02_LinearRegressionGD.ipynb). The prediction is the same. The fitting looks can describle partial behavior of data. For instance, there are some top-line data which are not in the fit."
   ]
  },
  {
   "cell_type": "markdown",
   "metadata": {},
   "source": [
    "**2\\. Analytical way to sovle the single variable case**\n",
    "$$\n",
    "\\begin{equation}\n",
    "\\begin{split}\n",
    "y &= w_0X_0 + w_1x_1 \\\\\n",
    "& = wX \\\\\n",
    "\\end{split}\n",
    "\\end{equation}\n",
    "$$\n",
    "\n",
    "where $w_0$ are 0 in standardized data, $X_1$ is the only explanatory variable witn $N$ dimesion. To find solution of $w_1$, the $X$ can be move as  \n",
    "\n",
    "$$\n",
    "\\begin{equation}\n",
    "\\begin{split}\n",
    "y &= w_1X \\\\\n",
    "X^{T}y &= w_1X X^{T} \\\\\n",
    "\\end{split}\n",
    "\\end{equation}\n",
    "$$\n",
    "\n",
    "We create a squarde matrix with $X^TX$ for transfer to $I$ in $w_1$ term. The solution of $w_1$ will be\n",
    "$$w_1 = (X^TX)^{-1}X^{T}y\\ .$$ \n",
    "\n",
    "The method can be easily applied by *Numpy* python package."
   ]
  },
  {
   "cell_type": "code",
   "execution_count": 9,
   "metadata": {},
   "outputs": [
    {
     "name": "stdout",
     "output_type": "stream",
     "text": [
      "Slope: 9.102\n",
      "Intercept: -34.671\n"
     ]
    }
   ],
   "source": [
    "Xb = np.hstack((np.ones((X.shape[0], 1)), X))\n",
    "w = np.zeros(X.shape[0])\n",
    "z = np.linalg.inv(np.dot(Xb.T, Xb))\n",
    "w = np.dot(z, np.dot(Xb.T, y))\n",
    "print 'Slope: %.3f' % w[1]\n",
    "print 'Intercept: %.3f' % w[0]"
   ]
  },
  {
   "cell_type": "markdown",
   "metadata": {},
   "source": [
    "---\n",
    "### Random sample consensus (RANSAC)\n",
    "The algorithm is for assembling the regressions with ***inliers*** sample iterativily. Here we input the linear regression model. The algorithm with use the random 50 samples to make a first regression model. In the next iteration, it will include other 50 samples, which are fitted with previous model with particular residual threshold, to make a new model for next iteration. Those samples are so called ***inliers*** samples. The process will be finished until all inlier samples are included, or the trials are up to the maximum setting, here is 100.  "
   ]
  },
  {
   "cell_type": "code",
   "execution_count": 10,
   "metadata": {
    "collapsed": true
   },
   "outputs": [],
   "source": [
    "from sklearn.linear_model import RANSACRegressor"
   ]
  },
  {
   "cell_type": "code",
   "execution_count": 11,
   "metadata": {},
   "outputs": [
    {
     "data": {
      "text/plain": [
       "RANSACRegressor(base_estimator=LinearRegression(copy_X=True, fit_intercept=True, n_jobs=1, normalize=False),\n",
       "        is_data_valid=None, is_model_valid=None, loss='absolute_loss',\n",
       "        max_trials=100, min_samples=50, random_state=0,\n",
       "        residual_metric=None, residual_threshold=5.0, stop_n_inliers=inf,\n",
       "        stop_probability=0.99, stop_score=inf)"
      ]
     },
     "execution_count": 11,
     "metadata": {},
     "output_type": "execute_result"
    }
   ],
   "source": [
    "ransac = RANSACRegressor( LinearRegression(), \n",
    "                          max_trials=100, min_samples=50, \n",
    "                          #residual_matric=lambda dy: np.sum(np.abs(dy), axis=1),\n",
    "                          residual_threshold = 5.0,\n",
    "                          random_state=0 )\n",
    "ransac.fit(X, y)"
   ]
  },
  {
   "cell_type": "code",
   "execution_count": 12,
   "metadata": {
    "collapsed": true
   },
   "outputs": [],
   "source": [
    "inlier_mask = ransac.inlier_mask_\n",
    "outier_mask = np.logical_not(inlier_mask)\n",
    "line_X = np.arange(3, 10, 1)\n",
    "line_y_ransac = ransac.predict( line_X[:, np.newaxis] )"
   ]
  },
  {
   "cell_type": "code",
   "execution_count": 13,
   "metadata": {},
   "outputs": [
    {
     "data": {
      "image/png": "[encoded data removed]",
      "text/plain": [
       "<matplotlib.figure.Figure at 0x10a486110>"
      ]
     },
     "metadata": {},
     "output_type": "display_data"
    }
   ],
   "source": [
    "plt.figure(figsize=(8,6))\n",
    "plt.scatter( X[inlier_mask], y[inlier_mask], c='blue', marker='o', label='Inliner')\n",
    "plt.scatter( X[outier_mask], y[outier_mask], c='lightgreen', marker='s', label='Outier')\n",
    "plt.plot( line_X, line_y_ransac, color='red')\n",
    "plt.xlabel('Average number of room [RM]')\n",
    "plt.ylabel('Price in $1000\\'s [MEDV]' )\n",
    "plt.show()"
   ]
  },
  {
   "cell_type": "markdown",
   "metadata": {},
   "source": [
    "The results shows many outier samples, green dots, are surround the fitting line, which means the fitter can not completily to describe the data. "
   ]
  },
  {
   "cell_type": "markdown",
   "metadata": {},
   "source": [
    "---\n",
    "### *Multi-explanatory variables* linear regression & *score* the results\n",
    "1. Input with all variables linear regressor for building a fitting hyperplane.\n",
    "2. No need to standardization, since the regression is for predicting a continue value.\n",
    "3. The hyperplane can not be visulized, the alternative way is showing the residure v.s. predict value, where residure is target - prediction. "
   ]
  },
  {
   "cell_type": "code",
   "execution_count": 14,
   "metadata": {
    "collapsed": true
   },
   "outputs": [],
   "source": [
    "from sklearn.model_selection import train_test_split"
   ]
  },
  {
   "cell_type": "code",
   "execution_count": 15,
   "metadata": {
    "collapsed": true
   },
   "outputs": [],
   "source": [
    "# Use all variables\n",
    "X = df.iloc[:, :-1].values\n",
    "y = df['MEDV'].values\n",
    "X_train, X_test, y_train, y_test = train_test_split(X, y, test_size=0.3, random_state=0)"
   ]
  },
  {
   "cell_type": "code",
   "execution_count": 16,
   "metadata": {
    "collapsed": true
   },
   "outputs": [],
   "source": [
    "slr = LinearRegression()\n",
    "slr.fit(X_train, y_train)\n",
    "y_train_predict = slr.predict(X_train)\n",
    "y_test_predict = slr.predict(X_test)"
   ]
  },
  {
   "cell_type": "code",
   "execution_count": 17,
   "metadata": {},
   "outputs": [
    {
     "data": {
      "image/png": "[encoded data removed]",
      "text/plain": [
       "<matplotlib.figure.Figure at 0x11300d7d0>"
      ]
     },
     "metadata": {},
     "output_type": "display_data"
    }
   ],
   "source": [
    "plt.figure(figsize=(8,6))\n",
    "plt.scatter(y_train_predict, y_train_predict - y_train, c='blue', marker='o', label='Training data')\n",
    "plt.scatter(y_test_predict, y_test_predict - y_test, c='lightgreen', marker='o', label='Test data')\n",
    "plt.xlabel('Predicted values')\n",
    "plt.ylabel('Residual')\n",
    "plt.legend(loc='upper left')\n",
    "plt.hlines( y=0, xmin=-10, xmax=50, lw=2, color='red' )\n",
    "plt.xlim([-10, 50])\n",
    "plt.show()"
   ]
  },
  {
   "cell_type": "markdown",
   "metadata": {
    "collapsed": true
   },
   "source": [
    "Most of sample are surround within 0 line, which means they are fitted with model. But there are many samples are far from line. They can not be discribe well with linear regression model."
   ]
  },
  {
   "cell_type": "markdown",
   "metadata": {},
   "source": [
    "** Score results **\n",
    "1. By ***mean squared error*** (MSE), which is defined as $$\\frac{1}{n}\\sum_{i=1}^{n}{(y_{i} - \\hat{y}_{i})^2}\\ ,$$<br /> where $y_{i}$ is target value, and $\\hat{y}_{i}$ is predict value from the $i$ sample. The total number of samples is $N$. The more less gain, the prediction is more fit with target.\n",
    "2. The alternative way is using ***coefficient of determination*** ($\\,R^2$), which is the value to determine the variant of model. The defination is using ***sum squared error*** (SSE) and ***sum squared total variation*** (SST) as $$\n",
    "\\begin{equation}\n",
    "\\begin{split}\n",
    "R^2 &=1-\\frac{SSE}{SST} \\\\ \n",
    "&= 1 - \\frac{\\sum_{i=1}^{n}{(y_i-\\hat{y}_i)^2}}{\\sum_{i=1}^{n}{(y_i-\\mu_y)^2}} \\\\\n",
    "&= 1 - \\frac{\\frac{1}{N}\\sum_{i=1}^{n}{(y_i-\\hat{y}_i)^2}}{\\frac{1}{N}\\sum_{i=1}^{n}{(y_i-\\mu_y)^2}} \\\\\n",
    "&= 1 - \\frac{MSE}{Var(y)}\\ ,\n",
    "\\end{split}\n",
    "\\end{equation}\n",
    "$$<br /> where $\\mu_y$ is the average of $y$. Thus, when $R^2$ is closs to 1, the model has good fit performance, i.e. MSE is close to 0, while $R^2=0$ means the bad fitting. "
   ]
  },
  {
   "cell_type": "code",
   "execution_count": 21,
   "metadata": {},
   "outputs": [
    {
     "name": "stdout",
     "output_type": "stream",
     "text": [
      "Train MSE: 19.966, R2: 0.764\n",
      "MSE test:  27.184, R2: 0.674\n"
     ]
    }
   ],
   "source": [
    "from sklearn.metrics import mean_squared_error, r2_score\n",
    "print 'Train MSE: %.3f, R2: %.3f'%( mean_squared_error(y_train, y_train_predict), r2_score(y_train, y_train_predict) )\n",
    "print 'MSE test:  %.3f, R2: %.3f' %( mean_squared_error(y_test,  y_test_predict),  r2_score(y_test,  y_test_predict) )"
   ]
  },
  {
   "cell_type": "markdown",
   "metadata": {},
   "source": [
    "Apparently we got overfitted model...."
   ]
  }
 ],
 "metadata": {
  "kernelspec": {
   "display_name": "Python 2",
   "language": "python",
   "name": "python2"
  },
  "language_info": {
   "codemirror_mode": {
    "name": "ipython",
    "version": 2
   },
   "file_extension": ".py",
   "mimetype": "text/x-python",
   "name": "python",
   "nbconvert_exporter": "python",
   "pygments_lexer": "ipython2",
   "version": "2.7.13"
  }
 },
 "nbformat": 4,
 "nbformat_minor": 2
}

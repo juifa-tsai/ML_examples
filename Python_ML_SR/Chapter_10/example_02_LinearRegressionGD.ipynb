{
 "cells": [
  {
   "cell_type": "markdown",
   "metadata": {},
   "source": [
    "# Example 2. Hand-made Linear Gredian Decent Regression (LGDR)\n",
    "---\n",
    "**1\\. Import modules & Boston Housing data**"
   ]
  },
  {
   "cell_type": "code",
   "execution_count": 1,
   "metadata": {
    "collapsed": true
   },
   "outputs": [],
   "source": [
    "import matplotlib.pyplot as plt\n",
    "import numpy as np\n",
    "import pandas as pd\n",
    "from sklearn.datasets import load_boston\n",
    "boston = load_boston()"
   ]
  },
  {
   "cell_type": "code",
   "execution_count": 2,
   "metadata": {},
   "outputs": [
    {
     "data": {
      "text/html": [
       "<div>\n",
       "<style>\n",
       "    .dataframe thead tr:only-child th {\n",
       "        text-align: right;\n",
       "    }\n",
       "\n",
       "    .dataframe thead th {\n",
       "        text-align: left;\n",
       "    }\n",
       "\n",
       "    .dataframe tbody tr th {\n",
       "        vertical-align: top;\n",
       "    }\n",
       "</style>\n",
       "<table border=\"1\" class=\"dataframe\">\n",
       "  <thead>\n",
       "    <tr style=\"text-align: right;\">\n",
       "      <th></th>\n",
       "      <th>CRIM</th>\n",
       "      <th>ZN</th>\n",
       "      <th>INDUS</th>\n",
       "      <th>CHAS</th>\n",
       "      <th>NOX</th>\n",
       "      <th>RM</th>\n",
       "      <th>AGE</th>\n",
       "      <th>DIS</th>\n",
       "      <th>RAD</th>\n",
       "      <th>TAX</th>\n",
       "      <th>PTRATIO</th>\n",
       "      <th>B</th>\n",
       "      <th>LSTAT</th>\n",
       "      <th>MEDV</th>\n",
       "    </tr>\n",
       "  </thead>\n",
       "  <tbody>\n",
       "    <tr>\n",
       "      <th>0</th>\n",
       "      <td>0.00632</td>\n",
       "      <td>18.0</td>\n",
       "      <td>2.31</td>\n",
       "      <td>0.0</td>\n",
       "      <td>0.538</td>\n",
       "      <td>6.575</td>\n",
       "      <td>65.2</td>\n",
       "      <td>4.0900</td>\n",
       "      <td>1.0</td>\n",
       "      <td>296.0</td>\n",
       "      <td>15.3</td>\n",
       "      <td>396.90</td>\n",
       "      <td>4.98</td>\n",
       "      <td>24.0</td>\n",
       "    </tr>\n",
       "    <tr>\n",
       "      <th>1</th>\n",
       "      <td>0.02731</td>\n",
       "      <td>0.0</td>\n",
       "      <td>7.07</td>\n",
       "      <td>0.0</td>\n",
       "      <td>0.469</td>\n",
       "      <td>6.421</td>\n",
       "      <td>78.9</td>\n",
       "      <td>4.9671</td>\n",
       "      <td>2.0</td>\n",
       "      <td>242.0</td>\n",
       "      <td>17.8</td>\n",
       "      <td>396.90</td>\n",
       "      <td>9.14</td>\n",
       "      <td>21.6</td>\n",
       "    </tr>\n",
       "    <tr>\n",
       "      <th>2</th>\n",
       "      <td>0.02729</td>\n",
       "      <td>0.0</td>\n",
       "      <td>7.07</td>\n",
       "      <td>0.0</td>\n",
       "      <td>0.469</td>\n",
       "      <td>7.185</td>\n",
       "      <td>61.1</td>\n",
       "      <td>4.9671</td>\n",
       "      <td>2.0</td>\n",
       "      <td>242.0</td>\n",
       "      <td>17.8</td>\n",
       "      <td>392.83</td>\n",
       "      <td>4.03</td>\n",
       "      <td>34.7</td>\n",
       "    </tr>\n",
       "    <tr>\n",
       "      <th>3</th>\n",
       "      <td>0.03237</td>\n",
       "      <td>0.0</td>\n",
       "      <td>2.18</td>\n",
       "      <td>0.0</td>\n",
       "      <td>0.458</td>\n",
       "      <td>6.998</td>\n",
       "      <td>45.8</td>\n",
       "      <td>6.0622</td>\n",
       "      <td>3.0</td>\n",
       "      <td>222.0</td>\n",
       "      <td>18.7</td>\n",
       "      <td>394.63</td>\n",
       "      <td>2.94</td>\n",
       "      <td>33.4</td>\n",
       "    </tr>\n",
       "    <tr>\n",
       "      <th>4</th>\n",
       "      <td>0.06905</td>\n",
       "      <td>0.0</td>\n",
       "      <td>2.18</td>\n",
       "      <td>0.0</td>\n",
       "      <td>0.458</td>\n",
       "      <td>7.147</td>\n",
       "      <td>54.2</td>\n",
       "      <td>6.0622</td>\n",
       "      <td>3.0</td>\n",
       "      <td>222.0</td>\n",
       "      <td>18.7</td>\n",
       "      <td>396.90</td>\n",
       "      <td>5.33</td>\n",
       "      <td>36.2</td>\n",
       "    </tr>\n",
       "  </tbody>\n",
       "</table>\n",
       "</div>"
      ],
      "text/plain": [
       "      CRIM    ZN  INDUS  CHAS    NOX     RM   AGE     DIS  RAD    TAX  \\\n",
       "0  0.00632  18.0   2.31   0.0  0.538  6.575  65.2  4.0900  1.0  296.0   \n",
       "1  0.02731   0.0   7.07   0.0  0.469  6.421  78.9  4.9671  2.0  242.0   \n",
       "2  0.02729   0.0   7.07   0.0  0.469  7.185  61.1  4.9671  2.0  242.0   \n",
       "3  0.03237   0.0   2.18   0.0  0.458  6.998  45.8  6.0622  3.0  222.0   \n",
       "4  0.06905   0.0   2.18   0.0  0.458  7.147  54.2  6.0622  3.0  222.0   \n",
       "\n",
       "   PTRATIO       B  LSTAT  MEDV  \n",
       "0     15.3  396.90   4.98  24.0  \n",
       "1     17.8  396.90   9.14  21.6  \n",
       "2     17.8  392.83   4.03  34.7  \n",
       "3     18.7  394.63   2.94  33.4  \n",
       "4     18.7  396.90   5.33  36.2  "
      ]
     },
     "execution_count": 2,
     "metadata": {},
     "output_type": "execute_result"
    }
   ],
   "source": [
    "df =  pd.DataFrame( data=boston.data )\n",
    "df.columns = ['CRIM', 'ZN', 'INDUS', 'CHAS', 'NOX', 'RM', 'AGE', 'DIS', 'RAD', 'TAX', 'PTRATIO', 'B', 'LSTAT']\n",
    "df['MEDV'] = boston.target\n",
    "df.head()"
   ]
  },
  {
   "cell_type": "markdown",
   "metadata": {},
   "source": [
    "**2\\. Extract single explanatory/target variables**"
   ]
  },
  {
   "cell_type": "code",
   "execution_count": 3,
   "metadata": {},
   "outputs": [],
   "source": [
    "X = df[['RM']].values\n",
    "y = df[['MEDV']].values # Add more [] to avoid getting WARNING in standardization"
   ]
  },
  {
   "cell_type": "markdown",
   "metadata": {},
   "source": [
    "**3\\. Standardization variable**\n",
    "<br /> Standardize both X and y, since the fit is for both!"
   ]
  },
  {
   "cell_type": "code",
   "execution_count": 4,
   "metadata": {
    "collapsed": true
   },
   "outputs": [],
   "source": [
    "from sklearn.preprocessing import StandardScaler"
   ]
  },
  {
   "cell_type": "code",
   "execution_count": 5,
   "metadata": {},
   "outputs": [
    {
     "name": "stdout",
     "output_type": "stream",
     "text": [
      "[ 0.15968566 -0.10152429  1.32424667  1.18275795  1.48750288  0.6712218\n",
      "  0.03996443  0.49708184 -0.65659542 -0.39538548 -0.81985164 -0.39538548\n",
      " -0.09064054 -0.23212926 -0.47157171 -0.286548    0.06173193 -0.54775795\n",
      " -0.25389676 -0.47157171 -0.97222411 -0.31919924 -0.79808414 -0.87427038\n",
      " -0.75454915 -0.93957286 -0.64571167 -0.84161913 -0.44980422 -0.16682677\n",
      " -1.07017784 -0.87427038 -1.0157591  -1.02664285 -0.98310786 -0.39538548\n",
      " -0.27566425 -0.16682677  0.23587189  0.89978051  1.34601416  0.4426631\n",
      "  0.30117438  0.23587189 -0.14505928 -0.35185049 -0.27566425 -0.64571167\n",
      " -0.88515413 -0.34096674 -0.30831549 -0.22124551  0.26852314  0.09438317\n",
      " -0.39538548  1.4004329   0.23587189  0.98685049  0.08349942 -0.31919924\n",
      " -0.41715297 -0.71101416 -0.0362218   0.26852314  1.13922296  0.10526692\n",
      " -0.34096674 -0.0579893  -0.55864169 -0.17771052  0.18145315 -0.09064054\n",
      "  0.02908069  0.09438317  0.17056941 -0.12329178 -0.27566425 -0.18859427\n",
      " -0.14505928 -0.24301301  0.59503557  0.14880191  0.24675564  0.03996443\n",
      "  0.14880191  0.4426631  -0.00357056 -0.0362218   0.11615067  0.6712218\n",
      "  0.00731319 -0.0579893   0.03996443  0.26852314 -0.21036176  0.63857056\n",
      " -0.12329178  1.75959658  2.31466771  1.16099045  0.54061683  0.43177935\n",
      " -0.42803672 -0.35185049 -0.2647805  -0.33008299 -0.33008299 -0.23212926\n",
      " -0.29743175 -0.34096674 -0.09064054  0.02908069 -0.40626922 -0.41715297\n",
      " -0.43892047 -0.46068796 -0.14505928 -0.36273423 -0.23212926 -0.35185049\n",
      " -0.0579893  -0.24301301 -0.22124551 -0.56952544 -0.40626922 -0.12329178\n",
      " -0.7436654  -0.68924667 -0.49333921 -0.89603787 -0.36273423 -0.31919924\n",
      "  0.05084818 -0.44980422 -0.75454915 -0.48245546 -0.55864169 -0.59129294\n",
      " -1.00487535 -0.5151067  -0.92868912 -0.88515413 -0.9939916  -0.75454915\n",
      " -1.16813157 -0.95045661 -0.75454915 -0.86338663 -0.5151067  -0.77631665\n",
      " -0.11240804 -0.31919924 -0.7872004  -0.34096674 -0.60217668 -0.75454915\n",
      " -1.02664285  2.04257402  0.1923369   0.08349942  0.48619809  2.98946007\n",
      "  2.98946007  2.98946007  0.01819694  0.26852314  2.98946007  0.13791816\n",
      "  0.13791816 -0.02533805 -0.55864169 -0.37361798  0.06173193  0.11615067\n",
      "  0.00731319  0.74740804  0.07261568  0.22498815  0.80182678  1.59634036\n",
      "  1.8793178   1.48750288  1.6725266   1.08480422  0.4208956   0.76917553\n",
      "  2.98946007  1.03038548  0.79094303  1.34601416  1.57457287  0.86712926\n",
      "  1.50927038  0.93243175  0.71475679  2.98946007  1.1718742   0.84536177\n",
      "  1.31336292  1.34601416  1.12833921  0.17056941  2.1514115   2.82620386\n",
      "  2.98946007  0.00731319  0.20322065 -0.00357056  0.20322065 -0.27566425\n",
      " -0.09064054 -0.35185049 -0.01445431  0.60591932  0.12703442  0.26852314\n",
      "  0.08349942  0.6712218  -0.11240804  0.05084818  0.45354685 -0.09064054\n",
      "  0.54061683  0.82359427  2.42350519  2.98946007  1.63987535  0.98685049\n",
      "  2.6302964   0.97596674  0.1923369   0.99773424  2.08610901  2.80443636\n",
      "  0.70387305  0.15968566  0.27940688  0.97596674  0.12703442  0.08349942\n",
      " -0.0579893  -0.2647805  -0.0362218   0.12703442 -0.5368742  -0.43892047\n",
      "  0.1923369  -0.22124551  0.2141044   0.39912811  0.20322065  0.24675564\n",
      "  0.76917553  2.20583024 -0.06887304 -0.17771052  2.33643521  2.98946007\n",
      "  1.46573539  0.82359427  1.22629294  2.23848148  2.8588551   0.921548\n",
      "  1.52015413  0.02908069  0.88889676  2.98946007  2.28201647 -0.19947802\n",
      " -0.15594303  0.29029063  0.20322065  1.37866541  1.07392047  1.03038548\n",
      "  1.16099045  1.1501067   0.71475679  1.36778166  2.48880768  1.4004329\n",
      "  2.55411016  2.98946007  1.05215297 -0.0579893  -0.2647805   0.07261568\n",
      " -0.02533805  0.24675564  0.64945431  1.60722411  0.58415182  0.14880191\n",
      " -0.09064054  0.66033806  0.49708184 -0.24301301 -0.00357056  0.70387305\n",
      "  0.24675564 -0.0579893   0.4208956   1.1501067   1.47661914  0.63857056\n",
      "  1.18275795  0.61680306  0.02908069 -0.24301301 -0.70013041 -0.04710555\n",
      " -0.34096674 -0.10152429  0.13791816 -0.68924667 -0.5151067  -0.29743175\n",
      "  0.06173193 -0.16682677  0.13791816  0.06173193 -0.23212926 -0.43892047\n",
      "  0.26852314  0.22498815  0.05084818 -0.0362218  -0.35185049  0.00731319\n",
      " -0.29743175 -0.59129294 -0.34096674 -0.0362218  -0.19947802 -0.15594303\n",
      " -0.33008299 -0.43892047 -0.21036176 -0.38450173 -0.41715297  1.10657171\n",
      " -0.65659542  0.14880191  0.9433155  -0.54775795 -0.58040919  0.06173193\n",
      "  0.2141044   0.4426631   0.03996443  0.17056941 -0.42803672  0.82359427\n",
      " -0.47157171 -0.21036176 -0.5151067  -0.09064054  0.01819694  0.00731319\n",
      "  0.26852314 -0.286548   -0.18859427 -0.62394418 -0.06887304  0.54061683\n",
      " -0.06887304  0.06173193  2.98946007  2.98946007  2.98946007  2.98946007\n",
      "  2.98946007 -0.95045661 -0.95045661 -0.81985164 -0.93957286 -1.00487535\n",
      " -1.02664285 -1.34227153 -1.32050404 -1.2660853  -1.22255031 -1.11371283\n",
      " -1.494644   -1.66878396 -1.30962029 -1.64701647 -1.34227153 -1.20078281\n",
      " -0.80896789  0.07261568 -1.39669027 -0.95045661 -1.07017784 -1.02664285\n",
      " -1.09194533 -1.52729524 -1.90822641 -1.76673769 -1.84292393 -1.66878396\n",
      " -1.13548032 -1.54906274 -1.52729524 -1.90822641 -1.15724782  0.58415182\n",
      " -0.58040919  0.54061683 -0.81985164 -0.58040919 -0.50422295 -0.67836292\n",
      " -1.69055146 -1.66878396 -1.63613272 -1.32050404 -1.494644   -1.53817899\n",
      " -0.63482793 -0.90692162 -0.18859427 -0.9939916  -1.17901531 -1.54906274\n",
      " -1.34227153 -1.2660853  -1.25520155 -1.41845777 -0.87427038 -0.91780537\n",
      " -0.70013041 -0.89603787 -1.17901531 -0.9939916  -1.40757402 -1.50552775\n",
      " -1.53817899 -1.05929409 -1.30962029 -0.59129294 -0.44980422 -0.77631665\n",
      " -1.27696904 -1.16813157 -0.83073539 -1.08106158 -0.91780537 -1.03752659\n",
      " -0.9939916  -0.79808414 -0.70013041 -0.5151067  -0.83073539 -0.91780537\n",
      " -1.07017784 -0.98310786 -0.83073539 -0.27566425 -0.66747917 -0.52599045\n",
      " -0.33008299 -0.25389676 -0.12329178 -0.286548   -0.38450173 -0.37361798\n",
      " -0.37361798 -0.2647805  -0.286548   -0.31919924  0.07261568  0.79094303\n",
      " -0.95045661 -1.00487535 -0.63482793 -1.14636407 -0.86338663 -0.12329178\n",
      "  0.05084818  0.12703442  0.26852314 -0.07975679 -0.21036176 -0.14505928\n",
      " -0.37361798 -0.21036176 -0.79808414 -1.69055146 -1.57083023 -0.97222411\n",
      " -0.2647805  -0.07975679  0.2141044   0.06173193 -0.30831549 -0.46068796\n",
      " -0.14505928 -0.54775795 -0.62394418 -0.01445431 -0.21036176  0.14880191\n",
      " -0.0579893  -1.15724782]\n"
     ]
    }
   ],
   "source": [
    "sc_X = StandardScaler()\n",
    "sc_y = StandardScaler()\n",
    "X_std = sc_X.fit_transform(X)\n",
    "y_std = sc_y.fit_transform(y)[:, 0] # [:, 0] for make N-d list to 1-d list"
   ]
  },
  {
   "cell_type": "markdown",
   "metadata": {},
   "source": [
    "**4\\. Load and use LGDR to fit**\n",
    "<br /> The ``AdalineGD`` is *Adapte Linear Neuron Gradian Decent* which is also *Linear Gredian Decent Regression*"
   ]
  },
  {
   "cell_type": "code",
   "execution_count": 6,
   "metadata": {},
   "outputs": [
    {
     "data": {
      "text/plain": [
       "<AdalineGD.AdalineGD at 0x111464a90>"
      ]
     },
     "execution_count": 6,
     "metadata": {},
     "output_type": "execute_result"
    }
   ],
   "source": [
    "from AdalineGD import AdalineGD\n",
    "lr = AdalineGD()\n",
    "lr.fit(X_std, y_std)"
   ]
  },
  {
   "cell_type": "markdown",
   "metadata": {},
   "source": [
    "**5\\. Plost the results**"
   ]
  },
  {
   "cell_type": "code",
   "execution_count": 7,
   "metadata": {},
   "outputs": [
    {
     "data": {
      "image/png": "[encoded data removed]",
      "text/plain": [
       "<matplotlib.figure.Figure at 0x111464e10>"
      ]
     },
     "metadata": {},
     "output_type": "display_data"
    }
   ],
   "source": [
    "plt.figure(figsize=(8, 6))\n",
    "plt.plot(range(1, lr.n_iter+1), lr.cost_)\n",
    "plt.ylabel('SSE')\n",
    "plt.xlabel('Epoch')\n",
    "plt.show()"
   ]
  },
  {
   "cell_type": "code",
   "execution_count": null,
   "metadata": {
    "collapsed": true
   },
   "outputs": [],
   "source": []
  }
 ],
 "metadata": {
  "kernelspec": {
   "display_name": "Python 2",
   "language": "python",
   "name": "python2"
  },
  "language_info": {
   "codemirror_mode": {
    "name": "ipython",
    "version": 2
   },
   "file_extension": ".py",
   "mimetype": "text/x-python",
   "name": "python",
   "nbconvert_exporter": "python",
   "pygments_lexer": "ipython2",
   "version": "2.7.13"
  }
 },
 "nbformat": 4,
 "nbformat_minor": 2
}

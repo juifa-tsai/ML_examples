{
 "cells": [
  {
   "cell_type": "markdown",
   "metadata": {},
   "source": [
    "# Example 3. Sentiment training with IMBd data, out-of-core learning\n",
    "---"
   ]
  },
  {
   "cell_type": "markdown",
   "metadata": {},
   "source": [
    "### Import package and function definition"
   ]
  },
  {
   "cell_type": "code",
   "execution_count": 1,
   "metadata": {
    "collapsed": true
   },
   "outputs": [],
   "source": [
    "import re\n",
    "import nltk\n",
    "import pandas as pd\n",
    "import numpy  as np"
   ]
  },
  {
   "cell_type": "code",
   "execution_count": 2,
   "metadata": {},
   "outputs": [
    {
     "name": "stdout",
     "output_type": "stream",
     "text": [
      "[nltk_data] Downloading package stopwords to /Users/Alpha/nltk_data...\n",
      "[nltk_data]   Package stopwords is already up-to-date!\n"
     ]
    }
   ],
   "source": [
    "nltk.download('stopwords')\n",
    "from nltk.corpus import stopwords\n",
    "stop = stopwords.words('english')\n",
    "\n",
    "def tokenizer(text):\n",
    "    text = re.sub('<[^>]*>', '', text) # remove html flag, e.g. <br />\n",
    "    emoticons = re.findall('(?::|;|=)(?:-)?(?:\\)|\\(|D|P)', text.lower())\n",
    "    text = re.sub('[\\W]+', ' ', text.lower())+' '.join(emoticons).replace('-','')\n",
    "    tokenized = [w for w in text.split() if w not in stop]\n",
    "    return tokenized"
   ]
  },
  {
   "cell_type": "code",
   "execution_count": 3,
   "metadata": {},
   "outputs": [
    {
     "name": "stdout",
     "output_type": "stream",
     "text": [
      "('\"... but the trouble of this production is that it\\'s very far from a good musical.<br /><br />Granted, one can\\'t always expect the witty masters like Sondheim or Bernstein or Porter; yet the music of this piece makes even Andrew Lloyd Webber look witty. It\\'s deadly dull and uninventive (with one or two exceptions) and just after I watched it I couldn\\'t recall a single significant melody - which is rather tragic coming from someone who learned the whole Another Hundred People from three listenings.<br /><br />It is also strangely un-theatrical. It takes place on an incredibly large stage (one really has to feel sorry for those people in front rows who broke their necks in order to see something happening 50 meters on the right or 100 meters on the left) and does absolutely nothing with it. When there\\'s supposed to be one person singing on-stage, that\\'s just what you get - and the rest of the enormeous stage is empty. For me as an aspiring theatre director it was almost painful to watch.<br /><br />The fact remains, Cole Porter seems to have captured the French culture in his works better than these no-talents can ever come close to. And I\\'m puzzled by the popularity of this would-be-legendary musical.\"', 0)\n",
      "('\"Does anyone else cry tears of joy when they watch this film? I LOVE it! One of my Top 10 films of all time. It just makes me feel good. I watch the closing production number with all the cast members over and over and over!!! Bebe Benson (Michelle Johnston) is THE babe of the film, IMHO! I never saw the play but I get angry when I read reviews that say the play was better than the film. The two are like apples and oranges. The film making process will seldom deliver a finished product that is faithful to the original work. I believe it\\'s only due to the fear of public alienation that many well known works adapted to the screen aren\\'t changed more than they are. This is a very good film, it is very satisfying. That\\'s all you need to know!\"', 1)\n"
     ]
    }
   ],
   "source": [
    "def stream_docs(path):\n",
    "    with open(path, 'r') as csv:\n",
    "        next(csv) # skip header\n",
    "        for line in csv:\n",
    "            text, label = line[:-3], int(line[-2])\n",
    "            yield text, label\n",
    "# test:\n",
    "tmp = stream_docs(path='../data/imbd.csv.train')\n",
    "print next(tmp)\n",
    "print next(tmp)"
   ]
  },
  {
   "cell_type": "code",
   "execution_count": 4,
   "metadata": {},
   "outputs": [
    {
     "data": {
      "text/plain": [
       "(['\"... but the trouble of this production is that it\\'s very far from a good musical.<br /><br />Granted, one can\\'t always expect the witty masters like Sondheim or Bernstein or Porter; yet the music of this piece makes even Andrew Lloyd Webber look witty. It\\'s deadly dull and uninventive (with one or two exceptions) and just after I watched it I couldn\\'t recall a single significant melody - which is rather tragic coming from someone who learned the whole Another Hundred People from three listenings.<br /><br />It is also strangely un-theatrical. It takes place on an incredibly large stage (one really has to feel sorry for those people in front rows who broke their necks in order to see something happening 50 meters on the right or 100 meters on the left) and does absolutely nothing with it. When there\\'s supposed to be one person singing on-stage, that\\'s just what you get - and the rest of the enormeous stage is empty. For me as an aspiring theatre director it was almost painful to watch.<br /><br />The fact remains, Cole Porter seems to have captured the French culture in his works better than these no-talents can ever come close to. And I\\'m puzzled by the popularity of this would-be-legendary musical.\"',\n",
       "  '\"Does anyone else cry tears of joy when they watch this film? I LOVE it! One of my Top 10 films of all time. It just makes me feel good. I watch the closing production number with all the cast members over and over and over!!! Bebe Benson (Michelle Johnston) is THE babe of the film, IMHO! I never saw the play but I get angry when I read reviews that say the play was better than the film. The two are like apples and oranges. The film making process will seldom deliver a finished product that is faithful to the original work. I believe it\\'s only due to the fear of public alienation that many well known works adapted to the screen aren\\'t changed more than they are. This is a very good film, it is very satisfying. That\\'s all you need to know!\"'],\n",
       " [0, 1])"
      ]
     },
     "execution_count": 4,
     "metadata": {},
     "output_type": "execute_result"
    }
   ],
   "source": [
    "def get_minibatch(doc_stream, size):\n",
    "    docs, y = [], []\n",
    "    try: \n",
    "        for _ in range(size):\n",
    "            text, label = next(doc_stream)\n",
    "            docs.append(text)\n",
    "            y.append(label)\n",
    "    except StopIteration:\n",
    "        return None, None\n",
    "    return docs, y\n",
    "# test:\n",
    "get_minibatch(stream_docs(path='../data/imbd.csv.train'), size=2)\n",
    "get_minibatch(stream_docs(path='../data/imbd.csv.train'), size=2)"
   ]
  },
  {
   "cell_type": "code",
   "execution_count": 5,
   "metadata": {},
   "outputs": [
    {
     "data": {
      "text/plain": [
       "50000"
      ]
     },
     "execution_count": 5,
     "metadata": {},
     "output_type": "execute_result"
    }
   ],
   "source": [
    "np.random.seed(0)\n",
    "df1 = pd.read_csv('../data/imbd.csv.train')\n",
    "df2 = pd.read_csv('../data/imbd.csv.test')\n",
    "df  = df2.append(df1, ignore_index=True)\n",
    "df.reindex(np.random.permutation(df.index))\n",
    "df.to_csv('../data/imbd.csv', index=False)\n",
    "df.head()\n",
    "len(df)"
   ]
  },
  {
   "cell_type": "markdown",
   "metadata": {},
   "source": [
    "### Train"
   ]
  },
  {
   "cell_type": "code",
   "execution_count": 6,
   "metadata": {
    "collapsed": true
   },
   "outputs": [],
   "source": [
    "from sklearn.feature_extraction.text import HashingVectorizer\n",
    "from sklearn.linear_model import SGDClassifier"
   ]
  },
  {
   "cell_type": "code",
   "execution_count": 7,
   "metadata": {},
   "outputs": [],
   "source": [
    "vect = HashingVectorizer(decode_error='ignore',\n",
    "                         n_features=2**21,\n",
    "                         preprocessor=None,\n",
    "                         tokenizer=tokenizer)\n",
    "clf = SGDClassifier(loss='log', random_state=1, n_iter=1)\n",
    "doc_stream = stream_docs(path='../data/imbd.csv')"
   ]
  },
  {
   "cell_type": "code",
   "execution_count": 8,
   "metadata": {},
   "outputs": [
    {
     "name": "stderr",
     "output_type": "stream",
     "text": [
      "0% [##############################] 100% | ETA: 00:00:00\n",
      "Total time elapsed: 00:00:49\n"
     ]
    }
   ],
   "source": [
    "import pyprind\n",
    "pbar = pyprind.ProgBar(45)\n",
    "classes = np.array([0, 1])\n",
    "for _ in range(45):\n",
    "    X_train, y_train = get_minibatch(doc_stream, size=1000)\n",
    "    if not X_train:\n",
    "        break\n",
    "    X_train = vect.transform(X_train)\n",
    "    #print _, X_train\n",
    "    clf.partial_fit(X_train, y_train, classes=classes)\n",
    "    pbar.update()"
   ]
  },
  {
   "cell_type": "code",
   "execution_count": 9,
   "metadata": {},
   "outputs": [
    {
     "name": "stdout",
     "output_type": "stream",
     "text": [
      "Accuracy: 0.869\n"
     ]
    }
   ],
   "source": [
    "X_test, y_test = get_minibatch(doc_stream, size=5000)\n",
    "X_test = vect.transform(X_test)\n",
    "print 'Accuracy: %.3f'% clf.score(X_test, y_test)"
   ]
  },
  {
   "cell_type": "code",
   "execution_count": 10,
   "metadata": {},
   "outputs": [
    {
     "data": {
      "text/plain": [
       "SGDClassifier(alpha=0.0001, average=False, class_weight=None, epsilon=0.1,\n",
       "       eta0=0.0, fit_intercept=True, l1_ratio=0.15,\n",
       "       learning_rate='optimal', loss='log', n_iter=1, n_jobs=1,\n",
       "       penalty='l2', power_t=0.5, random_state=1, shuffle=True, verbose=0,\n",
       "       warm_start=False)"
      ]
     },
     "execution_count": 10,
     "metadata": {},
     "output_type": "execute_result"
    }
   ],
   "source": [
    "# Update the model with test data\n",
    "clf.partial_fit(X_test, y_test)"
   ]
  }
 ],
 "metadata": {
  "kernelspec": {
   "display_name": "Python 2",
   "language": "python",
   "name": "python2"
  },
  "language_info": {
   "codemirror_mode": {
    "name": "ipython",
    "version": 2
   },
   "file_extension": ".py",
   "mimetype": "text/x-python",
   "name": "python",
   "nbconvert_exporter": "python",
   "pygments_lexer": "ipython2",
   "version": "2.7.13"
  }
 },
 "nbformat": 4,
 "nbformat_minor": 2
}

{
 "cells": [
  {
   "cell_type": "markdown",
   "metadata": {},
   "source": [
    "# Example 1. Majority Votting Method\n",
    "---"
   ]
  },
  {
   "cell_type": "markdown",
   "metadata": {},
   "source": [
    "### 1. Ensemble error curve"
   ]
  },
  {
   "cell_type": "code",
   "execution_count": 1,
   "metadata": {
    "collapsed": true
   },
   "outputs": [],
   "source": [
    "import matplotlib.pyplot as plt\n",
    "import numpy as np\n",
    "import math\n",
    "from scipy.misc import comb"
   ]
  },
  {
   "cell_type": "code",
   "execution_count": 2,
   "metadata": {
    "collapsed": true
   },
   "outputs": [],
   "source": [
    "# the binomial error as target class is choosen\n",
    "def ensemble_error(n_classifier, error):\n",
    "    k_start = math.ceil(n_classifier/2.) \n",
    "    probs = [comb(n_classifier, k)*(error**k)*((1-error)**(n_classifier-k)) \n",
    "             for k in range(int(k_start), n_classifier+1)]\n",
    "    return sum(probs)"
   ]
  },
  {
   "cell_type": "code",
   "execution_count": 3,
   "metadata": {},
   "outputs": [
    {
     "data": {
      "text/plain": [
       "0.034327507019042969"
      ]
     },
     "execution_count": 3,
     "metadata": {},
     "output_type": "execute_result"
    }
   ],
   "source": [
    "ensemble_error(n_classifier=11, error=0.25)"
   ]
  },
  {
   "cell_type": "code",
   "execution_count": 4,
   "metadata": {
    "collapsed": true
   },
   "outputs": [],
   "source": [
    "error_range = np.arange(0., 1.01, 0.01)\n",
    "ens_errors = [ensemble_error(n_classifier=11, error=error) for error in error_range]"
   ]
  },
  {
   "cell_type": "code",
   "execution_count": 5,
   "metadata": {},
   "outputs": [
    {
     "data": {
      "image/png": "[encoded data removed]",
      "text/plain": [
       "<matplotlib.figure.Figure at 0x1138abd90>"
      ]
     },
     "metadata": {},
     "output_type": "display_data"
    }
   ],
   "source": [
    "plt.figure(figsize=(8,6))\n",
    "plt.plot(error_range, ens_errors,  label='Ensemble error', linewidth=2)\n",
    "plt.plot(error_range, error_range, label='Base error',     linewidth=2, linestyle='--')\n",
    "plt.xlabel('Base error')\n",
    "plt.ylabel('Base/Ensenble error')\n",
    "plt.legend(loc='upper left')\n",
    "plt.grid()\n",
    "plt.show()"
   ]
  },
  {
   "cell_type": "markdown",
   "metadata": {},
   "source": [
    "### 2. Iris example of aggregation\n",
    "#### 2.1. Import package and data"
   ]
  },
  {
   "cell_type": "code",
   "execution_count": 6,
   "metadata": {
    "collapsed": true
   },
   "outputs": [],
   "source": [
    "from sklearn import datasets\n",
    "from sklearn.model_selection import train_test_split\n",
    "from sklearn.preprocessing   import StandardScaler\n",
    "from sklearn.preprocessing   import LabelEncoder"
   ]
  },
  {
   "cell_type": "code",
   "execution_count": 7,
   "metadata": {
    "collapsed": true
   },
   "outputs": [],
   "source": [
    "le = LabelEncoder()\n",
    "iris = datasets.load_iris()\n",
    "X = iris.data[50:, [1,2]]\n",
    "y = le.fit_transform(iris.target[50:])\n",
    "X_train, X_test, y_train, y_test = train_test_split(X, y, test_size=0.5, random_state=1)"
   ]
  },
  {
   "cell_type": "markdown",
   "metadata": {},
   "source": [
    "#### 2.2. Train individual model"
   ]
  },
  {
   "cell_type": "code",
   "execution_count": 8,
   "metadata": {},
   "outputs": [],
   "source": [
    "from sklearn.model_selection import cross_val_score\n",
    "from sklearn.linear_model    import LogisticRegression\n",
    "from sklearn.tree            import DecisionTreeClassifier\n",
    "from sklearn.neighbors       import KNeighborsClassifier\n",
    "from sklearn.pipeline        import Pipeline\n",
    "from MajorityVoteClassifier  import *"
   ]
  },
  {
   "cell_type": "code",
   "execution_count": 9,
   "metadata": {},
   "outputs": [],
   "source": [
    "clf_labels = ['Logistic Regression', 'KNN', 'Decision Tree', 'Majority voting']\n",
    "clf1 = Pipeline([['sc',  StandardScaler()], \n",
    "                 ['clf', LogisticRegression(penalty='l2', C=0.001, random_state=0)]])\n",
    "clf2 = Pipeline([['sc',  StandardScaler()], \n",
    "                 ['clf', KNeighborsClassifier(n_neighbors=1, p=2, metric='minkowski')]])\n",
    "clf3 = DecisionTreeClassifier(max_depth=1, criterion='entropy', random_state=0)\n",
    "# Ensemble above classifiers by Majority Voting Method\n",
    "clf4 = MajorityVoteClassifier([clf1, clf2, clf3])"
   ]
  },
  {
   "cell_type": "code",
   "execution_count": 10,
   "metadata": {},
   "outputs": [
    {
     "name": "stdout",
     "output_type": "stream",
     "text": [
      "ROC AUC (10-fold x-val): 0.92 (+/- 0.20) [Logistic Regression]\n",
      "ROC AUC (10-fold x-val): 0.93 (+/- 0.10) [KNN]\n",
      "ROC AUC (10-fold x-val): 0.92 (+/- 0.15) [Decision Tree]\n",
      "ROC AUC (10-fold x-val): 0.97 (+/- 0.10) [Majority voting]\n"
     ]
    }
   ],
   "source": [
    "for clf, label in zip([clf1, clf2, clf3, clf4], clf_labels):\n",
    "    score = cross_val_score(estimator=clf, X=X_train, y=y_train, cv=10, scoring='roc_auc')\n",
    "    print 'ROC AUC (10-fold x-val): %.2f (+/- %.2f) [%s]'%(score.mean(), score.std(), label)"
   ]
  },
  {
   "cell_type": "code",
   "execution_count": null,
   "metadata": {
    "collapsed": true
   },
   "outputs": [],
   "source": []
  }
 ],
 "metadata": {
  "kernelspec": {
   "display_name": "Python 2",
   "language": "python",
   "name": "python2"
  },
  "language_info": {
   "codemirror_mode": {
    "name": "ipython",
    "version": 2
   },
   "file_extension": ".py",
   "mimetype": "text/x-python",
   "name": "python",
   "nbconvert_exporter": "python",
   "pygments_lexer": "ipython2",
   "version": "2.7.13"
  }
 },
 "nbformat": 4,
 "nbformat_minor": 2
}

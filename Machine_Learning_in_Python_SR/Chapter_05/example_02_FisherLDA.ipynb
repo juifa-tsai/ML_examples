{
 "cells": [
  {
   "cell_type": "markdown",
   "metadata": {},
   "source": [
    "# Example 2. Fisher's Linear Discriminant Analysis\n",
    "---"
   ]
  },
  {
   "cell_type": "markdown",
   "metadata": {},
   "source": [
    "### Main theory\n",
    "\n",
    "The another way of feature reduction is based on **supervisor** algorithm constracted with **PCA**. The alternative veiw of classification case of machine learning can be siad reducing the *N*-dimension feature vector, $x$, to *K*-dimension class vector, $y$, by the learned coefficient matrix, $W^T$. \n",
    "\n",
    "$$\n",
    "\\begin{equation}\n",
    "y=W^TX\\ ,\n",
    "\\end{equation}\n",
    "$$\n",
    "\n",
    "where the bias is ignored, and the $W^T$ can also be called **transfer (reduction) matrix** for our purpose.  However, the distributions of the classes are usually overlap in origin hyperspace and not distiguishiable. Thus, to separate classes, the distances of the mean between the classes $\\Delta m$ should be as big as possible, and the variance of each distribution within class $\\sigma_k$, $(k=1,\\,2,\\,...,\\,K)$, has to be small. \n",
    "\n",
    "![FishersLDADist](../doc/FishersLDADist.png)\n",
    "\n",
    "These conditions can be presented by two scatter (covariant) square matrixes, **within-class scatter matrix $S_W$** and **between-classes scatter matrix $S_B$** in **origin hyperspace**, and a target function defined as\n",
    "\n",
    "$$\n",
    "\\begin{equation}\n",
    "J(W)=\\frac{s_B}{s_W}=\\frac{WS_BW^T}{WS_WW^T}\\ ,\n",
    "\\end{equation}\n",
    "$$\n",
    "\n",
    "where $s_B$ and $s_W$ are the scalar factors which $W$ operates on $S_B$ and $S_W$ to **new (transfered) hyperspace**, respactively. The maximum of $J(W)$ is equivalent to find the idea solution of maximum of $s_B$ and minimum of $s_W$ in the transfered hyperspace. To obtain the maximum of $J(W)$, the correlation from first differentiation is set to zero with respect to $W$ is\n",
    "\n",
    "$$\n",
    "\\begin{equation}\n",
    "S_BW(W^TS_WW)-S_WW(W^TS_BW)=0\\ ,\n",
    "\\end{equation}\n",
    "$$\n",
    "\n",
    "where uses the correlation that scalar is under transfering, $s_B=s_B^T$, $s_W=s_W^T$ and $J(W)=J(W)^T$. With a little more efforts, we can have  \n",
    "\n",
    "$$\n",
    "\\begin{equation}\n",
    "(S_W^{-1}S_B)W=\\lambda W\\ ,\n",
    "\\end{equation}\n",
    "$$\n",
    "\n",
    "where $\\lambda=s_{w}^{-1}s_B$ is the eigenvalues of $S_W^{-1}S_B$, and it equivalent to the scalar value of target function J(W). The toppest eigenvalues can represent the maximum distinct class in transfered hyperspace. Thus, we can \n",
    "obtain the $W$ by caculating the eigenvectors of $S_W^{-1}S_B$ in origin hyperspace.\n",
    "\n",
    "---\n",
    "### Guassian distribution assumption\n",
    "\n",
    "However, to satisfy the above correlation between origin hyperspace and transfered hyperspace in $S_B$ and $S_W$, the Guassian distribution assumption is used for all classes, then they can be defined as\n",
    "\n",
    "$$\n",
    "\\begin{equation}\n",
    "\\begin{split}\n",
    "S_W&=\\sum^{K}_{k=1}{S_k}=\\sum^{K}_{k=1}{\\sum_{n\\in C_k}^{N_k}{(X_n-M_k)(X_n-M_k)^T}}\\ , \\\\\n",
    "S_B&=\\sum^{K}_{k=1}{N_k(M_k-M)(M_k-M)^T}\\ ,\n",
    "\\end{split}\n",
    "\\end{equation}\n",
    "$$\n",
    "\n",
    "where $S_B$ is derived by the correlation $S_T=S_W+S_W$ (see below), $S_T$ is the total covariant matrix of dataset defined as\n",
    "\n",
    "$$\n",
    "\\begin{equation}\n",
    "S_T=\\sum_{n}^{N}{(X_n-M)(X_n-M)^T}\\ . \\\\\n",
    "\\end{equation}\n",
    "$$\n",
    "\n",
    "$N_k$ is the number of data point in $k$ class; $m$ is the mean of total data set, and $m_k$ is the mean in $k$ class, which are defined as\n",
    "\n",
    "$$\n",
    "\\begin{equation}\n",
    "\\begin{split}\n",
    "&M_k= \\frac{1}{N_k}\\sum_{n\\in C_k}^{N_k}{X_n}\\ ,\\\\\n",
    "&M = \\frac{1}{N}\\sum_{n}^{N}{X_n}=\\frac{1}{N}\\sum_{k=1}^{K}\\sum_{n\\in C_k}^{N_k}{X_n}=\\frac{1}{N}\\sum_{k}^{N_k}{N_kM_k}\\ .\\\\\n",
    "\\end{split}\n",
    "\\end{equation}\n",
    "$$\n",
    "\n",
    "When $W$ applies to $M$ and $M_k$, i.e. projecting to transfered hyperspace, we assume to have scalar fectors as  \n",
    "\n",
    "$$\n",
    "\\begin{equation}\n",
    "\\begin{split}\n",
    "&m = W^TM \\ ,\\\\\n",
    "&m_k = W^TM_k\\ .\n",
    "\\end{split}\n",
    "\\end{equation}\n",
    "$$  \n",
    "\n",
    "Thus, the scalar factors, $s_W$ and $s_B$, can be obtained by appling $W$ to $S_W$ and $S_B$ as\n",
    "\n",
    "$$\n",
    "\\begin{equation}\n",
    "\\begin{split}\n",
    "W^TS_WW&=\\sum^{K}_{k=1}{\\sum_{n\\in C_k}^{N_k}{W^T(X_n-M_k)(X_n-M_k)^TW}} \\\\\n",
    "&=\\sum^{K}_{k=1}{\\sum_{n\\in C_k}^{N_k}{(y_n-m_k)(y_n-m_k)^T}}\\\\\n",
    "&=s_W\\ ,\n",
    "\\end{split}\n",
    "\\end{equation}\n",
    "$$\n",
    "\n",
    "$$\n",
    "\\begin{equation}\n",
    "\\begin{split}\n",
    "W^TS_BW&=\\sum^{K}_{k=1}{N_kW^T(M_k-M)(M_k-M)^TW} \\\\\n",
    "&=\\sum^{K}_{k=1}{N_k(m_k-m)(m_k-m)^T}\\\\ \n",
    "&=s_B\\ .\n",
    "\\end{split}\n",
    "\\end{equation}\n",
    "$$\n",
    "\n",
    "They do satisfy the correlation in the main theory's concept.\n",
    "\n",
    "---\n",
    "### Obtain $S_B$\n",
    "To obtain $S_B$ for the caculation of $S_W^{-1}S_B$ in multi-classification, we have to use the correlation of $S_T=S_W+S_W$. The expension of the equations are \n",
    "\n",
    "$$\n",
    "\\begin{equation}\n",
    "\\begin{split}\n",
    "S_T&=\\sum_{n}^{N}{(X_nX_n^T-X_nM^T-M^TX_n+MM^T)} \\\\\n",
    "S_w&=\\sum_{k=1}^{K}\\sum_{n\\in C_k}^{N_k}{(X_nX_n^T-X_nM_k^T-M_k^TX_n+M_kM_k^T)}\\ .\n",
    "\\end{split}\n",
    "\\end{equation}\n",
    "$$\n",
    "\n",
    "We replace the all the $\\sum$s to $\\sum_{k=1}^{K}$ by using the correlations\n",
    "\n",
    "$$\n",
    "\\begin{equation}\n",
    "\\begin{split}\n",
    "&\\sum_n^{N}{X_nX_n^T}=\\sum_{k=1}^{K}\\sum_{n\\in C_k}^{N_k}{X_nX_n^T}=\\sum_{k=1}^{K}{N_k^2M_kM_k^T}\\\\\n",
    "&\\sum_{k=1}^{K}\\sum_{n\\in C_k}^{N_k}{M_kM_k^T}=\\sum_{k=1}^{K}{N_kM_kM_k^T}\\\\\n",
    "&\\sum_{k=1}^{K}\\sum_{n\\in C_k}^{N_k}{X_nM_k^T}=\\sum_{k=1}^{K}{N_kMM_k^T}\\\\\n",
    "&\\sum_{n}^{N}{MM^T}=\\sum_{k=1}^{K}{N_kMM^T} \\\\\n",
    "&\\sum_{n}^{N}{X_nM^T}=\\sum_{k=1}^{K}{N_kM_kM^T}\\ .\\\\\n",
    "\\end{split}\n",
    "\\end{equation}\n",
    "$$\n",
    "\n",
    "Then equations of $S_W$ and $S_T$ can be simplified to\n",
    "\n",
    "\n",
    "$$\n",
    "\\begin{equation}\n",
    "\\begin{split}\n",
    "S_T&=\\sum_{k=1}^{K}{\\left[N_k^2M_kM_k^T+N_kMM^T-\\left(N_kM_kM^T+N_kMM_k^T\\right)\\right]} \\\\\n",
    "S_w&=\\sum_{k=1}^{K}{\\left[N_k^2M_kM_k^T+N_kM_kM_k^T-\\left(N_kM_kM_k^T+N_kM_kM_k^T\\right)\\right]}\\\\\n",
    "&=\\sum_{k=1}^{K}{\\left(N_k^2M_kM_k^T-N_kM_kM_k^T\\right)}\n",
    "\\end{split}\n",
    "\\end{equation}\n",
    "$$\n",
    "\n",
    "By implementing above simplied equations to $S_B=S_T-S_W$, and canceling the both first terms of $S_T$ and $S_W$, $S_B$ can be obtained\n",
    "\n",
    "\n",
    "$$\n",
    "\\begin{equation}\n",
    "\\begin{split}\n",
    "S_B&=\\sum_{k=1}^{K}{N_k\\left(M_kM_k^T-M_kM^T-MM_k^T+MM^T\\right)} \\\\\n",
    "&=\\sum_{k=1}^{K}{N_k(M_k-M)(M_k-M)^T}\\ .\n",
    "\\end{split}\n",
    "\\end{equation}\n",
    "$$"
   ]
  },
  {
   "cell_type": "markdown",
   "metadata": {},
   "source": [
    "### Import packages and data"
   ]
  },
  {
   "cell_type": "code",
   "execution_count": 1,
   "metadata": {
    "collapsed": true
   },
   "outputs": [],
   "source": [
    "import pandas as pd\n",
    "import numpy as np\n",
    "import matplotlib.pyplot as plt\n",
    "from plot_decision_regions import *\n",
    "from sklearn.model_selection import train_test_split\n",
    "from sklearn.preprocessing import StandardScaler"
   ]
  },
  {
   "cell_type": "code",
   "execution_count": 2,
   "metadata": {},
   "outputs": [
    {
     "data": {
      "text/html": [
       "<div>\n",
       "<style>\n",
       "    .dataframe thead tr:only-child th {\n",
       "        text-align: right;\n",
       "    }\n",
       "\n",
       "    .dataframe thead th {\n",
       "        text-align: left;\n",
       "    }\n",
       "\n",
       "    .dataframe tbody tr th {\n",
       "        vertical-align: top;\n",
       "    }\n",
       "</style>\n",
       "<table border=\"1\" class=\"dataframe\">\n",
       "  <thead>\n",
       "    <tr style=\"text-align: right;\">\n",
       "      <th></th>\n",
       "      <th>Class label</th>\n",
       "      <th>Alcohol</th>\n",
       "      <th>Malic acid</th>\n",
       "      <th>Ash</th>\n",
       "      <th>Alcalinity of ash</th>\n",
       "      <th>Magnesium</th>\n",
       "      <th>Total phenols</th>\n",
       "      <th>Flavanolds</th>\n",
       "      <th>Nonflavanoid phenols</th>\n",
       "      <th>Proanthocyanins</th>\n",
       "      <th>Color intensity</th>\n",
       "      <th>Hue</th>\n",
       "      <th>OD280/OD315 of diluted wines</th>\n",
       "      <th>Proline</th>\n",
       "    </tr>\n",
       "  </thead>\n",
       "  <tbody>\n",
       "    <tr>\n",
       "      <th>0</th>\n",
       "      <td>1</td>\n",
       "      <td>14.23</td>\n",
       "      <td>1.71</td>\n",
       "      <td>2.43</td>\n",
       "      <td>15.6</td>\n",
       "      <td>127</td>\n",
       "      <td>2.80</td>\n",
       "      <td>3.06</td>\n",
       "      <td>0.28</td>\n",
       "      <td>2.29</td>\n",
       "      <td>5.64</td>\n",
       "      <td>1.04</td>\n",
       "      <td>3.92</td>\n",
       "      <td>1065</td>\n",
       "    </tr>\n",
       "    <tr>\n",
       "      <th>1</th>\n",
       "      <td>1</td>\n",
       "      <td>13.20</td>\n",
       "      <td>1.78</td>\n",
       "      <td>2.14</td>\n",
       "      <td>11.2</td>\n",
       "      <td>100</td>\n",
       "      <td>2.65</td>\n",
       "      <td>2.76</td>\n",
       "      <td>0.26</td>\n",
       "      <td>1.28</td>\n",
       "      <td>4.38</td>\n",
       "      <td>1.05</td>\n",
       "      <td>3.40</td>\n",
       "      <td>1050</td>\n",
       "    </tr>\n",
       "    <tr>\n",
       "      <th>2</th>\n",
       "      <td>1</td>\n",
       "      <td>13.16</td>\n",
       "      <td>2.36</td>\n",
       "      <td>2.67</td>\n",
       "      <td>18.6</td>\n",
       "      <td>101</td>\n",
       "      <td>2.80</td>\n",
       "      <td>3.24</td>\n",
       "      <td>0.30</td>\n",
       "      <td>2.81</td>\n",
       "      <td>5.68</td>\n",
       "      <td>1.03</td>\n",
       "      <td>3.17</td>\n",
       "      <td>1185</td>\n",
       "    </tr>\n",
       "    <tr>\n",
       "      <th>3</th>\n",
       "      <td>1</td>\n",
       "      <td>14.37</td>\n",
       "      <td>1.95</td>\n",
       "      <td>2.50</td>\n",
       "      <td>16.8</td>\n",
       "      <td>113</td>\n",
       "      <td>3.85</td>\n",
       "      <td>3.49</td>\n",
       "      <td>0.24</td>\n",
       "      <td>2.18</td>\n",
       "      <td>7.80</td>\n",
       "      <td>0.86</td>\n",
       "      <td>3.45</td>\n",
       "      <td>1480</td>\n",
       "    </tr>\n",
       "    <tr>\n",
       "      <th>4</th>\n",
       "      <td>1</td>\n",
       "      <td>13.24</td>\n",
       "      <td>2.59</td>\n",
       "      <td>2.87</td>\n",
       "      <td>21.0</td>\n",
       "      <td>118</td>\n",
       "      <td>2.80</td>\n",
       "      <td>2.69</td>\n",
       "      <td>0.39</td>\n",
       "      <td>1.82</td>\n",
       "      <td>4.32</td>\n",
       "      <td>1.04</td>\n",
       "      <td>2.93</td>\n",
       "      <td>735</td>\n",
       "    </tr>\n",
       "  </tbody>\n",
       "</table>\n",
       "</div>"
      ],
      "text/plain": [
       "   Class label  Alcohol  Malic acid   Ash  Alcalinity of ash  Magnesium  \\\n",
       "0            1    14.23        1.71  2.43               15.6        127   \n",
       "1            1    13.20        1.78  2.14               11.2        100   \n",
       "2            1    13.16        2.36  2.67               18.6        101   \n",
       "3            1    14.37        1.95  2.50               16.8        113   \n",
       "4            1    13.24        2.59  2.87               21.0        118   \n",
       "\n",
       "   Total phenols  Flavanolds  Nonflavanoid phenols  Proanthocyanins  \\\n",
       "0           2.80        3.06                  0.28             2.29   \n",
       "1           2.65        2.76                  0.26             1.28   \n",
       "2           2.80        3.24                  0.30             2.81   \n",
       "3           3.85        3.49                  0.24             2.18   \n",
       "4           2.80        2.69                  0.39             1.82   \n",
       "\n",
       "   Color intensity   Hue  OD280/OD315 of diluted wines  Proline  \n",
       "0             5.64  1.04                          3.92     1065  \n",
       "1             4.38  1.05                          3.40     1050  \n",
       "2             5.68  1.03                          3.17     1185  \n",
       "3             7.80  0.86                          3.45     1480  \n",
       "4             4.32  1.04                          2.93      735  "
      ]
     },
     "execution_count": 2,
     "metadata": {},
     "output_type": "execute_result"
    }
   ],
   "source": [
    "df_wine = pd.read_csv('wine.data')\n",
    "df_wine.columns = ['Class label', 'Alcohol', 'Malic acid', 'Ash', \n",
    "                   'Alcalinity of ash', 'Magnesium', 'Total phenols', 'Flavanolds', \n",
    "                   'Nonflavanoid phenols', 'Proanthocyanins', 'Color intensity', \n",
    "                   'Hue', 'OD280/OD315 of diluted wines', 'Proline']\n",
    "\n",
    "X, y = df_wine.iloc[:, 1:].values, df_wine.iloc[:, 0].values\n",
    "X_train, X_test, y_train, y_test = train_test_split(X, y, test_size=.3, random_state=0)\n",
    "\n",
    "stdsc = StandardScaler()\n",
    "X_train_std = stdsc.fit_transform(X_train)\n",
    "X_test_std = stdsc.transform(X_test)\n",
    "\n",
    "df_wine.head()"
   ]
  },
  {
   "cell_type": "markdown",
   "metadata": {},
   "source": [
    "### 1. By Numpy"
   ]
  },
  {
   "cell_type": "markdown",
   "metadata": {},
   "source": [
    "#### 1.1. Means of classies $M_k$"
   ]
  },
  {
   "cell_type": "code",
   "execution_count": 3,
   "metadata": {},
   "outputs": [
    {
     "name": "stdout",
     "output_type": "stream",
     "text": [
      "MV 1: [ 0.9259 -0.3091  0.2592 -0.7989  0.3039  0.9608  1.0515 -0.6306  0.5354\n",
      "  0.2209  0.4855  0.798   1.2017]\n",
      "\n",
      "MV 2: [-0.8727 -0.3854 -0.4437  0.2481 -0.2409 -0.1059  0.0187 -0.0164  0.1095\n",
      " -0.8796  0.4392  0.2776 -0.7016]\n",
      "\n",
      "MV 3: [ 0.1637  0.8929  0.3249  0.5658 -0.01   -0.9499 -1.228   0.7436 -0.7652\n",
      "  0.979  -1.1698 -1.3007 -0.3912]\n",
      "\n"
     ]
    }
   ],
   "source": [
    "np.set_printoptions(precision=4) # set printed float digit \n",
    "mean_vecs = []\n",
    "for label in range(1,4):\n",
    "    mean_vecs.append(np.mean(X_train_std[y_train==label], axis=0))\n",
    "    print 'MV %s: %s\\n'%( label, mean_vecs[label-1] )"
   ]
  },
  {
   "cell_type": "markdown",
   "metadata": {},
   "source": [
    "##### 1.2. Scatter (convariance) matrix of witin-classes $S_W$"
   ]
  },
  {
   "cell_type": "markdown",
   "metadata": {},
   "source": [
    "$$\n",
    "\\begin{equation}\n",
    "S_W=\\sum_{k=1}^{K}\\sum_{n\\in C_k}^{N_k}{(X_n-M_k)(X_n-M_k)^T}\n",
    "\\end{equation}\n",
    "$$"
   ]
  },
  {
   "cell_type": "code",
   "execution_count": 4,
   "metadata": {},
   "outputs": [
    {
     "name": "stdout",
     "output_type": "stream",
     "text": [
      "Within-class scatter matrix: 13x13\n",
      "Class label distribution: [40 49 35]\n"
     ]
    }
   ],
   "source": [
    "# Standard way\n",
    "d = 13 # number of features\n",
    "S_W = np.zeros((d, d))\n",
    "\n",
    "for label, mv in zip(range(1, 4), mean_vecs):\n",
    "    class_scatter = np.zeros((d, d))\n",
    "    for row in X_train_std[y_train == label]:\n",
    "        row, mv = row.reshape(d, 1), mv.reshape(d, 1)\n",
    "        class_scatter += (row-mv).dot((row-mv).T)\n",
    "    S_W += class_scatter #S_W += class_scatter/np.bincount(y_train)[label] # nomalization by each type\n",
    "    \n",
    "print 'Within-class scatter matrix: %sx%s'%(S_W.shape[0], S_W.shape[1])\n",
    "print 'Class label distribution: %s'%(np.bincount(y_train)[1:])"
   ]
  },
  {
   "cell_type": "markdown",
   "metadata": {},
   "source": [
    "Since the distribution of data type is not uniform, so we must nomalize the **scatter matrix of categories** to unit. Then it is equivalent to **covariance matrix** as\n",
    "\n",
    "$$\n",
    "\\begin{equation}\n",
    "\\begin{split}\n",
    "S_{W,\\,nom}=\\sum_{k=1}^{k}\\frac{S_k}{N_k}\n",
    "&=\\sum_{k=1}^{K}{\\sum_{n\\in C_k}^{N_k}{\\frac{(X_n-M_k)(X_n-M_k)^T}{N_k}}} \\\\\n",
    "&=\\sum_{k=1}^{K}\\sigma_k \\\\\n",
    "&=\\sigma_W\\ .\n",
    "\\end{split}\n",
    "\\end{equation}\n",
    "$$"
   ]
  },
  {
   "cell_type": "code",
   "execution_count": 5,
   "metadata": {},
   "outputs": [
    {
     "name": "stdout",
     "output_type": "stream",
     "text": [
      "Scaled within-class scatter matrix: 13x13\n"
     ]
    }
   ],
   "source": [
    "# Equivalent simply way\n",
    "d = 13 # number of features\n",
    "S_W = np.zeros((d, d))\n",
    "for label in range(1, 4):\n",
    "    class_scatter = np.cov(X_train_std[y_train==label].T)\n",
    "    S_W += class_scatter\n",
    "print 'Scaled within-class scatter matrix: %sx%s'%(S_W.shape[0], S_W.shape[1])"
   ]
  },
  {
   "cell_type": "markdown",
   "metadata": {},
   "source": [
    "##### 1.3. Scatter matrix between classes $S_B$"
   ]
  },
  {
   "cell_type": "markdown",
   "metadata": {},
   "source": [
    "$$\n",
    "\\begin{equation}\n",
    "S_{B}=\\sum_{k=1}^{K}{N_k(M_k-M)(M_k-M)^T}\\ ,\n",
    "\\end{equation}\n",
    "$$\n",
    "\n",
    "where $m$ is the mean of total data. However, $m$ is zero for standarded data."
   ]
  },
  {
   "cell_type": "code",
   "execution_count": 6,
   "metadata": {},
   "outputs": [
    {
     "name": "stdout",
     "output_type": "stream",
     "text": [
      "Between-class scatter matrix: 13x13\n"
     ]
    }
   ],
   "source": [
    "mean_overall = np.mean(X_train_std, axis=0)\n",
    "d = 13 # number of features\n",
    "S_B = np.zeros((d, d))\n",
    "for i, mean_vec in enumerate(mean_vecs):\n",
    "    n = X_train[y_train==i+1, :].shape[0]\n",
    "    mean_vec = mean_vec.reshape(d, 1)\n",
    "    mean_overall = mean_overall.reshape(d, 1)\n",
    "    S_B += n * (mean_vec - mean_overall).dot((mean_vec - mean_overall).T)\n",
    "print 'Between-class scatter matrix: %sx%s'%(S_B.shape[0], S_B.shape[1])\n",
    "#mean_overall"
   ]
  },
  {
   "cell_type": "markdown",
   "metadata": {},
   "source": [
    "##### 1.4. Eigen values and vactors of $S_W^{-1}S_B$"
   ]
  },
  {
   "cell_type": "code",
   "execution_count": 7,
   "metadata": {},
   "outputs": [
    {
     "name": "stdout",
     "output_type": "stream",
     "text": [
      "Eigenvalues in decreasing order: \n",
      "\n",
      "452.721581245\n",
      "156.43636122\n",
      "7.05575044266e-14\n",
      "5.68434188608e-14\n",
      "3.41129233161e-14\n",
      "3.40797229523e-14\n",
      "3.40797229523e-14\n",
      "1.16775565372e-14\n",
      "1.16775565372e-14\n",
      "8.59477909861e-15\n",
      "8.59477909861e-15\n",
      "4.24523361436e-15\n",
      "2.6858909629e-15\n"
     ]
    }
   ],
   "source": [
    "eigen_vals, eigen_vecs = np.linalg.eig(np.linalg.inv(S_W).dot(S_B))\n",
    "eigen_pairs = [(np.abs(eigen_vals[i]), eigen_vecs[:, i]) for i in range(len(eigen_vals))]\n",
    "eigen_pairs = sorted(eigen_pairs, key=lambda k: k[0], reverse=True)\n",
    "print 'Eigenvalues in decreasing order: \\n'\n",
    "for eigen_val in eigen_pairs:\n",
    "    print eigen_val[0]"
   ]
  },
  {
   "cell_type": "code",
   "execution_count": 8,
   "metadata": {},
   "outputs": [
    {
     "data": {
      "image/png": "[encoded data removed]",
      "text/plain": [
       "<matplotlib.figure.Figure at 0x1159e4f10>"
      ]
     },
     "metadata": {},
     "output_type": "display_data"
    }
   ],
   "source": [
    "tot = sum(eigen_vals.real)\n",
    "discr = [(i/tot) for i in sorted(eigen_vals.real, reverse=True)]\n",
    "cum_discr = np.cumsum(discr)\n",
    "\n",
    "plt.figure(figsize=(8,6))\n",
    "plt.bar(range(1, 14), discr, alpha=0.5, align='center', label='individual \"discriminability\"')\n",
    "plt.step(range(1, 14), cum_discr, where='mid', label='cumulative \"discriminability\"')\n",
    "plt.ylabel('\"Discriminability\" ratio')\n",
    "plt.xlabel('Linear Discriminants')\n",
    "plt.ylim([-0.1, 1.1])\n",
    "plt.legend(loc='best')\n",
    "plt.show()"
   ]
  },
  {
   "cell_type": "markdown",
   "metadata": {},
   "source": [
    "Compare to [PCA](example_01_PCA.ipynb), the eigenvalue of **LDA** is much distiguishable and significant if the data can be projected to a line of an eigenspace, since **LDA** is supervisor algorithm but **PCA** is unsupervisor."
   ]
  },
  {
   "cell_type": "markdown",
   "metadata": {},
   "source": [
    "##### 1.5. Linear transform matrix $W$"
   ]
  },
  {
   "cell_type": "code",
   "execution_count": 9,
   "metadata": {},
   "outputs": [
    {
     "name": "stdout",
     "output_type": "stream",
     "text": [
      "Matrix W:\n",
      "[[-0.0662 -0.3797]\n",
      " [ 0.0386 -0.2206]\n",
      " [-0.0217 -0.3816]\n",
      " [ 0.184   0.3018]\n",
      " [-0.0034  0.0141]\n",
      " [ 0.2326  0.0234]\n",
      " [-0.7747  0.1869]\n",
      " [-0.0811  0.0696]\n",
      " [ 0.0875  0.1796]\n",
      " [ 0.185  -0.284 ]\n",
      " [-0.066   0.2349]\n",
      " [-0.3805  0.073 ]\n",
      " [-0.3285 -0.5971]]\n"
     ]
    }
   ],
   "source": [
    "w = np.hstack((eigen_pairs[0][1][:, np.newaxis].real,\n",
    "               eigen_pairs[1][1][:, np.newaxis].real))\n",
    "print 'Matrix W:\\n', w"
   ]
  },
  {
   "cell_type": "code",
   "execution_count": 10,
   "metadata": {},
   "outputs": [
    {
     "data": {
      "image/png": "[encoded data removed]",
      "text/plain": [
       "<matplotlib.figure.Figure at 0x10ac0af50>"
      ]
     },
     "metadata": {},
     "output_type": "display_data"
    }
   ],
   "source": [
    "X_train_lda = X_train_std.dot(w)\n",
    "colors  = ['r', 'b', 'g']\n",
    "markers = ['s', 'x', 'o']\n",
    "\n",
    "plt.figure(figsize=(8,6))\n",
    "for l, c, m in zip(np.unique(y_train), colors, markers):\n",
    "    plt.scatter(X_train_lda[y_train==l, 0], X_train_lda[y_train==l, 1], c=c, label=l, marker=m)\n",
    "plt.xlabel('LD 1')\n",
    "plt.ylabel('LD 2')\n",
    "plt.legend(loc='upper right')\n",
    "plt.show()"
   ]
  },
  {
   "cell_type": "markdown",
   "metadata": {},
   "source": [
    "### 2. By Scikit-learn & validation"
   ]
  },
  {
   "cell_type": "code",
   "execution_count": 11,
   "metadata": {
    "collapsed": true
   },
   "outputs": [],
   "source": [
    "#from sklearn.lda import LDA\n",
    "#lda = LDA(n_components=2)\n",
    "from sklearn.discriminant_analysis import LinearDiscriminantAnalysis\n",
    "lda = LinearDiscriminantAnalysis(n_components=2)\n",
    "X_train_lda = lda.fit_transform(X_train_std, y_train)"
   ]
  },
  {
   "cell_type": "code",
   "execution_count": 12,
   "metadata": {
    "collapsed": true
   },
   "outputs": [],
   "source": [
    "from sklearn.linear_model import LogisticRegression\n",
    "lr = LogisticRegression()\n",
    "lr = lr.fit(X_train_lda, y_train)"
   ]
  },
  {
   "cell_type": "code",
   "execution_count": 13,
   "metadata": {},
   "outputs": [
    {
     "data": {
      "image/png": "[encoded data removed]",
      "text/plain": [
       "<matplotlib.figure.Figure at 0x118a59d10>"
      ]
     },
     "metadata": {},
     "output_type": "display_data"
    }
   ],
   "source": [
    "plt.figure(figsize=(8,6))\n",
    "plot_decision_regions(X_train_lda, y_train, classifier=lr)\n",
    "plt.xlabel('LD 1')\n",
    "plt.ylabel('LD 2')\n",
    "plt.legend(loc='lower left')\n",
    "plt.show()"
   ]
  },
  {
   "cell_type": "code",
   "execution_count": 14,
   "metadata": {},
   "outputs": [
    {
     "data": {
      "image/png": "[encoded data removed]",
      "text/plain": [
       "<matplotlib.figure.Figure at 0x118a595d0>"
      ]
     },
     "metadata": {},
     "output_type": "display_data"
    }
   ],
   "source": [
    "X_test_lda = lda.transform(X_test_std)\n",
    "\n",
    "plt.figure(figsize=(8, 6))\n",
    "plot_decision_regions(X_test_lda, y_test, classifier=lr)\n",
    "plt.xlabel('LD 1')\n",
    "plt.ylabel('LD 2')\n",
    "plt.legend(loc='lower left')\n",
    "plt.show()"
   ]
  },
  {
   "cell_type": "code",
   "execution_count": null,
   "metadata": {
    "collapsed": true
   },
   "outputs": [],
   "source": []
  }
 ],
 "metadata": {
  "kernelspec": {
   "display_name": "Python 2",
   "language": "python",
   "name": "python2"
  },
  "language_info": {
   "codemirror_mode": {
    "name": "ipython",
    "version": 2
   },
   "file_extension": ".py",
   "mimetype": "text/x-python",
   "name": "python",
   "nbconvert_exporter": "python",
   "pygments_lexer": "ipython2",
   "version": "2.7.13"
  }
 },
 "nbformat": 4,
 "nbformat_minor": 2
}

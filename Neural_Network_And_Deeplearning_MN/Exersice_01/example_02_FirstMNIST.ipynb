{
 "cells": [
  {
   "cell_type": "markdown",
   "metadata": {},
   "source": [
    "# Example 2. First MNIST training\n",
    "---"
   ]
  },
  {
   "cell_type": "markdown",
   "metadata": {},
   "source": [
    "Basing on [Example 1.](example_01_mathNN.ipynb), we know the neural network, a certain complicated model, is possible to sovle the difficult problem. The common and well-studied example for machine learning is the recognition of the writting nubmer. Here we use the popular dataset MNIST for our first training of neural network. The neural network class is imported from [Network.py](Network.py). The method and function definition behind the network are listed in following. The \"***Sigmoid function***\" is used for *active function*, and the ***Mean square error (quadratic error)*** is used for *cost function*.\n",
    "\n",
    "#### 1. Active function - \"*Sigmoid function*\"\n",
    "\n",
    "$$\n",
    "\\boxed{\n",
    "a_{j}^{l}=\\sigma(z_j^l)=\\frac{1}{1+\\exp{(-z_{j}^{l})}}\\ }\\ ,\n",
    "$$\n",
    "\n",
    "where the detail properties can be found in [Machine Learning in Python/Chapter 3/Example 2](../../Machine_Learning_in_Python_SR/Chapter_03/example_02_LogisticRegression.ipynb). Due to the sigmoid function is used, the neuron is also called the ***Sigmoid Neuron***. The function is different to the **linear function** which can avoid the large input value from $z$, since sigmoid will limit the value between 1 and 0, when $z\\to\\infty$ and $z\\to-\\infty$, respectively. The first differential of *sigmoid function* is \n",
    "\n",
    "$$\n",
    "\\begin{split}\n",
    "\\sigma'(z_j^l)&=\\frac{\\exp(-z_j^l)}{\\left[1+\\exp{(-z_{j}^{l})}\\right]^2}\\\\\n",
    "&=\\sigma(z_j^l)-\\sigma(z_j^l)^2 \\\\\n",
    "&=a_{j}^{l}(1-a_{j}^{l}) .\n",
    "\\end{split}\n",
    "$$\n",
    "\n",
    "\n",
    "#### 2. Cost function - \"*Mean square error (quadratic error)*\"\n",
    "\n",
    "The *mean square error (quadratic error)* cost function for a single data is defined as \n",
    "\n",
    "$$\n",
    "\\boxed{\n",
    "C_x = \\frac{1}{2}\\left\\|a^{L}-y\\right\\|^2}\\ \\ ,\n",
    "$$\n",
    "\n",
    "where $n$ is the number of input data; Thus, the gradient of $C_x$ with respect to all neurons is \n",
    "\n",
    "$$\n",
    "\\nabla_aC_x=a^{L}-y\\ .\n",
    "$$\n",
    "\n",
    "#### 4. The equations of the backpropagation\n",
    "By replace the above used *active function* and *cost function*, the four equations of the backpropagation becomes\n",
    "\n",
    "$$\n",
    "\\boxed{\n",
    "\\begin{equation}\n",
    "\\begin{split}\n",
    "&\\delta^L&=(a^{L}-y)\\odot [a^{L}\\odot(1-a^{L})] \\\\\n",
    "&\\delta^l&=((\\mathbf{w}^{l+1})^\\text{T}\\delta^{l+1})\\odot[a^{l}\\odot(1-a^{l})] \\\\\n",
    "&\\Delta b_{j}^l&=-\\frac{\\eta}{n}\\sum_x\\delta_j^l \\\\\n",
    "&\\Delta w_{ji}^l&=-\\frac{\\eta}{n}\\sum_x a_i^{l-1}\\delta_j^l\\ ,\n",
    "\\end{split}\n",
    "\\end{equation}}\n",
    "$$\n",
    "\n",
    "where the variation of the weights and biases can be expended as\n",
    "\n",
    "$$\n",
    "\\begin{equation}\n",
    "\\begin{split}\n",
    "&\\Delta b_{j}^l&=-\\frac{\\eta}{n}\\sum_x \\left(\\left(\\left(\\left(\\mathbf{w}_j^{l+1}\\right)^\\text{T}\\mathbf{w}_j^{l+2}\\right)^\\text{T}\\dots\\mathbf{w}_j^{L}\\right)^\\text{T}\\delta_j^L\\right)\\,a_j^{L-1}(1-a_j^{L-1})\\dots\\,a_j^{l+1}(1-a_j^{l+1})\\,a_j^{l}(1-a_j^{l})\\\\\n",
    "&\\Delta w_{ji}^l&=-\\frac{\\eta}{n}\\sum_x a_i^{l-1}\\,\\left(\\left(\\left(\\left(\\mathbf{w}_j^{l+1}\\right)^\\text{T}\\mathbf{w}_j^{l+2}\\right)^\\text{T}\\dots\\mathbf{w}_j^{L}\\right)^\\text{T}\\delta_j^L\\right)\\,a_j^{L-1}(1-a_j^{L-1})\\dots\\,a_j^{l+1}(1-a_j^{l+1})\\,a_j^{l}(1-a_j^{l})\\ .\n",
    "\\end{split}\n",
    "\\end{equation}\n",
    "$$\n"
   ]
  },
  {
   "cell_type": "markdown",
   "metadata": {},
   "source": [
    "### Import packages and MNIST data"
   ]
  },
  {
   "cell_type": "code",
   "execution_count": 1,
   "metadata": {
    "collapsed": true
   },
   "outputs": [],
   "source": [
    "import matplotlib.pyplot as plt\n",
    "import numpy as np\n",
    "import sys, math\n",
    "sys.path.insert(1,'../'); #print sys.path # To import mist_load\n",
    "from mnist_loader import *\n",
    "from Network import *"
   ]
  },
  {
   "cell_type": "code",
   "execution_count": 2,
   "metadata": {
    "collapsed": true
   },
   "outputs": [],
   "source": [
    "training_data, validation_data, test_data = load_data_wapper('../data/mnist.pkl.gz')\n",
    "n_imgs_train = np.shape(training_data)[0]\n",
    "n_imgs_val   = np.shape(validation_data)[0]\n",
    "n_imgs_test  = np.shape(test_data)[0]\n",
    "n_pixels     = len(training_data[0][0])\n",
    "n_class      = len(training_data[0][1])"
   ]
  },
  {
   "cell_type": "code",
   "execution_count": 3,
   "metadata": {},
   "outputs": [
    {
     "name": "stdout",
     "output_type": "stream",
     "text": [
      "Number of training images   50000\n",
      "Number of validation images 10000\n",
      "Number of test images       10000\n",
      "Number of pixels            784\n",
      "Number of class             10\n"
     ]
    }
   ],
   "source": [
    "print 'Number of training images   %d'%( n_imgs_train )\n",
    "print 'Number of validation images %d'%( n_imgs_val )\n",
    "print 'Number of test images       %d'%( n_imgs_test )\n",
    "print 'Number of pixels            %d'% n_pixels\n",
    "print 'Number of class             %d'% n_class"
   ]
  },
  {
   "cell_type": "code",
   "execution_count": 4,
   "metadata": {},
   "outputs": [
    {
     "data": {
      "image/png": "[encoded data removed]",
      "text/plain": [
       "<matplotlib.figure.Figure at 0x10b8e1810>"
      ]
     },
     "metadata": {},
     "output_type": "display_data"
    }
   ],
   "source": [
    "n_shows = 20\n",
    "fig = plt.figure(figsize=(25,5))\n",
    "for i in range(0,n_shows):\n",
    "    X = training_data[i][0]\n",
    "    fig.add_subplot( math.ceil(n_shows/10), 10, i+1)\n",
    "    plt.imshow(X.reshape(28,28), cmap ='binary')\n",
    "plt.show()"
   ]
  },
  {
   "cell_type": "markdown",
   "metadata": {},
   "source": [
    "### Fist training of MNIST"
   ]
  },
  {
   "cell_type": "code",
   "execution_count": 5,
   "metadata": {
    "collapsed": true
   },
   "outputs": [],
   "source": [
    "n_hidenLayer = 30\n",
    "net = Network([n_pixels, n_hidenLayer, n_class])"
   ]
  },
  {
   "cell_type": "code",
   "execution_count": 6,
   "metadata": {},
   "outputs": [
    {
     "name": "stdout",
     "output_type": "stream",
     "text": [
      "Epoch 0: 8251/10000, 8.76563000679 (sec)\n",
      "Epoch 1: 8404/10000, 8.7538690567 (sec)\n",
      "Epoch 2: 8459/10000, 9.09202313423 (sec)\n",
      "Epoch 3: 9316/10000, 9.24471902847 (sec)\n",
      "Epoch 4: 9357/10000, 9.26858496666 (sec)\n",
      "Epoch 5: 9402/10000, 8.80669808388 (sec)\n",
      "Epoch 6: 9445/10000, 9.01776909828 (sec)\n",
      "Epoch 7: 9445/10000, 8.67899179459 (sec)\n",
      "Epoch 8: 9468/10000, 8.68553709984 (sec)\n",
      "Epoch 9: 9441/10000, 8.74201202393 (sec)\n",
      "Epoch 10: 9493/10000, 8.67803692818 (sec)\n",
      "Epoch 11: 9474/10000, 8.76237010956 (sec)\n",
      "Epoch 12: 9487/10000, 8.66551113129 (sec)\n",
      "Epoch 13: 9470/10000, 9.53646087646 (sec)\n",
      "Epoch 14: 9469/10000, 8.67109704018 (sec)\n",
      "Epoch 15: 9495/10000, 8.6707918644 (sec)\n",
      "Epoch 16: 9478/10000, 8.67296004295 (sec)\n",
      "Epoch 17: 9487/10000, 8.64810705185 (sec)\n",
      "Epoch 18: 9487/10000, 9.01386880875 (sec)\n",
      "Epoch 19: 9503/10000, 9.21190094948 (sec)\n",
      "Epoch 20: 9497/10000, 8.65803599358 (sec)\n",
      "Epoch 21: 9504/10000, 8.69067597389 (sec)\n",
      "Epoch 22: 9488/10000, 8.64851307869 (sec)\n",
      "Epoch 23: 9489/10000, 8.75530791283 (sec)\n",
      "Epoch 24: 9521/10000, 8.98808598518 (sec)\n",
      "Epoch 25: 9489/10000, 9.20626115799 (sec)\n",
      "Epoch 26: 9516/10000, 8.83771681786 (sec)\n",
      "Epoch 27: 9509/10000, 8.66513299942 (sec)\n",
      "Epoch 28: 9483/10000, 8.67112803459 (sec)\n",
      "Epoch 29: 9518/10000, 9.02666497231 (sec)\n",
      "Took 266 (sec)\n"
     ]
    }
   ],
   "source": [
    "epochs = 30\n",
    "mini_batch_size = 10\n",
    "net.SGD(training_data, \n",
    "        epochs=epochs, \n",
    "        mini_batch_size=mini_batch_size, \n",
    "        eta=3.0,\n",
    "        test_data=test_data)"
   ]
  },
  {
   "cell_type": "code",
   "execution_count": null,
   "metadata": {
    "collapsed": true
   },
   "outputs": [],
   "source": []
  }
 ],
 "metadata": {
  "kernelspec": {
   "display_name": "Python 2",
   "language": "python",
   "name": "python2"
  },
  "language_info": {
   "codemirror_mode": {
    "name": "ipython",
    "version": 2
   },
   "file_extension": ".py",
   "mimetype": "text/x-python",
   "name": "python",
   "nbconvert_exporter": "python",
   "pygments_lexer": "ipython2",
   "version": "2.7.13"
  }
 },
 "nbformat": 4,
 "nbformat_minor": 2
}
